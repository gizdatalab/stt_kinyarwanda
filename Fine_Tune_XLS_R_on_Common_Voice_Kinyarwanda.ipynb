{
  "cells": [
    {
      "cell_type": "markdown",
      "metadata": {
        "id": "LBSYoWbi-45k"
      },
      "source": [
        "# **Fine-tuning XLS-R for Multi-Lingual ASR with 🤗 Transformers**\n",
        "\n",
        "***New (11/2021)***: *This blog post has been updated to feature XLSR's successor, called [XLS-R](https://huggingface.co/models?other=xls_r)*."
      ]
    },
    {
      "cell_type": "markdown",
      "metadata": {
        "id": "V7YOT2mnUiea"
      },
      "source": [
        "**Wav2Vec2** is a pretrained model for Automatic Speech Recognition (ASR) and was released in [September 2020](https://ai.facebook.com/blog/wav2vec-20-learning-the-structure-of-speech-from-raw-audio/) by *Alexei Baevski, Michael Auli, and Alex Conneau*.  Soon after the superior performance of Wav2Vec2 was demonstrated on one of the most popular English datasets for ASR, called [LibriSpeech](https://huggingface.co/datasets/librispeech_asr), *Facebook AI* presented a multi-lingual version of Wav2Vec2, called [XLSR](https://arxiv.org/abs/2006.13979). XLSR stands for *cross-lingual speech representations* and refers to model's ability to learn speech representations that are useful across multiple languages.\n",
        "\n",
        "XLSR's successor, simply called **XLS-R** (refering to the [*''XLM-R*](https://ai.facebook.com/blog/-xlm-r-state-of-the-art-cross-lingual-understanding-through-self-supervision/) *for Speech''*), was released in [November 2021](https://ai.facebook.com/blog/xls-r-self-supervised-speech-processing-for-128-languages) by *Arun Babu, Changhan Wang, Andros Tjandra, et al.* XLS-R used almost **half a million** hours of audio data in 128 languages for self-supervised pre-training and comes in sizes ranging from 300 milion up to **two billion** parameters. You can find the pretrained checkpoints on the 🤗 Hub:\n",
        "\n",
        "- [**Wav2Vec2-XLS-R-300M**](https://huggingface.co/facebook/wav2vec2-xls-r-300m)\n",
        "- [**Wav2Vec2-XLS-R-1B**](https://huggingface.co/facebook/wav2vec2-xls-r-1b)\n",
        "- [**Wav2Vec2-XLS-R-2B**](https://huggingface.co/facebook/wav2vec2-xls-r-2b)\n",
        "\n",
        "Similar to [BERT's masked language modeling objective](http://jalammar.github.io/illustrated-bert/), XLS-R learns contextualized speech representations by randomly masking feature vectors before passing them to a transformer network during self-supervised pre-training (*i.e.* diagram on the left below). \n",
        "\n",
        "For fine-tuning, a single linear layer is added on top of the pre-trained network to train the model on labeled data of audio downstream tasks such as speech recognition, speech translation and audio classification (*i.e.* diagram on the right below).\n",
        "\n",
        "![wav2vec2_structure](https://raw.githubusercontent.com/patrickvonplaten/scientific_images/master/xls_r.png)\n",
        "\n",
        "XLS-R shows impressive improvements over previous state-of-the-art results on both speech recognition, speech translation and speaker/language identification, *cf.* with Table 3-6, Table 7-10, and Table 11-12 respectively of the official [paper](https://ai.facebook.com/blog/xls-r-self-supervised-speech-processing-for-128-languages)."
      ]
    },
    {
      "cell_type": "markdown",
      "metadata": {
        "id": "nT_QrfWtsxIz"
      },
      "source": [
        "## Notebook Setup"
      ]
    },
    {
      "cell_type": "markdown",
      "metadata": {
        "id": "kruqixOYHaIo"
      },
      "source": [
        "\n",
        "In this notebook, we will give an in-detail explanation of how XLS-R - more specifically the pre-trained checkpoint [**Wav2Vec2-XLS-R-300M**](https://huggingface.co/facebook/wav2vec2-xls-r-300m) - can be fine-tuned for ASR.  \n",
        "\n",
        "For demonstration purposes, we fine-tune the model on the low resource ASR dataset of [Common Voice](https://huggingface.co/datasets/common_voice) that contains only *ca.* 4h of validated training data."
      ]
    },
    {
      "cell_type": "markdown",
      "metadata": {
        "id": "Gx9OdDYrCtQ1"
      },
      "source": [
        "XLS-R is fine-tuned using Connectionist Temporal Classification (CTC), which is an algorithm that is used to train neural networks for sequence-to-sequence problems, such as ASR and handwriting recognition. \n",
        "\n",
        "I highly recommend reading the well-written blog post [*Sequence Modeling with CTC (2017)*](https://distill.pub/2017/ctc/) by Awni Hannun."
      ]
    },
    {
      "cell_type": "markdown",
      "metadata": {
        "id": "wcHuXIaWyHZU"
      },
      "source": [
        "First, let's try to get a good GPU in our colab! With Google Colab's free version it's sadly becoming much harder to get access to a good GPU. With Google Colab Pro, however, one should easily get either a V100 or P100 GPU."
      ]
    },
    {
      "cell_type": "code",
      "execution_count": null,
      "metadata": {
        "colab": {
          "base_uri": "https://localhost:8080/"
        },
        "id": "YELVqGxMxnbG",
        "outputId": "0f9d7392-acfd-4e8a-8d8c-59fb3dd90f5d"
      },
      "outputs": [
        {
          "name": "stdout",
          "output_type": "stream",
          "text": [
            "Thu Jun  2 17:31:40 2022       \n",
            "+-----------------------------------------------------------------------------+\n",
            "| NVIDIA-SMI 460.32.03    Driver Version: 460.32.03    CUDA Version: 11.2     |\n",
            "|-------------------------------+----------------------+----------------------+\n",
            "| GPU  Name        Persistence-M| Bus-Id        Disp.A | Volatile Uncorr. ECC |\n",
            "| Fan  Temp  Perf  Pwr:Usage/Cap|         Memory-Usage | GPU-Util  Compute M. |\n",
            "|                               |                      |               MIG M. |\n",
            "|===============================+======================+======================|\n",
            "|   0  Tesla V100-SXM2...  Off  | 00000000:00:04.0 Off |                    0 |\n",
            "| N/A   35C    P0    23W / 300W |      0MiB / 16160MiB |      0%      Default |\n",
            "|                               |                      |                  N/A |\n",
            "+-------------------------------+----------------------+----------------------+\n",
            "                                                                               \n",
            "+-----------------------------------------------------------------------------+\n",
            "| Processes:                                                                  |\n",
            "|  GPU   GI   CI        PID   Type   Process name                  GPU Memory |\n",
            "|        ID   ID                                                   Usage      |\n",
            "|=============================================================================|\n",
            "|  No running processes found                                                 |\n",
            "+-----------------------------------------------------------------------------+\n"
          ]
        }
      ],
      "source": [
        "gpu_info = !nvidia-smi\n",
        "gpu_info = '\\n'.join(gpu_info)\n",
        "if gpu_info.find('failed') >= 0:\n",
        "  print('Not connected to a GPU')\n",
        "else:\n",
        "  print(gpu_info)"
      ]
    },
    {
      "cell_type": "markdown",
      "metadata": {
        "id": "e335hPmdtASZ"
      },
      "source": [
        "Before we start, let's install `datasets` and `transformers`. Also, we need the `torchaudio` to load audio files and `jiwer` to evaluate our fine-tuned model using the [word error rate (WER)](https://huggingface.co/metrics/wer) metric ${}^1$."
      ]
    },
    {
      "cell_type": "code",
      "execution_count": null,
      "metadata": {
        "id": "c8eh87Hoee5d"
      },
      "outputs": [],
      "source": [
        "%%capture\n",
        "!pip install datasets==1.18.3\n",
        "!pip install transformers==4.11.3\n",
        "!pip install torchaudio==0.10.0+cu113 -f https://download.pytorch.org/whl/cu113/torch_stable.html\n",
        "!pip install jiwer"
      ]
    },
    {
      "cell_type": "markdown",
      "metadata": {
        "id": "0xxt_LwxDQlO"
      },
      "source": [
        "We strongly suggest to upload your training checkpoints directly to the [🤗 Hub](https://huggingface.co/) while training. The [🤗 Hub](https://huggingface.co/) has integrated version control so you can be sure that no model checkpoint is getting lost during training. \n",
        "\n",
        "To do so you have to store your authentication token from the Hugging Face website (sign up [here](https://huggingface.co/join) if you haven't already!)"
      ]
    },
    {
      "cell_type": "code",
      "execution_count": null,
      "metadata": {
        "colab": {
          "base_uri": "https://localhost:8080/",
          "height": 443
        },
        "id": "mlMSH3T3EazV",
        "outputId": "b7d019f4-7fa8-45cb-c250-8466fe30659d"
      },
      "outputs": [
        {
          "name": "stdout",
          "output_type": "stream",
          "text": [
            "Login successful\n",
            "Your token has been saved to /root/.huggingface/token\n",
            "\u001b[1m\u001b[31mAuthenticated through git-credential store but this isn't the helper defined on your machine.\n",
            "You might have to re-authenticate when pushing to the Hugging Face Hub. Run the following command in your terminal in case you want to set this credential helper as the default\n",
            "\n",
            "git config --global credential.helper store\u001b[0m\n"
          ]
        }
      ],
      "source": [
        "from huggingface_hub import notebook_login\n",
        "\n",
        "notebook_login()"
      ]
    },
    {
      "cell_type": "markdown",
      "metadata": {
        "id": "ujdZ2TxhElk6"
      },
      "source": [
        "\n",
        "Then you need to install Git-LFS to upload your model checkpoints:"
      ]
    },
    {
      "cell_type": "code",
      "execution_count": null,
      "metadata": {
        "id": "WcR-d83OEkqb"
      },
      "outputs": [],
      "source": [
        "%%capture\n",
        "!apt install git-lfs"
      ]
    },
    {
      "cell_type": "markdown",
      "metadata": {
        "id": "Mn9swf6EQ9Vd"
      },
      "source": [
        "\n",
        "\n",
        "\n",
        "---\n",
        "\n",
        "${}^1$ In the [paper](https://arxiv.org/pdf/2006.13979.pdf), the model was evaluated using the phoneme error rate (PER), but by far the most common metric in ASR is the word error rate (WER). To keep this notebook as general as possible we decided to evaluate the model using WER."
      ]
    },
    {
      "cell_type": "markdown",
      "metadata": {
        "id": "0mW-C1Nt-j7k"
      },
      "source": [
        "## Prepare Data, Tokenizer, Feature Extractor"
      ]
    },
    {
      "cell_type": "markdown",
      "metadata": {
        "id": "BeBosnY9BH3e"
      },
      "source": [
        "ASR models transcribe speech to text, which means that we both need a feature extractor that processes the speech signal to the model's input format, *e.g.* a feature vector, and a tokenizer that processes the model's output format to text. \n",
        "\n",
        "In 🤗 Transformers, the XLS-R model is thus accompanied by both a tokenizer, called [Wav2Vec2CTCTokenizer](https://huggingface.co/transformers/master/model_doc/wav2vec2.html#wav2vec2ctctokenizer), and a feature extractor, called [Wav2Vec2FeatureExtractor](https://huggingface.co/transformers/master/model_doc/wav2vec2.html#wav2vec2featureextractor).\n",
        "\n",
        "Let's start by creating the tokenizer to decode the predicted output classes to the output transcription."
      ]
    },
    {
      "cell_type": "markdown",
      "metadata": {
        "id": "sEXEWEJGQPqD"
      },
      "source": [
        "### Create `Wav2Vec2CTCTokenizer`"
      ]
    },
    {
      "cell_type": "markdown",
      "metadata": {
        "id": "tWmMikuNEKl_"
      },
      "source": [
        "A pre-trained XLS-R model maps the speech signal to a sequence of context representations as illustrated in the figure above. However, for speech recognition the model has to to map this sequence of context representations to its corresponding transcription which means that a linear layer has to be added on top of the transformer block (shown in yellow in the diagram above). This linear layer is used to classifies each context representation to a token class analogous how, *e.g.*, after pretraining a linear layer is added on top of BERT's embeddings for further classification - *cf.* with *'BERT'* section of this [blog post](https://huggingface.co/blog/warm-starting-encoder-decoder)."
      ]
    },
    {
      "cell_type": "markdown",
      "metadata": {
        "id": "v5oRE8XjIUH3"
      },
      "source": [
        "The output size of this layer corresponds to the number of tokens in the vocabulary, which does **not** depend onXLS-R's pretraining task, but only on the labeled dataset used for fine-tuning. So in the first step, we will take a look at the chosen dataset of Common Voice and define a vocabulary based on the transcriptions."
      ]
    },
    {
      "cell_type": "markdown",
      "metadata": {
        "id": "idBczw8mWzgt"
      },
      "source": [
        "First, let's go to Common Voice [official website](https://commonvoice.mozilla.org/en/datasets) and pick a language to fine-tune XLS-R on. For this notebook, we will use Turkish. \n",
        "\n",
        "For each language-specific dataset, you can find a language code corresponding to your chosen language. On [Common Voice](https://commonvoice.mozilla.org/en/datasets), look for the field \"Version\". The language code then corresponds to the prefix before the underscore. For Turkish, *e.g.* the language code is `\"tr\"`.\n",
        "\n",
        "Great, now we can use 🤗 Datasets' simple API to download the data. The dataset name is `\"common_voice\"`, the configuration name corresponds to the language code, which is `\"tr\"` in our case."
      ]
    },
    {
      "cell_type": "markdown",
      "metadata": {
        "id": "bee4g9rpLxll"
      },
      "source": [
        "Common Voice has many different splits including `invalidated`, which refers to data that was not rated as \"clean enough\" to be considered useful. In this notebook, we will only make use of the splits `\"train\"`, `\"validation\"` and `\"test\"`. \n",
        "\n",
        "Because the Turkish dataset is so small, we will merge both the validation and training data into a training dataset and only use the test data for validation."
      ]
    },
    {
      "cell_type": "code",
      "execution_count": null,
      "metadata": {
        "colab": {
          "background_save": true,
          "base_uri": "https://localhost:8080/",
          "height": 150,
          "referenced_widgets": [
            "e1e2d4e71e814b7090cecc3bed098406",
            "155368436c8b4e488c13056f35df45a0",
            "16bfab5402464143baa363fbb5585a2c",
            "0b5d78dbd27743d393e35b51c4ef0807",
            "eb7b8b3afcb448a49c826a9fdb8cafbb",
            "126f9d26731b4ef0979c8623f7ab04da",
            "2f04fcf77e2940d2b90dc0c42f400f32",
            "b2a1cfdba2e9439f8e41c1b5034d240b",
            "f31c3b720f0e43588228c3b15f4a7c23",
            "ae663370a2eb42a3a9d566e4217fcc7b",
            "0da7e627c5f640af99f903598243e583",
            "8bfe1e3231394561b407aaf560d6bcbf",
            "7a56892a4eb74da198e2d5b4cff2d666",
            "e1799a319df24ce0aa47e2cf4b44dd58",
            "475d9cfa2c1845c38214c8cf14eeb355",
            "7769e280b4a94f109deb590376f74ad2",
            "afa4b36937944f12a206a0175aac7eec",
            "c7844dead6c44042a21646455012e7a3",
            "da6e267d22d84481af0da1ab1976fda4",
            "1d8095b6d5ef47148a404c57a7210d4f",
            "a1499881ea1f467b8f66e563ff6cfa92",
            "63388ce18d844ff8b7e3e9bfa8653e32",
            "1601675352024cfd8c4912f5e88a88bb",
            "1e0e7b8757a742f7a583e2a24bad2cd7",
            "30bca15493dd41e092182fb5e2feaf21",
            "df05c995046546fda4188a70780ffe64",
            "221867b6902347eb84d24233824e5d07",
            "374b72ec112a42d682108e7d35f65497",
            "d52d383ccad54e308002c2a612366630",
            "1cc539874c994611aed81b23ee94ce60",
            "97838765a2b948a7ac9016a0dd6d8113",
            "280c81c762e846ccb22f40e1cf9a5fa6",
            "412fc94db92e44e8a8a8c99dc5c663fc",
            "1007a04f9f564957b31599600928536e",
            "dd8a425323ff4e0c8eb3b22f33d1abc9",
            "da455fd06d8e4e19b6ee1c587d2aea1b",
            "1cb624a6bea74f15ae7d8a7765e6467c",
            "5804e5185a464c86b5fe8b9a79b4838c"
          ]
        },
        "id": "2MMXcWFFgCXU",
        "outputId": "73876061-4c01-4074-ef34-06254e432489"
      },
      "outputs": [
        {
          "data": {
            "application/vnd.jupyter.widget-view+json": {
              "model_id": "e1e2d4e71e814b7090cecc3bed098406",
              "version_major": 2,
              "version_minor": 0
            },
            "text/plain": [
              "Downloading:   0%|          | 0.00/4.62k [00:00<?, ?B/s]"
            ]
          },
          "metadata": {},
          "output_type": "display_data"
        },
        {
          "data": {
            "application/vnd.jupyter.widget-view+json": {
              "model_id": "8bfe1e3231394561b407aaf560d6bcbf",
              "version_major": 2,
              "version_minor": 0
            },
            "text/plain": [
              "Downloading:   0%|          | 0.00/10.7k [00:00<?, ?B/s]"
            ]
          },
          "metadata": {},
          "output_type": "display_data"
        },
        {
          "name": "stdout",
          "output_type": "stream",
          "text": [
            "Downloading and preparing dataset common_voice/rw (download: 39.62 GiB, generated: 29.75 GiB, post-processed: Unknown size, total: 69.37 GiB) to /root/.cache/huggingface/datasets/common_voice/rw/6.1.0/5693bfc0feeade582a78c2fb250bc88f52bd86f0a7f1bb22bfee67e715de30fd...\n"
          ]
        },
        {
          "data": {
            "application/vnd.jupyter.widget-view+json": {
              "model_id": "1601675352024cfd8c4912f5e88a88bb",
              "version_major": 2,
              "version_minor": 0
            },
            "text/plain": [
              "Downloading:   0%|          | 0.00/42.5G [00:00<?, ?B/s]"
            ]
          },
          "metadata": {},
          "output_type": "display_data"
        },
        {
          "data": {
            "application/vnd.jupyter.widget-view+json": {
              "model_id": "1007a04f9f564957b31599600928536e",
              "version_major": 2,
              "version_minor": 0
            },
            "text/plain": [
              "0 examples [00:00, ? examples/s]"
            ]
          },
          "metadata": {},
          "output_type": "display_data"
        },
        {
          "data": {
            "application/vnd.jupyter.widget-view+json": {
              "model_id": "dd8a425323ff4e0c8eb3b22f33d1abc9",
              "version_major": 2,
              "version_minor": 0
            },
            "text/plain": [
              "0 examples [00:00, ? examples/s]"
            ]
          },
          "metadata": {},
          "output_type": "display_data"
        },
        {
          "data": {
            "application/vnd.jupyter.widget-view+json": {
              "model_id": "da455fd06d8e4e19b6ee1c587d2aea1b",
              "version_major": 2,
              "version_minor": 0
            },
            "text/plain": [
              "0 examples [00:00, ? examples/s]"
            ]
          },
          "metadata": {},
          "output_type": "display_data"
        },
        {
          "data": {
            "application/vnd.jupyter.widget-view+json": {
              "model_id": "1cb624a6bea74f15ae7d8a7765e6467c",
              "version_major": 2,
              "version_minor": 0
            },
            "text/plain": [
              "0 examples [00:00, ? examples/s]"
            ]
          },
          "metadata": {},
          "output_type": "display_data"
        },
        {
          "data": {
            "application/vnd.jupyter.widget-view+json": {
              "model_id": "5804e5185a464c86b5fe8b9a79b4838c",
              "version_major": 2,
              "version_minor": 0
            },
            "text/plain": [
              "0 examples [00:00, ? examples/s]"
            ]
          },
          "metadata": {},
          "output_type": "display_data"
        },
        {
          "name": "stdout",
          "output_type": "stream",
          "text": [
            "Dataset common_voice downloaded and prepared to /root/.cache/huggingface/datasets/common_voice/rw/6.1.0/5693bfc0feeade582a78c2fb250bc88f52bd86f0a7f1bb22bfee67e715de30fd. Subsequent calls will reuse this data.\n"
          ]
        },
        {
          "name": "stderr",
          "output_type": "stream",
          "text": [
            "Reusing dataset common_voice (/root/.cache/huggingface/datasets/common_voice/rw/6.1.0/5693bfc0feeade582a78c2fb250bc88f52bd86f0a7f1bb22bfee67e715de30fd)\n"
          ]
        }
      ],
      "source": [
        "from datasets import load_dataset, load_metric, Audio\n",
        "\n",
        "common_voice_train = load_dataset(\"common_voice\", \"rw\", split=\"train\")\n",
        "common_voice_test = load_dataset(\"common_voice\", \"rw\", split=\"test\")"
      ]
    },
    {
      "cell_type": "code",
      "execution_count": null,
      "metadata": {
        "colab": {
          "background_save": true
        },
        "id": "EWzCyZuBJO5u",
        "outputId": "28cb715d-5e8b-44e1-e558-b1b1cbddb824"
      },
      "outputs": [
        {
          "data": {
            "text/plain": [
              "Dataset({\n",
              "    features: ['client_id', 'path', 'audio', 'sentence', 'up_votes', 'down_votes', 'age', 'gender', 'accent', 'locale', 'segment'],\n",
              "    num_rows: 515197\n",
              "})"
            ]
          },
          "execution_count": null,
          "metadata": {},
          "output_type": "execute_result"
        }
      ],
      "source": [
        "common_voice_train"
      ]
    },
    {
      "cell_type": "code",
      "execution_count": null,
      "metadata": {
        "colab": {
          "background_save": true
        },
        "id": "20POSCyrBwcQ",
        "outputId": "4c1f38ee-9d16-4cc6-9c03-a32c4e467759"
      },
      "outputs": [
        {
          "data": {
            "text/plain": [
              "Dataset({\n",
              "    features: ['client_id', 'path', 'audio', 'sentence', 'up_votes', 'down_votes', 'age', 'gender', 'accent', 'locale', 'segment'],\n",
              "    num_rows: 87584\n",
              "})"
            ]
          },
          "execution_count": null,
          "metadata": {},
          "output_type": "execute_result"
        }
      ],
      "source": [
        "common_voice_train_ = common_voice_train.train_test_split(test_size=0.17)\n",
        "common_voice_train = common_voice_train_['test']\n",
        "common_voice_train"
      ]
    },
    {
      "cell_type": "code",
      "execution_count": null,
      "metadata": {
        "colab": {
          "background_save": true
        },
        "id": "CVGYeahTJQlH",
        "outputId": "c9a11e75-8bcf-4e0c-b888-d90f39b771bb"
      },
      "outputs": [
        {
          "data": {
            "text/plain": [
              "Dataset({\n",
              "    features: ['client_id', 'path', 'audio', 'sentence', 'up_votes', 'down_votes', 'age', 'gender', 'accent', 'locale', 'segment'],\n",
              "    num_rows: 15724\n",
              "})"
            ]
          },
          "execution_count": null,
          "metadata": {},
          "output_type": "execute_result"
        }
      ],
      "source": [
        "common_voice_test"
      ]
    },
    {
      "cell_type": "code",
      "execution_count": null,
      "metadata": {
        "colab": {
          "background_save": true
        },
        "id": "IrIrZZGY7kJU",
        "outputId": "25266933-eb3f-4667-9097-ac305099a563"
      },
      "outputs": [
        {
          "data": {
            "text/plain": [
              "Dataset({\n",
              "    features: ['client_id', 'path', 'audio', 'sentence', 'up_votes', 'down_votes', 'age', 'gender', 'accent', 'locale', 'segment'],\n",
              "    num_rows: 3145\n",
              "})"
            ]
          },
          "execution_count": null,
          "metadata": {},
          "output_type": "execute_result"
        }
      ],
      "source": [
        "common_voice_test_ = common_voice_test.train_test_split(test_size=0.2)\n",
        "common_voice_test = common_voice_test_['test']\n",
        "common_voice_test"
      ]
    },
    {
      "cell_type": "markdown",
      "metadata": {
        "id": "ri5y5N_HMANq"
      },
      "source": [
        "Many ASR datasets only provide the target text, `'sentence'` for each audio array `'audio'` and file `'path'`. Common Voice actually provides much more information about each audio file, such as the `'accent'`, etc. Keeping the notebook as general as possible, we only consider the transcribed text for fine-tuning.\n",
        "\n"
      ]
    },
    {
      "cell_type": "code",
      "execution_count": null,
      "metadata": {
        "colab": {
          "background_save": true
        },
        "id": "kbyq6lDgQc2a"
      },
      "outputs": [],
      "source": [
        "common_voice_train = common_voice_train.remove_columns([\"accent\", \"age\", \"client_id\", \"down_votes\", \"gender\", \"locale\", \"segment\", \"up_votes\"])\n",
        "common_voice_test = common_voice_test.remove_columns([\"accent\", \"age\", \"client_id\", \"down_votes\", \"gender\", \"locale\", \"segment\", \"up_votes\"])"
      ]
    },
    {
      "cell_type": "markdown",
      "metadata": {
        "id": "Go9Hq4e4NDT9"
      },
      "source": [
        "Let's write a short function to display some random samples of the dataset and run it a couple of times to get a feeling for the transcriptions."
      ]
    },
    {
      "cell_type": "code",
      "execution_count": null,
      "metadata": {
        "colab": {
          "background_save": true
        },
        "id": "72737oog2F6U"
      },
      "outputs": [],
      "source": [
        "from datasets import ClassLabel\n",
        "import random\n",
        "import pandas as pd\n",
        "from IPython.display import display, HTML\n",
        "\n",
        "def show_random_elements(dataset, num_examples=10):\n",
        "    assert num_examples <= len(dataset), \"Can't pick more elements than there are in the dataset.\"\n",
        "    picks = []\n",
        "    for _ in range(num_examples):\n",
        "        pick = random.randint(0, len(dataset)-1)\n",
        "        while pick in picks:\n",
        "            pick = random.randint(0, len(dataset)-1)\n",
        "        picks.append(pick)\n",
        "    \n",
        "    df = pd.DataFrame(dataset[picks])\n",
        "    display(HTML(df.to_html()))"
      ]
    },
    {
      "cell_type": "code",
      "execution_count": null,
      "metadata": {
        "colab": {
          "background_save": true
        },
        "id": "K_JUmf3G3b9S",
        "outputId": "0cf0998e-cfe6-4e00-fb60-e2438b84f88f"
      },
      "outputs": [
        {
          "data": {
            "text/html": [
              "<table border=\"1\" class=\"dataframe\">\n",
              "  <thead>\n",
              "    <tr style=\"text-align: right;\">\n",
              "      <th></th>\n",
              "      <th>sentence</th>\n",
              "    </tr>\n",
              "  </thead>\n",
              "  <tbody>\n",
              "    <tr>\n",
              "      <th>0</th>\n",
              "      <td>nk ibyo bakoreye imana zabo</td>\n",
              "    </tr>\n",
              "    <tr>\n",
              "      <th>1</th>\n",
              "      <td>uriya muhungu akunda kubeshya</td>\n",
              "    </tr>\n",
              "    <tr>\n",
              "      <th>2</th>\n",
              "      <td>Ubwiza kukubona ni umumaritiri gusa</td>\n",
              "    </tr>\n",
              "    <tr>\n",
              "      <th>3</th>\n",
              "      <td>namwe nimwasubizwa mu Mirenge yanyu mugomba kuyubahiriza</td>\n",
              "    </tr>\n",
              "    <tr>\n",
              "      <th>4</th>\n",
              "      <td>yabyariye i Yerusalemu Shamuwa, Shobabu na Natani</td>\n",
              "    </tr>\n",
              "    <tr>\n",
              "      <th>5</th>\n",
              "      <td>yaraye muri iyi gereza nto (calaboose, mu ndimi gakondo) i kemp</td>\n",
              "    </tr>\n",
              "    <tr>\n",
              "      <th>6</th>\n",
              "      <td>kubera izindi nyinshi yari amaze igihe aririmba zivuga ku buzima bw’igihugu</td>\n",
              "    </tr>\n",
              "    <tr>\n",
              "      <th>7</th>\n",
              "      <td>ko ucumbagira ubwoba kimenyi</td>\n",
              "    </tr>\n",
              "    <tr>\n",
              "      <th>8</th>\n",
              "      <td>banki Nkuru ya Leta na Minisitiri w Imari baje</td>\n",
              "    </tr>\n",
              "    <tr>\n",
              "      <th>9</th>\n",
              "      <td>No ku bakene, jya utanga utitangiriye itama,</td>\n",
              "    </tr>\n",
              "  </tbody>\n",
              "</table>"
            ],
            "text/plain": [
              "<IPython.core.display.HTML object>"
            ]
          },
          "metadata": {},
          "output_type": "display_data"
        }
      ],
      "source": [
        "show_random_elements(common_voice_train.remove_columns([\"path\", \"audio\"]), num_examples=10)"
      ]
    },
    {
      "cell_type": "markdown",
      "metadata": {
        "id": "fowcOllGNNju"
      },
      "source": [
        "Alright! The transcriptions look fairly clean. Having translated the transcribed sentences, it seems that the language corresponds more to written-out text than noisy dialogue. This makes sense considering that [Common Voice](https://huggingface.co/datasets/common_voice) is a crowd-sourced read speech corpus."
      ]
    },
    {
      "cell_type": "markdown",
      "metadata": {
        "id": "vq7OR50LN49m"
      },
      "source": [
        "We can see that the transcriptions contain some special characters, such as `,.?!;:`. Without a language model, it is much harder to classify speech chunks to such special characters because they don't really correspond to a characteristic sound unit. *E.g.*, the letter `\"s\"` has a more or less clear sound, whereas the special character `\".\"` does not.\n",
        "Also in order to understand the meaning of a speech signal, it is usually not necessary to include special characters in the transcription.\n",
        "\n",
        "Let's simply remove all characters that don't contribute to the meaning of a word and cannot really be represented by an acoustic sound and normalize the text."
      ]
    },
    {
      "cell_type": "code",
      "execution_count": null,
      "metadata": {
        "colab": {
          "background_save": true
        },
        "id": "svKzVJ_hQGK6"
      },
      "outputs": [],
      "source": [
        "import re\n",
        "chars_to_remove_regex = '[\\,\\?\\.\\!\\-\\;\\:\\\"\\“\\%\\‘\\”\\�\\'\\\"\\§\\$\\&\\/\\{\\[\\]\\}\\´]'\n",
        "\n",
        "def remove_special_characters(batch):\n",
        "    batch[\"sentence\"] = re.sub(chars_to_remove_regex, '', batch[\"sentence\"]).lower()\n",
        "    return batch"
      ]
    },
    {
      "cell_type": "code",
      "execution_count": null,
      "metadata": {
        "colab": {
          "background_save": true,
          "referenced_widgets": [
            "ddb426e9b7644726a3baf748c1016667",
            "f400e6f39ba7459fa8c490189034c9b7"
          ]
        },
        "id": "XIHocAuTQbBR",
        "outputId": "ac86054e-cb3c-43c4-a830-6d1ee25374eb"
      },
      "outputs": [
        {
          "name": "stderr",
          "output_type": "stream",
          "text": [
            "Parameter 'function'=<function remove_special_characters at 0x7faec7b314d0> of the transform datasets.arrow_dataset.Dataset._map_single couldn't be hashed properly, a random hash was used instead. Make sure your transforms and parameters are serializable with pickle or dill for the dataset fingerprinting and caching to work. If you reuse this transform, the caching mechanism will consider it to be different from the previous calls and recompute everything. This warning is only showed once. Subsequent hashing failures won't be showed.\n"
          ]
        },
        {
          "data": {
            "application/vnd.jupyter.widget-view+json": {
              "model_id": "ddb426e9b7644726a3baf748c1016667",
              "version_major": 2,
              "version_minor": 0
            },
            "text/plain": [
              "0ex [00:00, ?ex/s]"
            ]
          },
          "metadata": {},
          "output_type": "display_data"
        },
        {
          "data": {
            "application/vnd.jupyter.widget-view+json": {
              "model_id": "f400e6f39ba7459fa8c490189034c9b7",
              "version_major": 2,
              "version_minor": 0
            },
            "text/plain": [
              "0ex [00:00, ?ex/s]"
            ]
          },
          "metadata": {},
          "output_type": "display_data"
        }
      ],
      "source": [
        "common_voice_train = common_voice_train.map(remove_special_characters)\n",
        "common_voice_test = common_voice_test.map(remove_special_characters)"
      ]
    },
    {
      "cell_type": "markdown",
      "metadata": {
        "id": "TxnVS9gIhIma"
      },
      "source": [
        "Let's look at the processed text labels again."
      ]
    },
    {
      "cell_type": "code",
      "execution_count": null,
      "metadata": {
        "colab": {
          "background_save": true
        },
        "id": "kC685Mrz6Naa",
        "outputId": "c5f6fbb7-0a94-4267-f2d4-b5f74be2b4ca"
      },
      "outputs": [
        {
          "data": {
            "text/html": [
              "<table border=\"1\" class=\"dataframe\">\n",
              "  <thead>\n",
              "    <tr style=\"text-align: right;\">\n",
              "      <th></th>\n",
              "      <th>sentence</th>\n",
              "    </tr>\n",
              "  </thead>\n",
              "  <tbody>\n",
              "    <tr>\n",
              "      <th>0</th>\n",
              "      <td>umwami uwiteka aravuga ngo si ku bwanyu</td>\n",
              "    </tr>\n",
              "    <tr>\n",
              "      <th>1</th>\n",
              "      <td>n uwo muntu abahabwa ubuntu bwinshi butagereranywa</td>\n",
              "    </tr>\n",
              "    <tr>\n",
              "      <th>2</th>\n",
              "      <td>nabonye ibyo ntazi</td>\n",
              "    </tr>\n",
              "    <tr>\n",
              "      <th>3</th>\n",
              "      <td>gutanga ibyangombwa by’ubwubatsi</td>\n",
              "    </tr>\n",
              "    <tr>\n",
              "      <th>4</th>\n",
              "      <td>ingingo ya gatatu abavugizi b umuryango</td>\n",
              "    </tr>\n",
              "    <tr>\n",
              "      <th>5</th>\n",
              "      <td>mu biro n’ahandi hatangirwa serivisi zinyuranye mu rwanda</td>\n",
              "    </tr>\n",
              "    <tr>\n",
              "      <th>6</th>\n",
              "      <td>akarere ka karongi kabarizwamo imisozi ibarizwa muri crete congo nil</td>\n",
              "    </tr>\n",
              "    <tr>\n",
              "      <th>7</th>\n",
              "      <td>ndacyayisenga yongorera jabo ibanga rye ryijimye</td>\n",
              "    </tr>\n",
              "    <tr>\n",
              "      <th>8</th>\n",
              "      <td>utu tunyangingo rero dushobora kwivumbagatanya igihe icyo ari cyo cyose kandi ahantu hatandukanye ku mubiri w’umuntu</td>\n",
              "    </tr>\n",
              "    <tr>\n",
              "      <th>9</th>\n",
              "      <td>ubumenyi ni imbaraga ari uko umuntu azi ibintu bitagomba kubabaza</td>\n",
              "    </tr>\n",
              "  </tbody>\n",
              "</table>"
            ],
            "text/plain": [
              "<IPython.core.display.HTML object>"
            ]
          },
          "metadata": {},
          "output_type": "display_data"
        }
      ],
      "source": [
        "show_random_elements(common_voice_train.remove_columns([\"path\",\"audio\"]))"
      ]
    },
    {
      "cell_type": "markdown",
      "metadata": {
        "id": "jwfaptH5RJwA"
      },
      "source": [
        "Good! This looks better. We have removed most special characters from transcriptions and normalized them to lower-case only.\n",
        "\n",
        "Before finalizing the pre-processing, it is always advantageous to consult a native speaker of the target language to see whether the text can be further simplified. \n",
        "For this blog post, [Merve](https://twitter.com/mervenoyann) was kind enough to take a quick look and noted that \"hatted\" characters - like `â` - aren't really used anymore in Turkish and can be replaced by their \"un-hatted\" equivalent, *e.g.* `a`. \n",
        "\n",
        "This means that we should replace a sentence like `\"yargı sistemi hâlâ sağlıksız\"` to `\"yargı sistemi hala sağlıksız\"`.\n",
        "\n",
        "Let's write another short mapping function to further simplify the text labels. Remember - the simler the text labels, the easier it is for the model to learn to predict those labels.\n",
        "\n"
      ]
    },
    {
      "cell_type": "code",
      "execution_count": null,
      "metadata": {
        "colab": {
          "background_save": true
        },
        "id": "7AX6N0Pi6Q3K"
      },
      "outputs": [],
      "source": [
        "def replace_hatted_characters(batch):\n",
        "    batch[\"sentence\"] = re.sub('[â]', 'a', batch[\"sentence\"])\n",
        "    batch[\"sentence\"] = re.sub('[à]', 'a', batch[\"sentence\"])\n",
        "    batch[\"sentence\"] = re.sub('[ã]', 'a', batch[\"sentence\"])\n",
        "    batch[\"sentence\"] = re.sub('[å]', 'a', batch[\"sentence\"])\n",
        "    batch[\"sentence\"] = re.sub('[ç]', 'c', batch[\"sentence\"])\n",
        "    batch[\"sentence\"] = re.sub('[è]', 'e', batch[\"sentence\"])\n",
        "    batch[\"sentence\"] = re.sub('[ê]', 'e', batch[\"sentence\"])\n",
        "    batch[\"sentence\"] = re.sub('[ë]', 'e', batch[\"sentence\"])\n",
        "    batch[\"sentence\"] = re.sub('[í]', 'i', batch[\"sentence\"])\n",
        "    batch[\"sentence\"] = re.sub('[ó]', 'o', batch[\"sentence\"])\n",
        "    batch[\"sentence\"] = re.sub('[ú]', 'u', batch[\"sentence\"])\n",
        "    batch[\"sentence\"] = re.sub('[ó]', 'o', batch[\"sentence\"])\n",
        "    batch[\"sentence\"] = re.sub('[â]', 'a', batch[\"sentence\"])\n",
        "    batch[\"sentence\"] = re.sub('[î]', 'i', batch[\"sentence\"])\n",
        "    batch[\"sentence\"] = re.sub('[ô]', 'o', batch[\"sentence\"])\n",
        "    batch[\"sentence\"] = re.sub('[û]', 'u', batch[\"sentence\"])\n",
        "    batch[\"sentence\"] = re.sub('[û]', 'u', batch[\"sentence\"])\n",
        "    return batch"
      ]
    },
    {
      "cell_type": "code",
      "execution_count": null,
      "metadata": {
        "colab": {
          "background_save": true,
          "referenced_widgets": [
            "bb0293cd9aee4f3994bf504dc67e416b",
            "855225815953442e8771bdbcdaea0312"
          ]
        },
        "id": "24FeFOxG6TFi",
        "outputId": "5ca0f313-0b62-49fa-eb40-6127429554b4"
      },
      "outputs": [
        {
          "data": {
            "application/vnd.jupyter.widget-view+json": {
              "model_id": "bb0293cd9aee4f3994bf504dc67e416b",
              "version_major": 2,
              "version_minor": 0
            },
            "text/plain": [
              "0ex [00:00, ?ex/s]"
            ]
          },
          "metadata": {},
          "output_type": "display_data"
        },
        {
          "data": {
            "application/vnd.jupyter.widget-view+json": {
              "model_id": "855225815953442e8771bdbcdaea0312",
              "version_major": 2,
              "version_minor": 0
            },
            "text/plain": [
              "0ex [00:00, ?ex/s]"
            ]
          },
          "metadata": {},
          "output_type": "display_data"
        }
      ],
      "source": [
        "common_voice_train = common_voice_train.map(replace_hatted_characters)\n",
        "common_voice_test = common_voice_test.map(replace_hatted_characters)"
      ]
    },
    {
      "cell_type": "markdown",
      "metadata": {
        "id": "3ORHDb2Th2TW"
      },
      "source": [
        "In CTC, it is common to classify speech chunks into letters, so we will do the same here. \n",
        "Let's extract all distinct letters of the training and test data and build our vocabulary from this set of letters.\n",
        "\n",
        "We write a mapping function that concatenates all transcriptions into one long transcription and then transforms the string into a set of chars. \n",
        "It is important to pass the argument `batched=True` to the `map(...)` function so that the mapping function has access to all transcriptions at once."
      ]
    },
    {
      "cell_type": "code",
      "execution_count": null,
      "metadata": {
        "colab": {
          "background_save": true
        },
        "id": "2-m9AP5A6XT2"
      },
      "outputs": [],
      "source": [
        "def extract_all_chars(batch):\n",
        "  all_text = \" \".join(batch[\"sentence\"])\n",
        "  vocab = list(set(all_text))\n",
        "  return {\"vocab\": [vocab], \"all_text\": [all_text]}"
      ]
    },
    {
      "cell_type": "code",
      "execution_count": null,
      "metadata": {
        "colab": {
          "background_save": true,
          "referenced_widgets": [
            "245ca32b645c41dab1c790452a9e912b",
            "ade2f3ab382443abb107d1f571fd27b1"
          ]
        },
        "id": "WYmJpz-_6ZbG",
        "outputId": "eb4373c9-2858-4ef5-dc67-43a3be13936b"
      },
      "outputs": [
        {
          "data": {
            "application/vnd.jupyter.widget-view+json": {
              "model_id": "245ca32b645c41dab1c790452a9e912b",
              "version_major": 2,
              "version_minor": 0
            },
            "text/plain": [
              "  0%|          | 0/1 [00:00<?, ?ba/s]"
            ]
          },
          "metadata": {},
          "output_type": "display_data"
        },
        {
          "data": {
            "application/vnd.jupyter.widget-view+json": {
              "model_id": "ade2f3ab382443abb107d1f571fd27b1",
              "version_major": 2,
              "version_minor": 0
            },
            "text/plain": [
              "  0%|          | 0/1 [00:00<?, ?ba/s]"
            ]
          },
          "metadata": {},
          "output_type": "display_data"
        }
      ],
      "source": [
        "vocab_train = common_voice_train.map(extract_all_chars, batched=True, batch_size=-1, keep_in_memory=True, remove_columns=common_voice_train.column_names)\n",
        "vocab_test = common_voice_test.map(extract_all_chars, batched=True, batch_size=-1, keep_in_memory=True, remove_columns=common_voice_test.column_names)"
      ]
    },
    {
      "cell_type": "markdown",
      "metadata": {
        "id": "7oVgE8RZSJNP"
      },
      "source": [
        "Now, we create the union of all distinct letters in the training dataset and test dataset and convert the resulting list into an enumerated dictionary."
      ]
    },
    {
      "cell_type": "code",
      "execution_count": null,
      "metadata": {
        "colab": {
          "background_save": true
        },
        "id": "czg0-g6M6boN"
      },
      "outputs": [],
      "source": [
        "vocab_list = list(set(vocab_train[\"vocab\"][0]) | set(vocab_test[\"vocab\"][0]))"
      ]
    },
    {
      "cell_type": "code",
      "execution_count": null,
      "metadata": {
        "colab": {
          "background_save": true
        },
        "id": "8klACnWE6d2A",
        "outputId": "e4a0b3de-738e-4d9c-c3ba-eead74b6a173"
      },
      "outputs": [
        {
          "data": {
            "text/plain": [
              "{' ': 0,\n",
              " '#': 1,\n",
              " '(': 2,\n",
              " ')': 3,\n",
              " '*': 4,\n",
              " '+': 5,\n",
              " '<': 6,\n",
              " '=': 7,\n",
              " '>': 8,\n",
              " '@': 9,\n",
              " '\\\\': 10,\n",
              " '_': 11,\n",
              " '`': 12,\n",
              " 'a': 13,\n",
              " 'b': 14,\n",
              " 'c': 15,\n",
              " 'd': 16,\n",
              " 'e': 17,\n",
              " 'f': 18,\n",
              " 'g': 19,\n",
              " 'h': 20,\n",
              " 'i': 21,\n",
              " 'j': 22,\n",
              " 'k': 23,\n",
              " 'l': 24,\n",
              " 'm': 25,\n",
              " 'n': 26,\n",
              " 'o': 27,\n",
              " 'p': 28,\n",
              " 'q': 29,\n",
              " 'r': 30,\n",
              " 's': 31,\n",
              " 't': 32,\n",
              " 'u': 33,\n",
              " 'v': 34,\n",
              " 'w': 35,\n",
              " 'x': 36,\n",
              " 'y': 37,\n",
              " 'z': 38,\n",
              " '£': 39,\n",
              " '¨': 40,\n",
              " '©': 41,\n",
              " '«': 42,\n",
              " '®': 43,\n",
              " '°': 44,\n",
              " '»': 45,\n",
              " '¼': 46,\n",
              " '½': 47,\n",
              " 'á': 48,\n",
              " 'é': 49,\n",
              " 'ï': 50,\n",
              " 'ñ': 51,\n",
              " 'ò': 52,\n",
              " 'ö': 53,\n",
              " 'ø': 54,\n",
              " 'ù': 55,\n",
              " 'ü': 56,\n",
              " 'ÿ': 57,\n",
              " 'ā': 58,\n",
              " 'ć': 59,\n",
              " 'ē': 60,\n",
              " 'ğ': 61,\n",
              " 'ī': 62,\n",
              " 'ō': 63,\n",
              " 'œ': 64,\n",
              " 'ş': 65,\n",
              " 'š': 66,\n",
              " 'ū': 67,\n",
              " 'ȃ': 68,\n",
              " 'ȏ': 69,\n",
              " 'ʺ': 70,\n",
              " 'ʼ': 71,\n",
              " 'ʽ': 72,\n",
              " '˜': 73,\n",
              " '˝': 74,\n",
              " '̀': 75,\n",
              " 'в': 76,\n",
              " 'к': 77,\n",
              " 'о': 78,\n",
              " 'у': 79,\n",
              " 'і': 80,\n",
              " 'ḥ': 81,\n",
              " 'ṭ': 82,\n",
              " '‐': 83,\n",
              " '–': 84,\n",
              " '—': 85,\n",
              " '―': 86,\n",
              " '’': 87,\n",
              " '‟': 88,\n",
              " '•': 89,\n",
              " '…': 90,\n",
              " '″': 91,\n",
              " '‽': 92,\n",
              " '€': 93,\n",
              " '™': 94}"
            ]
          },
          "execution_count": null,
          "metadata": {},
          "output_type": "execute_result"
        }
      ],
      "source": [
        "vocab_dict = {v: k for k, v in enumerate(sorted(vocab_list))}\n",
        "vocab_dict"
      ]
    },
    {
      "cell_type": "markdown",
      "metadata": {
        "id": "JOSzbvs9SXT1"
      },
      "source": [
        "Cool, we see that all letters of the alphabet occur in the dataset (which is not really surprising) and we also extracted the special characters `\"\"` and `'`. Note that we did not exclude those special characters because: \n",
        "\n",
        "The model has to learn to predict when a word is finished or else the model prediction would always be a sequence of chars which would make it impossible to separate words from each other.\n",
        "\n",
        "One should always keep in mind that pre-processing is a very important step before training your model. E.g., we don't want our model to differentiate between `a` and `A` just because we forgot to normalize the data. The difference between `a` and `A` does not depend on the \"sound\" of the letter at all, but more on grammatical rules - *e.g.* use a capitalized letter at the beginning of the sentence. So it is sensible to remove the difference between capitalized and non-capitalized letters so that the model has an easier time learning to transcribe speech. "
      ]
    },
    {
      "cell_type": "markdown",
      "metadata": {
        "id": "b1fBRCn-TRaO"
      },
      "source": [
        "To make it clearer that `\" \"` has its own token class, we give it a more visible character `|`. In addition, we also add an \"unknown\" token so that the model can later deal with characters not encountered in Common Voice's training set. "
      ]
    },
    {
      "cell_type": "code",
      "execution_count": null,
      "metadata": {
        "colab": {
          "background_save": true
        },
        "id": "f-tFavkg6h6H"
      },
      "outputs": [],
      "source": [
        "vocab_dict[\"|\"] = vocab_dict[\" \"]\n",
        "del vocab_dict[\" \"]"
      ]
    },
    {
      "cell_type": "markdown",
      "metadata": {
        "id": "_9yCWg4Sd0cb"
      },
      "source": [
        "Finally, we also add a padding token that corresponds to CTC's \"*blank token*\". The \"blank token\" is a core component of the CTC algorithm. For more information, please take a look at the \"Alignment\" section [here](https://distill.pub/2017/ctc/)."
      ]
    },
    {
      "cell_type": "code",
      "execution_count": null,
      "metadata": {
        "colab": {
          "background_save": true
        },
        "id": "-b55N8Ry6kJH",
        "outputId": "6c2d466b-ea8a-43d5-93b0-fdaddaa68254"
      },
      "outputs": [
        {
          "data": {
            "text/plain": [
              "97"
            ]
          },
          "execution_count": null,
          "metadata": {},
          "output_type": "execute_result"
        }
      ],
      "source": [
        "vocab_dict[\"[UNK]\"] = len(vocab_dict)\n",
        "vocab_dict[\"[PAD]\"] = len(vocab_dict)\n",
        "len(vocab_dict)"
      ]
    },
    {
      "cell_type": "markdown",
      "metadata": {
        "id": "SFPGfet8U5sL"
      },
      "source": [
        "Cool, now our vocabulary is complete and consists of 39 tokens, which means that the linear layer that we will add on top of the pretrained XLS-R checkpoint will have an output dimension of 39."
      ]
    },
    {
      "cell_type": "markdown",
      "metadata": {
        "id": "1CujRgBNVRaD"
      },
      "source": [
        "Let's now save the vocabulary as a json file."
      ]
    },
    {
      "cell_type": "code",
      "execution_count": null,
      "metadata": {
        "colab": {
          "background_save": true
        },
        "id": "n5NZwU3q6mVI"
      },
      "outputs": [],
      "source": [
        "import json\n",
        "with open('vocab.json', 'w') as vocab_file:\n",
        "    json.dump(vocab_dict, vocab_file)"
      ]
    },
    {
      "cell_type": "markdown",
      "metadata": {
        "id": "SHJDaKlIVVim"
      },
      "source": [
        "In a final step, we use the json file to load the vocabulary into an instance of the `Wav2Vec2CTCTokenizer` class."
      ]
    },
    {
      "cell_type": "code",
      "execution_count": null,
      "metadata": {
        "colab": {
          "background_save": true
        },
        "id": "YaFR95uZ6oEr",
        "outputId": "d99c374e-6c4c-4853-874e-62e7afe7de88"
      },
      "outputs": [
        {
          "name": "stderr",
          "output_type": "stream",
          "text": [
            "file ./config.json not found\n",
            "Special tokens have been added in the vocabulary, make sure the associated word embeddings are fine-tuned or trained.\n"
          ]
        }
      ],
      "source": [
        "from transformers import Wav2Vec2CTCTokenizer\n",
        "\n",
        "tokenizer = Wav2Vec2CTCTokenizer.from_pretrained(\"./\", unk_token=\"[UNK]\", pad_token=\"[PAD]\", word_delimiter_token=\"|\")"
      ]
    },
    {
      "cell_type": "markdown",
      "metadata": {
        "id": "KvL12DrNV4cx"
      },
      "source": [
        "If one wants to re-use the just created tokenizer with the fine-tuned model of this notebook, it is strongly advised to upload the `tokenizer` to the [🤗 Hub](https://huggingface.co/). Let's call the repo to which we will upload the files\n",
        "`\"wav2vec2-large-xlsr-turkish-demo-colab\"`:"
      ]
    },
    {
      "cell_type": "code",
      "execution_count": null,
      "metadata": {
        "colab": {
          "background_save": true
        },
        "id": "56-1o1sg6qi3"
      },
      "outputs": [],
      "source": [
        "repo_name = \"peter2000/wav2vec2-large-xls-r-300m-kinyarwanda\""
      ]
    },
    {
      "cell_type": "markdown",
      "metadata": {
        "id": "B1BiezWZF16d"
      },
      "source": [
        "and upload the tokenizer to the [🤗 Hub](https://huggingface.co/)."
      ]
    },
    {
      "cell_type": "code",
      "execution_count": null,
      "metadata": {
        "id": "rxoAsOHG6seI",
        "colab": {
          "base_uri": "https://localhost:8080/",
          "height": 385,
          "referenced_widgets": [
            "3e174cbb42e04d489f73ea26ac50e20b",
            "03f330556a7440d781e3aee85978cc01",
            "83baaa5ff5614447a31c9eb289056601",
            "80fb603d87724b4bad7c23e84f7cb777",
            "5ec564d22bf34ec79c185d30e6ba42f7",
            "0e6b8ac62b08410dbbb4a7d5f7301810",
            "ccb2db530c0141c68fdf80be838e4403",
            "12ae98c020f74e28bbfb293c482afccc"
          ]
        },
        "outputId": "17ed8943-c38c-431f-dc2b-cee95c589d3a"
      },
      "outputs": [
        {
          "metadata": {
            "tags": null
          },
          "name": "stderr",
          "output_type": "stream",
          "text": [
            "/usr/local/lib/python3.7/dist-packages/huggingface_hub/utils/_deprecation.py:43: FutureWarning: Pass token='wav2vec2-large-xls-r-300m-kinyarwanda' as keyword args. From version 0.8 passing these as positional arguments will result in an error\n",
            "  FutureWarning,\n",
            "/usr/local/lib/python3.7/dist-packages/huggingface_hub/hf_api.py:676: FutureWarning: `create_repo` now takes `token` as an optional positional argument. Be sure to adapt your code!\n",
            "  FutureWarning,\n",
            "Cloning https://huggingface.co/peter2000/wav2vec2-large-xls-r-300m-kinyarwanda into local empty directory.\n"
          ]
        },
        {
          "data": {
            "application/vnd.jupyter.widget-view+json": {
              "model_id": "3e174cbb42e04d489f73ea26ac50e20b",
              "version_major": 2,
              "version_minor": 0
            },
            "text/plain": [
              "Download file pytorch_model.bin:   0%|          | 3.47k/1.18G [00:00<?, ?B/s]"
            ]
          },
          "metadata": {},
          "output_type": "display_data"
        },
        {
          "data": {
            "application/vnd.jupyter.widget-view+json": {
              "model_id": "03f330556a7440d781e3aee85978cc01",
              "version_major": 2,
              "version_minor": 0
            },
            "text/plain": [
              "Download file runs/Jun01_14-34-06_39fa4a121b79/1654096407.335164/events.out.tfevents.1654096407.39fa4a121b79.9…"
            ]
          },
          "metadata": {},
          "output_type": "display_data"
        },
        {
          "data": {
            "application/vnd.jupyter.widget-view+json": {
              "model_id": "83baaa5ff5614447a31c9eb289056601",
              "version_major": 2,
              "version_minor": 0
            },
            "text/plain": [
              "Download file runs/Jun01_14-34-06_39fa4a121b79/events.out.tfevents.1654096407.39fa4a121b79.97.0:  11%|#       …"
            ]
          },
          "metadata": {},
          "output_type": "display_data"
        },
        {
          "data": {
            "application/vnd.jupyter.widget-view+json": {
              "model_id": "80fb603d87724b4bad7c23e84f7cb777",
              "version_major": 2,
              "version_minor": 0
            },
            "text/plain": [
              "Download file training_args.bin:  66%|######5   | 1.84k/2.80k [00:00<?, ?B/s]"
            ]
          },
          "metadata": {},
          "output_type": "display_data"
        },
        {
          "data": {
            "application/vnd.jupyter.widget-view+json": {
              "model_id": "5ec564d22bf34ec79c185d30e6ba42f7",
              "version_major": 2,
              "version_minor": 0
            },
            "text/plain": [
              "Clean file runs/Jun01_14-34-06_39fa4a121b79/1654096407.335164/events.out.tfevents.1654096407.39fa4a121b79.97.1…"
            ]
          },
          "metadata": {},
          "output_type": "display_data"
        },
        {
          "data": {
            "application/vnd.jupyter.widget-view+json": {
              "model_id": "0e6b8ac62b08410dbbb4a7d5f7301810",
              "version_major": 2,
              "version_minor": 0
            },
            "text/plain": [
              "Clean file training_args.bin:  36%|###5      | 1.00k/2.80k [00:00<?, ?B/s]"
            ]
          },
          "metadata": {},
          "output_type": "display_data"
        },
        {
          "data": {
            "application/vnd.jupyter.widget-view+json": {
              "model_id": "ccb2db530c0141c68fdf80be838e4403",
              "version_major": 2,
              "version_minor": 0
            },
            "text/plain": [
              "Clean file runs/Jun01_14-34-06_39fa4a121b79/events.out.tfevents.1654096407.39fa4a121b79.97.0:   3%|3         |…"
            ]
          },
          "metadata": {},
          "output_type": "display_data"
        },
        {
          "data": {
            "application/vnd.jupyter.widget-view+json": {
              "model_id": "12ae98c020f74e28bbfb293c482afccc",
              "version_major": 2,
              "version_minor": 0
            },
            "text/plain": [
              "Clean file pytorch_model.bin:   0%|          | 1.00k/1.18G [00:00<?, ?B/s]"
            ]
          },
          "metadata": {},
          "output_type": "display_data"
        },
        {
          "output_type": "stream",
          "name": "stderr",
          "text": [
            "remote: Enforcing permissions...        \n",
            "remote: Allowed refs: all        \n",
            "To https://huggingface.co/peter2000/wav2vec2-large-xls-r-300m-kinyarwanda\n",
            "   6f2c375..74911cc  main -> main\n",
            "\n"
          ]
        },
        {
          "output_type": "execute_result",
          "data": {
            "text/plain": [
              "'https://huggingface.co/peter2000/wav2vec2-large-xls-r-300m-kinyarwanda/commit/74911cceab1eb552af3b406eda714f090121fbdb'"
            ],
            "application/vnd.google.colaboratory.intrinsic+json": {
              "type": "string"
            }
          },
          "metadata": {},
          "execution_count": 27
        }
      ],
      "source": [
        "tokenizer.push_to_hub(repo_name)"
      ]
    },
    {
      "cell_type": "markdown",
      "metadata": {
        "id": "SwQM8lH_GGuP"
      },
      "source": [
        "Great, you can see the just created repository under `https://huggingface.co/<your-username>/wav2vec2-large-xls-r-300m-tr-colab`"
      ]
    },
    {
      "cell_type": "markdown",
      "metadata": {
        "id": "mYcIiR2FQ96i"
      },
      "source": [
        "### Create `Wav2Vec2FeatureExtractor`"
      ]
    },
    {
      "cell_type": "markdown",
      "metadata": {
        "id": "Y6mDEyW719rx"
      },
      "source": [
        "Speech is a continuous signal and to be treated by computers, it first has to be discretized, which is usually called **sampling**. The sampling rate hereby plays an important role in that it defines how many data points of the speech signal are measured per second. Therefore, sampling with a higher sampling rate results in a better approximation of the *real* speech signal but also necessitates more values per second.\n",
        "\n",
        "A pretrained checkpoint expects its input data to have been sampled more or less from the same distribution as the data it was trained on. The same speech signals sampled at two different rates have a very different distribution, *e.g.*, doubling the sampling rate results in data points being twice as long. Thus, \n",
        "before fine-tuning a pretrained checkpoint of an ASR model, it is crucial to verify that the sampling rate of the data that was used to pretrain the model matches the sampling rate of the dataset used to fine-tune the model.\n",
        "\n",
        "XLS-R was pretrained on audio data of [Babel](http://www.reading.ac.uk/AcaDepts/ll/speechlab/babel/r), \n",
        "[Multilingual LibriSpeech (MLS)](https://huggingface.co/datasets/multilingual_librispeech), [Common Voice](https://huggingface.co/datasets/common_voice), [VoxPopuli](https://arxiv.org/abs/2101.00390), and [VoxLingua107](https://arxiv.org/abs/2011.12998) at a sampling rate of 16kHz. Common Voice, in its original form, has a sampling rate of 48kHz, thus we will have to downsample the fine-tuning data to 16kHz in the following.\n",
        "\n"
      ]
    },
    {
      "cell_type": "markdown",
      "metadata": {
        "id": "KuUbPW7oV-B5"
      },
      "source": [
        "A `Wav2Vec2FeatureExtractor` object requires the following parameters to be instantiated:\n",
        "\n",
        "- `feature_size`: Speech models take a sequence of feature vectors as an input. While the length of this sequence obviously varies, the feature size should not. In the case of Wav2Vec2, the feature size is 1 because the model was trained on the raw speech signal ${}^2$.\n",
        "- `sampling_rate`: The sampling rate at which the model is trained on.\n",
        "- `padding_value`: For batched inference, shorter inputs need to be padded with a specific value\n",
        "- `do_normalize`: Whether the input should be *zero-mean-unit-variance* normalized or not. Usually, speech models perform better when normalizing the input\n",
        "- `return_attention_mask`: Whether the model should make use of an `attention_mask` for batched inference. In general, XLS-R models checkpoints should **always** use the `attention_mask`."
      ]
    },
    {
      "cell_type": "code",
      "execution_count": null,
      "metadata": {
        "id": "kAR0-2KLkopp"
      },
      "outputs": [],
      "source": [
        "from transformers import Wav2Vec2FeatureExtractor\n",
        "\n",
        "feature_extractor = Wav2Vec2FeatureExtractor(feature_size=1, sampling_rate=16000, padding_value=0.0, do_normalize=True, return_attention_mask=True)"
      ]
    },
    {
      "cell_type": "markdown",
      "metadata": {
        "id": "qUETetgqYC3W"
      },
      "source": [
        "Great, XLS-R's feature extraction pipeline is thereby fully defined!\n",
        "\n",
        "For improved user-friendliness, the feature extractor and tokenizer are *wrapped* into a single `Wav2Vec2Processor` class so that one only needs a `model` and `processor` object."
      ]
    },
    {
      "cell_type": "code",
      "execution_count": null,
      "metadata": {
        "id": "KYZtoW-tlZgl"
      },
      "outputs": [],
      "source": [
        "from transformers import Wav2Vec2Processor\n",
        "\n",
        "processor = Wav2Vec2Processor(feature_extractor=feature_extractor, tokenizer=tokenizer)"
      ]
    },
    {
      "cell_type": "markdown",
      "metadata": {
        "id": "DrKnYuvDIoOO"
      },
      "source": [
        "Next, we can prepare the dataset."
      ]
    },
    {
      "cell_type": "markdown",
      "metadata": {
        "id": "YFmShnl7RE35"
      },
      "source": [
        "### Preprocess Data\n",
        "\n",
        "So far, we have not looked at the actual values of the speech signal but just the transcription. In addition to `sentence`, our datasets include two more column names `path` and `audio`. `path` states the absolute path of the audio file. Let's take a look.\n"
      ]
    },
    {
      "cell_type": "code",
      "execution_count": null,
      "metadata": {
        "id": "TTCS7W6XJ9BG",
        "colab": {
          "base_uri": "https://localhost:8080/",
          "height": 35
        },
        "outputId": "5eb10d31-da66-42a8-c034-4649c3477cdf"
      },
      "outputs": [
        {
          "output_type": "execute_result",
          "data": {
            "text/plain": [
              "'common_voice_rw_23562710.mp3'"
            ],
            "application/vnd.google.colaboratory.intrinsic+json": {
              "type": "string"
            }
          },
          "metadata": {},
          "execution_count": 30
        }
      ],
      "source": [
        "common_voice_train[0][\"path\"]"
      ]
    },
    {
      "cell_type": "markdown",
      "metadata": {
        "id": "T6ndIjHGFp0W"
      },
      "source": [
        "XLS-R expects the input in the format of a 1-dimensional array of 16 kHz. This means that the audio file has to be loaded and resampled.\n",
        "\n",
        " Thankfully, `datasets` does this automatically by calling the other column `audio`. Let try it out. "
      ]
    },
    {
      "cell_type": "code",
      "execution_count": null,
      "metadata": {
        "id": "qj_z5Zc3GAs9",
        "colab": {
          "base_uri": "https://localhost:8080/"
        },
        "outputId": "771ecaea-0bab-4b69-cbbb-1f87db1136c0"
      },
      "outputs": [
        {
          "output_type": "execute_result",
          "data": {
            "text/plain": [
              "{'array': array([0.        , 0.        , 0.        , ..., 0.00739002, 0.0096752 ,\n",
              "        0.01022083], dtype=float32),\n",
              " 'path': 'cv-corpus-6.1-2020-12-11/rw/clips/common_voice_rw_23562710.mp3',\n",
              " 'sampling_rate': 48000}"
            ]
          },
          "metadata": {},
          "execution_count": 31
        }
      ],
      "source": [
        "common_voice_train[0][\"audio\"]"
      ]
    },
    {
      "cell_type": "markdown",
      "metadata": {
        "id": "WUUTgI1bGHW-"
      },
      "source": [
        "Great, we can see that the audio file has automatically been loaded. This is thanks to the new [`\"Audio\"` feature](https://huggingface.co/docs/datasets/package_reference/main_classes.html?highlight=audio#datasets.Audio) introduced in `datasets == 4.13.3`, which loads and resamples audio files on-the-fly upon calling.\n",
        "\n",
        "In the example above we can see that the audio data is loaded with a sampling rate of 48kHz whereas 16kHz are expected by the model. We can set the audio feature to the correct sampling rate by making use of [`cast_column`](https://huggingface.co/docs/datasets/package_reference/main_classes.html?highlight=cast_column#datasets.DatasetDict.cast_column):"
      ]
    },
    {
      "cell_type": "code",
      "execution_count": null,
      "metadata": {
        "id": "rrv65aj7G95i"
      },
      "outputs": [],
      "source": [
        "common_voice_train = common_voice_train.cast_column(\"audio\", Audio(sampling_rate=16_000))\n",
        "common_voice_test = common_voice_test.cast_column(\"audio\", Audio(sampling_rate=16_000))"
      ]
    },
    {
      "cell_type": "markdown",
      "metadata": {
        "id": "PcnO4x-NGBEi"
      },
      "source": [
        "Let's take a look at `\"audio\"` again."
      ]
    },
    {
      "cell_type": "code",
      "execution_count": null,
      "metadata": {
        "id": "aKtkc1o_HWHC",
        "colab": {
          "base_uri": "https://localhost:8080/"
        },
        "outputId": "f86123af-1c20-4c35-9853-dd4574bf7b88"
      },
      "outputs": [
        {
          "output_type": "execute_result",
          "data": {
            "text/plain": [
              "{'array': array([0.        , 0.        , 0.        , ..., 0.00311233, 0.00696535,\n",
              "        0.01031276], dtype=float32),\n",
              " 'path': 'cv-corpus-6.1-2020-12-11/rw/clips/common_voice_rw_23562710.mp3',\n",
              " 'sampling_rate': 16000}"
            ]
          },
          "metadata": {},
          "execution_count": 33
        }
      ],
      "source": [
        "common_voice_train[0][\"audio\"]"
      ]
    },
    {
      "cell_type": "markdown",
      "metadata": {
        "id": "SOckzFd4Mbzq"
      },
      "source": [
        "This seemed to have worked! Let's listen to a couple of audio files to better understand the dataset and verify that the audio was correctly loaded. \n",
        "\n",
        "**Note**: *You can click the following cell a couple of times to listen to different speech samples.*"
      ]
    },
    {
      "cell_type": "code",
      "execution_count": null,
      "metadata": {
        "id": "dueM6U7Ev0OA",
        "colab": {
          "base_uri": "https://localhost:8080/",
          "height": 93
        },
        "outputId": "98c62e8b-8f6c-40b4-a961-1521ddcadc45"
      },
      "outputs": [
        {
          "output_type": "stream",
          "name": "stdout",
          "text": [
            "komisiyo yigihugu yitorero irashimira\n"
          ]
        },
        {
          "output_type": "execute_result",
          "data": {
            "text/plain": [
              "<IPython.lib.display.Audio object>"
            ],
            "text/html": [
              "\n",
              "                <audio controls=\"controls\" autoplay=\"autoplay\">\n",
              "                    <source src=\"data:audio/wav;base64,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\" type=\"audio/wav\" />\n",
              "                    Your browser does not support the audio element.\n",
              "                </audio>\n",
              "              "
            ]
          },
          "metadata": {},
          "execution_count": 34
        }
      ],
      "source": [
        "import IPython.display as ipd\n",
        "import numpy as np\n",
        "import random\n",
        "\n",
        "rand_int = random.randint(0, len(common_voice_train)-1)\n",
        "\n",
        "print(common_voice_train[rand_int][\"sentence\"])\n",
        "ipd.Audio(data=common_voice_train[rand_int][\"audio\"][\"array\"], autoplay=True, rate=16000)"
      ]
    },
    {
      "cell_type": "markdown",
      "metadata": {
        "id": "gY8m3vARHYTa"
      },
      "source": [
        "It seems like the data is now correctly loaded and resampled. "
      ]
    },
    {
      "cell_type": "markdown",
      "metadata": {
        "id": "1MaL9J2dNVtG"
      },
      "source": [
        "It can be heard, that the speakers change along with their speaking rate, accent, and background environment, etc. Overall, the recordings sound acceptably clear though, which is to be expected from a crowd-sourced read speech corpus.\n",
        "\n",
        "Let's do a final check that the data is correctly prepared, by printing the shape of the speech input, its transcription, and the corresponding sampling rate.\n",
        "\n",
        "**Note**: *You can click the following cell a couple of times to verify multiple samples.*"
      ]
    },
    {
      "cell_type": "code",
      "execution_count": 49,
      "metadata": {
        "id": "1Po2g7YPuRTx",
        "colab": {
          "base_uri": "https://localhost:8080/",
          "height": 235
        },
        "outputId": "d72af16c-3988-49cb-a8b4-f83bd3980571"
      },
      "outputs": [
        {
          "output_type": "error",
          "ename": "KeyError",
          "evalue": "ignored",
          "traceback": [
            "\u001b[0;31m---------------------------------------------------------------------------\u001b[0m",
            "\u001b[0;31mKeyError\u001b[0m                                  Traceback (most recent call last)",
            "\u001b[0;32m<ipython-input-49-91bd01b65c59>\u001b[0m in \u001b[0;36m<module>\u001b[0;34m()\u001b[0m\n\u001b[1;32m      1\u001b[0m \u001b[0mrand_int\u001b[0m \u001b[0;34m=\u001b[0m \u001b[0mrandom\u001b[0m\u001b[0;34m.\u001b[0m\u001b[0mrandint\u001b[0m\u001b[0;34m(\u001b[0m\u001b[0;36m0\u001b[0m\u001b[0;34m,\u001b[0m \u001b[0mlen\u001b[0m\u001b[0;34m(\u001b[0m\u001b[0mcommon_voice_train\u001b[0m\u001b[0;34m)\u001b[0m\u001b[0;34m-\u001b[0m\u001b[0;36m1\u001b[0m\u001b[0;34m)\u001b[0m\u001b[0;34m\u001b[0m\u001b[0;34m\u001b[0m\u001b[0m\n\u001b[1;32m      2\u001b[0m \u001b[0;34m\u001b[0m\u001b[0m\n\u001b[0;32m----> 3\u001b[0;31m \u001b[0mprint\u001b[0m\u001b[0;34m(\u001b[0m\u001b[0;34m\"Target text:\"\u001b[0m\u001b[0;34m,\u001b[0m \u001b[0mcommon_voice_train\u001b[0m\u001b[0;34m[\u001b[0m\u001b[0mrand_int\u001b[0m\u001b[0;34m]\u001b[0m\u001b[0;34m[\u001b[0m\u001b[0;34m\"sentence\"\u001b[0m\u001b[0;34m]\u001b[0m\u001b[0;34m)\u001b[0m\u001b[0;34m\u001b[0m\u001b[0;34m\u001b[0m\u001b[0m\n\u001b[0m\u001b[1;32m      4\u001b[0m \u001b[0mprint\u001b[0m\u001b[0;34m(\u001b[0m\u001b[0;34m\"Input array shape:\"\u001b[0m\u001b[0;34m,\u001b[0m \u001b[0mcommon_voice_train\u001b[0m\u001b[0;34m[\u001b[0m\u001b[0mrand_int\u001b[0m\u001b[0;34m]\u001b[0m\u001b[0;34m[\u001b[0m\u001b[0;34m\"audio\"\u001b[0m\u001b[0;34m]\u001b[0m\u001b[0;34m[\u001b[0m\u001b[0;34m\"array\"\u001b[0m\u001b[0;34m]\u001b[0m\u001b[0;34m.\u001b[0m\u001b[0mshape\u001b[0m\u001b[0;34m)\u001b[0m\u001b[0;34m\u001b[0m\u001b[0;34m\u001b[0m\u001b[0m\n\u001b[1;32m      5\u001b[0m \u001b[0mprint\u001b[0m\u001b[0;34m(\u001b[0m\u001b[0;34m\"Sampling rate:\"\u001b[0m\u001b[0;34m,\u001b[0m \u001b[0mcommon_voice_train\u001b[0m\u001b[0;34m[\u001b[0m\u001b[0mrand_int\u001b[0m\u001b[0;34m]\u001b[0m\u001b[0;34m[\u001b[0m\u001b[0;34m\"audio\"\u001b[0m\u001b[0;34m]\u001b[0m\u001b[0;34m[\u001b[0m\u001b[0;34m\"sampling_rate\"\u001b[0m\u001b[0;34m]\u001b[0m\u001b[0;34m)\u001b[0m\u001b[0;34m\u001b[0m\u001b[0;34m\u001b[0m\u001b[0m\n",
            "\u001b[0;31mKeyError\u001b[0m: 'sentence'"
          ]
        }
      ],
      "source": [
        "rand_int = random.randint(0, len(common_voice_train)-1)\n",
        "\n",
        "print(\"Target text:\", common_voice_train[rand_int][\"sentence\"])\n",
        "print(\"Input array shape:\", common_voice_train[rand_int][\"audio\"][\"array\"].shape)\n",
        "print(\"Sampling rate:\", common_voice_train[rand_int][\"audio\"][\"sampling_rate\"])"
      ]
    },
    {
      "cell_type": "markdown",
      "metadata": {
        "id": "M9teZcSwOBJ4"
      },
      "source": [
        "Good! Everything looks fine - the data is a 1-dimensional array, the sampling rate always corresponds to 16kHz, and the target text is normalized."
      ]
    },
    {
      "cell_type": "markdown",
      "metadata": {
        "id": "k3Pbn5WvOYZF"
      },
      "source": [
        "Finally, we can leverage `Wav2Vec2Processor` to process the data to the format expected by `Wav2Vec2ForCTC` for training. To do so let's make use of Dataset's [`map(...)`](https://huggingface.co/docs/datasets/package_reference/main_classes.html?highlight=map#datasets.DatasetDict.map) function.\n",
        "\n",
        "First, we load and resample the audio data, simply by calling `batch[\"audio\"]`.\n",
        "Second, we extract the `input_values` from the loaded audio file. In our case, the `Wav2Vec2Processor` only normalizes the data. For other speech models, however, this step can include more complex feature extraction, such as [Log-Mel feature extraction](https://en.wikipedia.org/wiki/Mel-frequency_cepstrum). \n",
        "Third, we encode the transcriptions to label ids.\n",
        "\n",
        "**Note**: This mapping function is a good example of how the `Wav2Vec2Processor` class should be used. In \"normal\" context, calling `processor(...)` is redirected to `Wav2Vec2FeatureExtractor`'s call method. When wrapping the processor into the `as_target_processor` context, however, the same method is redirected to `Wav2Vec2CTCTokenizer`'s call method.\n",
        "For more information please check the [docs](https://huggingface.co/transformers/master/model_doc/wav2vec2.html#transformers.Wav2Vec2Processor.__call__)."
      ]
    },
    {
      "cell_type": "code",
      "execution_count": null,
      "metadata": {
        "id": "eJY7I0XAwe9p"
      },
      "outputs": [],
      "source": [
        "def prepare_dataset(batch):\n",
        "    audio = batch[\"audio\"]\n",
        "\n",
        "    # batched output is \"un-batched\"\n",
        "    batch[\"input_values\"] = processor(audio[\"array\"], sampling_rate=audio[\"sampling_rate\"]).input_values[0]\n",
        "    batch[\"input_length\"] = len(batch[\"input_values\"])\n",
        "    \n",
        "    with processor.as_target_processor():\n",
        "        batch[\"labels\"] = processor(batch[\"sentence\"]).input_ids\n",
        "    return batch"
      ]
    },
    {
      "cell_type": "markdown",
      "metadata": {
        "id": "q6Pg_WR3OGAP"
      },
      "source": [
        "Let's apply the data preparation function to all examples."
      ]
    },
    {
      "cell_type": "code",
      "execution_count": null,
      "metadata": {
        "id": "-np9xYK-wl8q",
        "colab": {
          "base_uri": "https://localhost:8080/",
          "height": 81,
          "referenced_widgets": [
            "9152bec5d0bc4c5185f08eec06e3062a",
            "61390a789d394014995c93c53de1caad",
            "db648a46b1514a39a7fef4be39957d23",
            "b40a753146354964a3822d6df9e6310d",
            "3b83680917684e5eb7c7b7067b52ba94",
            "750d379a1bf74878ab4d159c339d83a7",
            "d8798dfcac084177a098cbc0c45bab5b",
            "dcd53c71fc274d20a95c822c376b59bf",
            "a980bad5515e4df1aa0242a4f83055f4",
            "58db9d575f2345ffb7b08fd594360d46",
            "daf01c05718048be8ef0030dd5cda3d8",
            "834f7be593bd489f96e446ca7569bd98",
            "2e959f1d79094f4db715cc7b993e1a1b",
            "46f2ef6608fd49ec8b0ccc64dfff5eaf",
            "0f09ebaadd5c47fbb523664e0a760617",
            "f2231d80c4814fe6947101ae3e6cae94",
            "ed7d5affcfaf4b80a93b7daadad37769",
            "8026340c5bdf430c895c29ce4abd1a25",
            "403af7b61da041ffb7e075d8450dcc4f",
            "a6b50afce3c24f41a3eaa83f08bd5b7f",
            "cb2314236120425093af0e4230b45ac5",
            "714674c403a4449a88a552840342e07e"
          ]
        },
        "outputId": "9ca07baf-6931-4512-dddb-543719857f07"
      },
      "outputs": [
        {
          "output_type": "display_data",
          "data": {
            "text/plain": [
              "0ex [00:00, ?ex/s]"
            ],
            "application/vnd.jupyter.widget-view+json": {
              "version_major": 2,
              "version_minor": 0,
              "model_id": "9152bec5d0bc4c5185f08eec06e3062a"
            }
          },
          "metadata": {}
        },
        {
          "output_type": "display_data",
          "data": {
            "text/plain": [
              "0ex [00:00, ?ex/s]"
            ],
            "application/vnd.jupyter.widget-view+json": {
              "version_major": 2,
              "version_minor": 0,
              "model_id": "834f7be593bd489f96e446ca7569bd98"
            }
          },
          "metadata": {}
        }
      ],
      "source": [
        "common_voice_train = common_voice_train.map(prepare_dataset, remove_columns=common_voice_train.column_names)\n",
        "common_voice_test = common_voice_test.map(prepare_dataset, remove_columns=common_voice_test.column_names)"
      ]
    },
    {
      "cell_type": "markdown",
      "metadata": {
        "id": "nKcEWHvKI1by"
      },
      "source": [
        "**Note**: Currently `datasets` make use of [`torchaudio`](https://pytorch.org/audio/stable/index.html) and [`librosa`](https://librosa.org/doc/latest/index.html) for audio loading and resampling. If you wish to implement your own costumized data loading/sampling, feel free to just make use of the `\"path\"` column instead and disregard the `\"audio\"` column."
      ]
    },
    {
      "cell_type": "markdown",
      "metadata": {
        "id": "24CxHd5ewI4T"
      },
      "source": [
        "Long input sequences require a lot of memory. XLS-R is based on `self-attention` the memory requirement scales quadratically with the input length for long input sequences (*cf.* with [this](https://www.reddit.com/r/MachineLearning/comments/genjvb/d_why_is_the_maximum_input_sequence_length_of/) reddit post). In case this demo crashes with an \"Out-of-memory\" error for you, you might want to uncomment the following lines to filter all sequences that are longer than 5 seconds for training."
      ]
    },
    {
      "cell_type": "code",
      "execution_count": null,
      "metadata": {
        "id": "tdHfbUJ_09iA"
      },
      "outputs": [],
      "source": [
        "max_input_length_in_sec = 8.0\n",
        "common_voice_train = common_voice_train.filter(lambda x: x < max_input_length_in_sec * processor.feature_extractor.sampling_rate, input_columns=[\"input_length\"])"
      ]
    },
    {
      "cell_type": "markdown",
      "metadata": {
        "id": "1ZWDCCKqwcfS"
      },
      "source": [
        "Awesome, now we are ready to start training!"
      ]
    },
    {
      "cell_type": "markdown",
      "metadata": {
        "id": "gYlQkKVoRUos"
      },
      "source": [
        "## Training\n",
        "\n",
        "The data is processed so that we are ready to start setting up the training pipeline. We will make use of 🤗's [Trainer](https://huggingface.co/transformers/master/main_classes/trainer.html?highlight=trainer) for which we essentially need to do the following:\n",
        "\n",
        "- Define a data collator. In contrast to most NLP models, XLS-R has a much larger input length than output length. *E.g.*, a sample of input length 50000 has an output length of no more than 100. Given the large input sizes, it is much more efficient to pad the training batches dynamically meaning that all training samples should only be padded to the longest sample in their batch and not the overall longest sample. Therefore, fine-tuning XLS-R requires a special padding data collator, which we will define below\n",
        "\n",
        "- Evaluation metric. During training, the model should be evaluated on the word error rate. We should define a `compute_metrics` function accordingly\n",
        "\n",
        "- Load a pretrained checkpoint. We need to load a pretrained checkpoint and configure it correctly for training.\n",
        "\n",
        "- Define the training configuration.\n",
        "\n",
        "After having fine-tuned the model, we will correctly evaluate it on the test data and verify that it has indeed learned to correctly transcribe speech."
      ]
    },
    {
      "cell_type": "markdown",
      "metadata": {
        "id": "Slk403unUS91"
      },
      "source": [
        "### Set-up Trainer\n",
        "\n",
        "Let's start by defining the data collator. The code for the data collator was copied from [this example](https://github.com/huggingface/transformers/blob/7e61d56a45c19284cfda0cee8995fb552f6b1f4e/examples/pytorch/speech-recognition/run_speech_recognition_ctc.py#L219).\n",
        "\n",
        "Without going into too many details, in contrast to the common data collators, this data collator treats the `input_values` and `labels` differently and thus applies to separate padding functions on them (again making use of XLS-R processor's context manager). This is necessary because in speech input and output are of different modalities meaning that they should not be treated by the same padding function.\n",
        "Analogous to the common data collators, the padding tokens in the labels with `-100` so that those tokens are **not** taken into account when computing the loss."
      ]
    },
    {
      "cell_type": "code",
      "execution_count": null,
      "metadata": {
        "id": "tborvC9hx88e"
      },
      "outputs": [],
      "source": [
        "import torch\n",
        "\n",
        "from dataclasses import dataclass, field\n",
        "from typing import Any, Dict, List, Optional, Union\n",
        "\n",
        "@dataclass\n",
        "class DataCollatorCTCWithPadding:\n",
        "    \"\"\"\n",
        "    Data collator that will dynamically pad the inputs received.\n",
        "    Args:\n",
        "        processor (:class:`~transformers.Wav2Vec2Processor`)\n",
        "            The processor used for proccessing the data.\n",
        "        padding (:obj:`bool`, :obj:`str` or :class:`~transformers.tokenization_utils_base.PaddingStrategy`, `optional`, defaults to :obj:`True`):\n",
        "            Select a strategy to pad the returned sequences (according to the model's padding side and padding index)\n",
        "            among:\n",
        "            * :obj:`True` or :obj:`'longest'`: Pad to the longest sequence in the batch (or no padding if only a single\n",
        "              sequence if provided).\n",
        "            * :obj:`'max_length'`: Pad to a maximum length specified with the argument :obj:`max_length` or to the\n",
        "              maximum acceptable input length for the model if that argument is not provided.\n",
        "            * :obj:`False` or :obj:`'do_not_pad'` (default): No padding (i.e., can output a batch with sequences of\n",
        "              different lengths).\n",
        "    \"\"\"\n",
        "\n",
        "    processor: Wav2Vec2Processor\n",
        "    padding: Union[bool, str] = True\n",
        "\n",
        "    def __call__(self, features: List[Dict[str, Union[List[int], torch.Tensor]]]) -> Dict[str, torch.Tensor]:\n",
        "        # split inputs and labels since they have to be of different lenghts and need\n",
        "        # different padding methods\n",
        "        input_features = [{\"input_values\": feature[\"input_values\"]} for feature in features]\n",
        "        label_features = [{\"input_ids\": feature[\"labels\"]} for feature in features]\n",
        "\n",
        "        batch = self.processor.pad(\n",
        "            input_features,\n",
        "            padding=self.padding,\n",
        "            return_tensors=\"pt\",\n",
        "        )\n",
        "        with self.processor.as_target_processor():\n",
        "            labels_batch = self.processor.pad(\n",
        "                label_features,\n",
        "                padding=self.padding,\n",
        "                return_tensors=\"pt\",\n",
        "            )\n",
        "\n",
        "        # replace padding with -100 to ignore loss correctly\n",
        "        labels = labels_batch[\"input_ids\"].masked_fill(labels_batch.attention_mask.ne(1), -100)\n",
        "\n",
        "        batch[\"labels\"] = labels\n",
        "\n",
        "        return batch"
      ]
    },
    {
      "cell_type": "code",
      "execution_count": null,
      "metadata": {
        "id": "lbQf5GuZyQ4_"
      },
      "outputs": [],
      "source": [
        "data_collator = DataCollatorCTCWithPadding(processor=processor, padding=True)"
      ]
    },
    {
      "cell_type": "markdown",
      "metadata": {
        "id": "xO-Zdj-5cxXp"
      },
      "source": [
        "Next, the evaluation metric is defined. As mentioned earlier, the \n",
        "predominant metric in ASR is the word error rate (WER), hence we will use it in this notebook as well."
      ]
    },
    {
      "cell_type": "code",
      "execution_count": null,
      "metadata": {
        "id": "9Xsux2gmyXso"
      },
      "outputs": [],
      "source": [
        "wer_metric = load_metric(\"wer\")"
      ]
    },
    {
      "cell_type": "markdown",
      "metadata": {
        "id": "E1qZU5p-deqB"
      },
      "source": [
        "The model will return a sequence of logit vectors:\n",
        "$\\mathbf{y}_1, \\ldots, \\mathbf{y}_m$ with $\\mathbf{y}_1 = f_{\\theta}(x_1, \\ldots, x_n)[0]$ and $n >> m$.\n",
        "\n",
        "A logit vector $\\mathbf{y}_1$ contains the log-odds for each word in the vocabulary we defined earlier, thus $\\text{len}(\\mathbf{y}_i) =$ `config.vocab_size`. We are interested in the most likely prediction of the model and thus take the `argmax(...)` of the logits. Also, we transform the encoded labels back to the original string by replacing `-100` with the `pad_token_id` and decoding the ids while making sure that consecutive tokens are **not** grouped to the same token in CTC style ${}^1$."
      ]
    },
    {
      "cell_type": "code",
      "execution_count": null,
      "metadata": {
        "id": "1XZ-kjweyTy_"
      },
      "outputs": [],
      "source": [
        "def compute_metrics(pred):\n",
        "    pred_logits = pred.predictions\n",
        "    pred_ids = np.argmax(pred_logits, axis=-1)\n",
        "\n",
        "    pred.label_ids[pred.label_ids == -100] = processor.tokenizer.pad_token_id\n",
        "\n",
        "    pred_str = processor.batch_decode(pred_ids)\n",
        "    # we do not want to group tokens when computing the metrics\n",
        "    label_str = processor.batch_decode(pred.label_ids, group_tokens=False)\n",
        "\n",
        "    wer = wer_metric.compute(predictions=pred_str, references=label_str)\n",
        "\n",
        "    return {\"wer\": wer}"
      ]
    },
    {
      "cell_type": "markdown",
      "metadata": {
        "id": "Xmgrx4bRwLIH"
      },
      "source": [
        "Now, we can load the pretrained checkpoint of [Wav2Vec2-XLS-R-300M](https://huggingface.co/facebook/wav2vec2-xls-r-300m). The tokenizer's `pad_token_id` must be to define the model's `pad_token_id` or in the case of `Wav2Vec2ForCTC` also CTC's *blank token* ${}^2$. To save GPU memory, we enable PyTorch's [gradient checkpointing](https://pytorch.org/docs/stable/checkpoint.html) and also set the loss reduction to \"*mean*\".\n",
        "\n",
        "Because the dataset is quite small (~6h of training data) and because Common Voice is quite noisy, fine-tuning Facebook's [wav2vec2-xls-r-300m checkpoint](https://huggingface.co/facebook/wav2vec2-xls-r-300m) seems to require some hyper-parameter tuning. Therefore, I had to play around a bit with different values for dropout, [SpecAugment](https://arxiv.org/abs/1904.08779)'s masking dropout rate, layer dropout, and the learning rate until training seemed to be stable enough. \n",
        "\n",
        "**Note**: When using this notebook to train XLS-R on another language of Common Voice those hyper-parameter settings might not work very well. Feel free to adapt those depending on your use case. "
      ]
    },
    {
      "cell_type": "code",
      "execution_count": null,
      "metadata": {
        "id": "e7cqAWIayn6w"
      },
      "outputs": [],
      "source": [
        "from transformers import Wav2Vec2ForCTC\n",
        "\n",
        "model = Wav2Vec2ForCTC.from_pretrained(\n",
        "    \"facebook/wav2vec2-xls-r-300m\", \n",
        "    attention_dropout=0.05,\n",
        "    hidden_dropout=0.05,\n",
        "    feat_proj_dropout=0.05,\n",
        "    mask_time_prob=0.05,\n",
        "    layerdrop=0.05,\n",
        "    ctc_loss_reduction=\"mean\", \n",
        "    pad_token_id=processor.tokenizer.pad_token_id,\n",
        "    vocab_size=len(processor.tokenizer),\n",
        ")"
      ]
    },
    {
      "cell_type": "markdown",
      "metadata": {
        "id": "1DwR3XLSzGDD"
      },
      "source": [
        "The first component of XLS-R consists of a stack of CNN layers that are used to extract acoustically meaningful - but contextually independent - features from the raw speech signal. This part of the model has already been sufficiently trained during pretraining and as stated in the [paper](https://arxiv.org/pdf/2006.13979.pdf) does not need to be fine-tuned anymore. \n",
        "Thus, we can set the `requires_grad` to `False` for all parameters of the *feature extraction* part."
      ]
    },
    {
      "cell_type": "code",
      "execution_count": null,
      "metadata": {
        "id": "oGI8zObtZ3V0"
      },
      "outputs": [],
      "source": [
        "model.freeze_feature_extractor()"
      ]
    },
    {
      "cell_type": "markdown",
      "metadata": {
        "id": "lD4aGhQM0K-D"
      },
      "source": [
        "In a final step, we define all parameters related to training. \n",
        "To give more explanation on some of the parameters:\n",
        "- `group_by_length` makes training more efficient by grouping training samples of similar input length into one batch. This can significantly speed up training time by heavily reducing the overall number of useless padding tokens that are passed through the model\n",
        "- `learning_rate` and `weight_decay` were heuristically tuned until fine-tuning has become stable. Note that those parameters strongly depend on the Common Voice dataset and might be suboptimal for other speech datasets.\n",
        "\n",
        "For more explanations on other parameters, one can take a look at the [docs](https://huggingface.co/transformers/master/main_classes/trainer.html?highlight=trainer#trainingarguments).\n",
        "\n",
        "During training, a checkpoint will be uploaded asynchronously to the hub every 400 training steps. It allows you to also play around with the demo widget even while your model is still training.\n",
        "\n",
        "**Note**: If one does not want to upload the model checkpoints to the hub, simply set `push_to_hub=False`."
      ]
    },
    {
      "cell_type": "code",
      "execution_count": null,
      "metadata": {
        "id": "KbeKSV7uzGPP"
      },
      "outputs": [],
      "source": [
        "from transformers import TrainingArguments\n",
        "\n",
        "training_args = TrainingArguments(\n",
        "  output_dir=repo_name,\n",
        "  group_by_length=True,\n",
        "  per_device_train_batch_size=12,\n",
        "  gradient_accumulation_steps=3,\n",
        "  evaluation_strategy=\"steps\",\n",
        "  num_train_epochs=8,\n",
        "  gradient_checkpointing=True,\n",
        "  fp16=True,\n",
        "  save_steps=400,\n",
        "  eval_steps=400,\n",
        "  logging_steps=400,\n",
        "  learning_rate=7e-5,\n",
        "  warmup_steps=400,\n",
        "  save_total_limit=2,\n",
        "  push_to_hub=True,\n",
        ")"
      ]
    },
    {
      "cell_type": "markdown",
      "metadata": {
        "id": "OsW-WZcL1ZtN"
      },
      "source": [
        "Now, all instances can be passed to Trainer and we are ready to start training!"
      ]
    },
    {
      "cell_type": "code",
      "execution_count": null,
      "metadata": {
        "id": "rY7vBmFCPFgC"
      },
      "outputs": [],
      "source": [
        "from transformers import Trainer\n",
        "\n",
        "trainer = Trainer(\n",
        "    model=model,\n",
        "    data_collator=data_collator,\n",
        "    args=training_args,\n",
        "    compute_metrics=compute_metrics,\n",
        "    train_dataset=common_voice_train,\n",
        "    eval_dataset=common_voice_test,\n",
        "    tokenizer=processor.feature_extractor,\n",
        ")"
      ]
    },
    {
      "cell_type": "markdown",
      "metadata": {
        "id": "UoXBx1JAA0DX"
      },
      "source": [
        "\n",
        "\n",
        "---\n",
        "\n",
        "${}^1$ To allow models to become independent of the speaker rate, in CTC, consecutive tokens that are identical are simply grouped as a single token. However, the encoded labels should not be grouped when decoding since they don't correspond to the predicted tokens of the model, which is why the `group_tokens=False` parameter has to be passed. If we wouldn't pass this parameter a word like `\"hello\"` would incorrectly be encoded, and decoded as `\"helo\"`.\n",
        "\n",
        "${}^2$ The blank token allows the model to predict a word, such as `\"hello\"` by forcing it to insert the blank token between the two l's. A CTC-conform prediction of `\"hello\"` of our model would be `[PAD] [PAD] \"h\" \"e\" \"e\" \"l\" \"l\" [PAD] \"l\" \"o\" \"o\" [PAD]`."
      ]
    },
    {
      "cell_type": "markdown",
      "metadata": {
        "id": "rpvZHM1xReIW"
      },
      "source": [
        "### Training"
      ]
    },
    {
      "cell_type": "markdown",
      "metadata": {
        "id": "j-3oKSzZ1hGq"
      },
      "source": [
        "Training will take multiple hours depending on the GPU allocated to this notebook. While the trained model yields somewhat satisfying results on *Common Voice*'s test data of Turkish, it is by no means an optimally fine-tuned model. The purpose of this notebook is just to demonstrate how to fine-tune XLS-R on an ASR dataset.\n",
        "\n",
        "In case you want to use this google colab to fine-tune your model, you should make sure that your training doesn't stop due to inactivity. A simple hack to prevent this is to paste the following code into the console of this tab (*right mouse click -> inspect -> Console tab and insert code*)."
      ]
    },
    {
      "cell_type": "markdown",
      "metadata": {
        "id": "VYYAvgkW4P0m"
      },
      "source": [
        "```javascript\n",
        "function ConnectButton(){\n",
        "    console.log(\"Connect pushed\"); \n",
        "    document.querySelector(\"#top-toolbar > colab-connect-button\").shadowRoot.querySelector(\"#connect\").click() \n",
        "}\n",
        "setInterval(ConnectButton,60000);\n",
        "```"
      ]
    },
    {
      "cell_type": "markdown",
      "metadata": {
        "id": "7bGgLV2r0yvZ"
      },
      "source": [
        "Depending on what GPU was allocated to your google colab it might be possible that you are seeing an `\"out-of-memory\"` error here. In this case, it's probably best to reduce `per_device_train_batch_size` to 8 or even less and increase [`gradient_accumulation`](https://huggingface.co/transformers/master/main_classes/trainer.html#trainingarguments)."
      ]
    },
    {
      "cell_type": "code",
      "execution_count": 47,
      "metadata": {
        "id": "9fRr9TG5pGBl",
        "colab": {
          "base_uri": "https://localhost:8080/",
          "height": 1000
        },
        "outputId": "94c74912-1f37-4e4a-c2b2-1c6c8d97e002"
      },
      "outputs": [
        {
          "metadata": {
            "tags": null
          },
          "name": "stderr",
          "output_type": "stream",
          "text": [
            "The following columns in the training set  don't have a corresponding argument in `Wav2Vec2ForCTC.forward` and have been ignored: input_length.\n",
            "***** Running training *****\n",
            "  Num examples = 79620\n",
            "  Num Epochs = 8\n",
            "  Instantaneous batch size per device = 12\n",
            "  Total train batch size (w. parallel, distributed & accumulation) = 24\n",
            "  Gradient Accumulation steps = 2\n",
            "  Total optimization steps = 26536\n",
            "/usr/local/lib/python3.7/dist-packages/transformers/feature_extraction_utils.py:158: UserWarning: Creating a tensor from a list of numpy.ndarrays is extremely slow. Please consider converting the list to a single numpy.ndarray with numpy.array() before converting to a tensor. (Triggered internally at  ../torch/csrc/utils/tensor_new.cpp:201.)\n",
            "  tensor = as_tensor(value)\n",
            "/usr/local/lib/python3.7/dist-packages/transformers/models/wav2vec2/modeling_wav2vec2.py:882: UserWarning: __floordiv__ is deprecated, and its behavior will change in a future version of pytorch. It currently rounds toward 0 (like the 'trunc' function NOT 'floor'). This results in incorrect rounding for negative values. To keep the current behavior, use torch.div(a, b, rounding_mode='trunc'), or for actual floor division, use torch.div(a, b, rounding_mode='floor').\n",
            "  return (input_length - kernel_size) // stride + 1\n"
          ]
        },
        {
          "data": {
            "text/html": [
              "\n",
              "    <div>\n",
              "      \n",
              "      <progress value='19825' max='26536' style='width:300px; height:20px; vertical-align: middle;'></progress>\n",
              "      [19825/26536 13:29:50 < 4:34:10, 0.41 it/s, Epoch 5.98/8]\n",
              "    </div>\n",
              "    <table border=\"1\" class=\"dataframe\">\n",
              "  <thead>\n",
              "    <tr style=\"text-align: left;\">\n",
              "      <th>Step</th>\n",
              "      <th>Training Loss</th>\n",
              "      <th>Validation Loss</th>\n",
              "      <th>Wer</th>\n",
              "    </tr>\n",
              "  </thead>\n",
              "  <tbody>\n",
              "    <tr>\n",
              "      <td>400</td>\n",
              "      <td>9.063400</td>\n",
              "      <td>3.055416</td>\n",
              "      <td>1.000000</td>\n",
              "    </tr>\n",
              "    <tr>\n",
              "      <td>800</td>\n",
              "      <td>2.800900</td>\n",
              "      <td>1.592652</td>\n",
              "      <td>0.955382</td>\n",
              "    </tr>\n",
              "    <tr>\n",
              "      <td>1200</td>\n",
              "      <td>0.902200</td>\n",
              "      <td>0.732839</td>\n",
              "      <td>0.644515</td>\n",
              "    </tr>\n",
              "    <tr>\n",
              "      <td>1600</td>\n",
              "      <td>0.621300</td>\n",
              "      <td>0.613759</td>\n",
              "      <td>0.550952</td>\n",
              "    </tr>\n",
              "    <tr>\n",
              "      <td>2000</td>\n",
              "      <td>0.529900</td>\n",
              "      <td>0.607227</td>\n",
              "      <td>0.522348</td>\n",
              "    </tr>\n",
              "    <tr>\n",
              "      <td>2400</td>\n",
              "      <td>0.499900</td>\n",
              "      <td>0.544922</td>\n",
              "      <td>0.496892</td>\n",
              "    </tr>\n",
              "    <tr>\n",
              "      <td>2800</td>\n",
              "      <td>0.473100</td>\n",
              "      <td>0.526079</td>\n",
              "      <td>0.482767</td>\n",
              "    </tr>\n",
              "    <tr>\n",
              "      <td>3200</td>\n",
              "      <td>0.458000</td>\n",
              "      <td>0.505777</td>\n",
              "      <td>0.460694</td>\n",
              "    </tr>\n",
              "    <tr>\n",
              "      <td>3600</td>\n",
              "      <td>0.415800</td>\n",
              "      <td>0.489234</td>\n",
              "      <td>0.446254</td>\n",
              "    </tr>\n",
              "    <tr>\n",
              "      <td>4000</td>\n",
              "      <td>0.403700</td>\n",
              "      <td>0.475871</td>\n",
              "      <td>0.442910</td>\n",
              "    </tr>\n",
              "    <tr>\n",
              "      <td>4400</td>\n",
              "      <td>0.402100</td>\n",
              "      <td>0.461454</td>\n",
              "      <td>0.432956</td>\n",
              "    </tr>\n",
              "    <tr>\n",
              "      <td>4800</td>\n",
              "      <td>0.393400</td>\n",
              "      <td>0.459317</td>\n",
              "      <td>0.431500</td>\n",
              "    </tr>\n",
              "    <tr>\n",
              "      <td>5200</td>\n",
              "      <td>0.380800</td>\n",
              "      <td>0.473587</td>\n",
              "      <td>0.434372</td>\n",
              "    </tr>\n",
              "    <tr>\n",
              "      <td>5600</td>\n",
              "      <td>0.383800</td>\n",
              "      <td>0.456901</td>\n",
              "      <td>0.424890</td>\n",
              "    </tr>\n",
              "    <tr>\n",
              "      <td>6000</td>\n",
              "      <td>0.372600</td>\n",
              "      <td>0.447273</td>\n",
              "      <td>0.414031</td>\n",
              "    </tr>\n",
              "    <tr>\n",
              "      <td>6400</td>\n",
              "      <td>0.362300</td>\n",
              "      <td>0.440251</td>\n",
              "      <td>0.409663</td>\n",
              "    </tr>\n",
              "    <tr>\n",
              "      <td>6800</td>\n",
              "      <td>0.351700</td>\n",
              "      <td>0.438884</td>\n",
              "      <td>0.406083</td>\n",
              "    </tr>\n",
              "    <tr>\n",
              "      <td>7200</td>\n",
              "      <td>0.333000</td>\n",
              "      <td>0.438322</td>\n",
              "      <td>0.410411</td>\n",
              "    </tr>\n",
              "    <tr>\n",
              "      <td>7600</td>\n",
              "      <td>0.335400</td>\n",
              "      <td>0.435994</td>\n",
              "      <td>0.395460</td>\n",
              "    </tr>\n",
              "    <tr>\n",
              "      <td>8000</td>\n",
              "      <td>0.325700</td>\n",
              "      <td>0.422570</td>\n",
              "      <td>0.394161</td>\n",
              "    </tr>\n",
              "    <tr>\n",
              "      <td>8400</td>\n",
              "      <td>0.327500</td>\n",
              "      <td>0.420587</td>\n",
              "      <td>0.404037</td>\n",
              "    </tr>\n",
              "    <tr>\n",
              "      <td>8800</td>\n",
              "      <td>0.326200</td>\n",
              "      <td>0.417192</td>\n",
              "      <td>0.387512</td>\n",
              "    </tr>\n",
              "    <tr>\n",
              "      <td>9200</td>\n",
              "      <td>0.320600</td>\n",
              "      <td>0.420930</td>\n",
              "      <td>0.387748</td>\n",
              "    </tr>\n",
              "    <tr>\n",
              "      <td>9600</td>\n",
              "      <td>0.323000</td>\n",
              "      <td>0.417690</td>\n",
              "      <td>0.382476</td>\n",
              "    </tr>\n",
              "    <tr>\n",
              "      <td>10000</td>\n",
              "      <td>0.309900</td>\n",
              "      <td>0.410096</td>\n",
              "      <td>0.369098</td>\n",
              "    </tr>\n",
              "    <tr>\n",
              "      <td>10400</td>\n",
              "      <td>0.300800</td>\n",
              "      <td>0.405466</td>\n",
              "      <td>0.370869</td>\n",
              "    </tr>\n",
              "    <tr>\n",
              "      <td>10800</td>\n",
              "      <td>0.291800</td>\n",
              "      <td>0.408487</td>\n",
              "      <td>0.379958</td>\n",
              "    </tr>\n",
              "    <tr>\n",
              "      <td>11200</td>\n",
              "      <td>0.292000</td>\n",
              "      <td>0.408855</td>\n",
              "      <td>0.371262</td>\n",
              "    </tr>\n",
              "    <tr>\n",
              "      <td>11600</td>\n",
              "      <td>0.292000</td>\n",
              "      <td>0.409152</td>\n",
              "      <td>0.373033</td>\n",
              "    </tr>\n",
              "    <tr>\n",
              "      <td>12000</td>\n",
              "      <td>0.278500</td>\n",
              "      <td>0.415081</td>\n",
              "      <td>0.368744</td>\n",
              "    </tr>\n",
              "    <tr>\n",
              "      <td>12400</td>\n",
              "      <td>0.294100</td>\n",
              "      <td>0.400421</td>\n",
              "      <td>0.363944</td>\n",
              "    </tr>\n",
              "    <tr>\n",
              "      <td>12800</td>\n",
              "      <td>0.283800</td>\n",
              "      <td>0.410820</td>\n",
              "      <td>0.370318</td>\n",
              "    </tr>\n",
              "    <tr>\n",
              "      <td>13200</td>\n",
              "      <td>0.285400</td>\n",
              "      <td>0.391120</td>\n",
              "      <td>0.359577</td>\n",
              "    </tr>\n",
              "    <tr>\n",
              "      <td>13600</td>\n",
              "      <td>0.268300</td>\n",
              "      <td>0.394401</td>\n",
              "      <td>0.357452</td>\n",
              "    </tr>\n",
              "    <tr>\n",
              "      <td>14000</td>\n",
              "      <td>0.264700</td>\n",
              "      <td>0.383625</td>\n",
              "      <td>0.353754</td>\n",
              "    </tr>\n",
              "    <tr>\n",
              "      <td>14400</td>\n",
              "      <td>0.270400</td>\n",
              "      <td>0.400552</td>\n",
              "      <td>0.353950</td>\n",
              "    </tr>\n",
              "    <tr>\n",
              "      <td>14800</td>\n",
              "      <td>0.266400</td>\n",
              "      <td>0.397403</td>\n",
              "      <td>0.355288</td>\n",
              "    </tr>\n",
              "    <tr>\n",
              "      <td>15200</td>\n",
              "      <td>0.266200</td>\n",
              "      <td>0.389028</td>\n",
              "      <td>0.346986</td>\n",
              "    </tr>\n",
              "    <tr>\n",
              "      <td>15600</td>\n",
              "      <td>0.261500</td>\n",
              "      <td>0.385610</td>\n",
              "      <td>0.350724</td>\n",
              "    </tr>\n",
              "    <tr>\n",
              "      <td>16000</td>\n",
              "      <td>0.255300</td>\n",
              "      <td>0.381438</td>\n",
              "      <td>0.349701</td>\n",
              "    </tr>\n",
              "    <tr>\n",
              "      <td>16400</td>\n",
              "      <td>0.258700</td>\n",
              "      <td>0.383664</td>\n",
              "      <td>0.343996</td>\n",
              "    </tr>\n",
              "    <tr>\n",
              "      <td>16800</td>\n",
              "      <td>0.252200</td>\n",
              "      <td>0.383447</td>\n",
              "      <td>0.348639</td>\n",
              "    </tr>\n",
              "    <tr>\n",
              "      <td>17200</td>\n",
              "      <td>0.245100</td>\n",
              "      <td>0.389660</td>\n",
              "      <td>0.341438</td>\n",
              "    </tr>\n",
              "    <tr>\n",
              "      <td>17600</td>\n",
              "      <td>0.242300</td>\n",
              "      <td>0.386426</td>\n",
              "      <td>0.348088</td>\n",
              "    </tr>\n",
              "    <tr>\n",
              "      <td>18000</td>\n",
              "      <td>0.243400</td>\n",
              "      <td>0.380842</td>\n",
              "      <td>0.341596</td>\n",
              "    </tr>\n",
              "    <tr>\n",
              "      <td>18400</td>\n",
              "      <td>0.252500</td>\n",
              "      <td>0.379549</td>\n",
              "      <td>0.340809</td>\n",
              "    </tr>\n",
              "    <tr>\n",
              "      <td>18800</td>\n",
              "      <td>0.242700</td>\n",
              "      <td>0.384148</td>\n",
              "      <td>0.341084</td>\n",
              "    </tr>\n",
              "    <tr>\n",
              "      <td>19200</td>\n",
              "      <td>0.241100</td>\n",
              "      <td>0.380389</td>\n",
              "      <td>0.336638</td>\n",
              "    </tr>\n",
              "    <tr>\n",
              "      <td>19600</td>\n",
              "      <td>0.240400</td>\n",
              "      <td>0.380019</td>\n",
              "      <td>0.332822</td>\n",
              "    </tr>\n",
              "  </tbody>\n",
              "</table><p>"
            ],
            "text/plain": [
              "<IPython.core.display.HTML object>"
            ]
          },
          "metadata": {},
          "output_type": "display_data"
        },
        {
          "metadata": {
            "tags": null
          },
          "name": "stderr",
          "output_type": "stream",
          "text": [
            "The following columns in the evaluation set  don't have a corresponding argument in `Wav2Vec2ForCTC.forward` and have been ignored: input_length.\n",
            "***** Running Evaluation *****\n",
            "  Num examples = 3145\n",
            "  Batch size = 8\n",
            "Saving model checkpoint to peter2000/wav2vec2-large-xls-r-300m-kinyarwanda/checkpoint-400\n",
            "Configuration saved in peter2000/wav2vec2-large-xls-r-300m-kinyarwanda/checkpoint-400/config.json\n",
            "Model weights saved in peter2000/wav2vec2-large-xls-r-300m-kinyarwanda/checkpoint-400/pytorch_model.bin\n",
            "Configuration saved in peter2000/wav2vec2-large-xls-r-300m-kinyarwanda/checkpoint-400/preprocessor_config.json\n",
            "Configuration saved in peter2000/wav2vec2-large-xls-r-300m-kinyarwanda/preprocessor_config.json\n",
            "/usr/local/lib/python3.7/dist-packages/transformers/models/wav2vec2/modeling_wav2vec2.py:882: UserWarning: __floordiv__ is deprecated, and its behavior will change in a future version of pytorch. It currently rounds toward 0 (like the 'trunc' function NOT 'floor'). This results in incorrect rounding for negative values. To keep the current behavior, use torch.div(a, b, rounding_mode='trunc'), or for actual floor division, use torch.div(a, b, rounding_mode='floor').\n",
            "  return (input_length - kernel_size) // stride + 1\n",
            "The following columns in the evaluation set  don't have a corresponding argument in `Wav2Vec2ForCTC.forward` and have been ignored: input_length.\n",
            "***** Running Evaluation *****\n",
            "  Num examples = 3145\n",
            "  Batch size = 8\n",
            "Saving model checkpoint to peter2000/wav2vec2-large-xls-r-300m-kinyarwanda/checkpoint-800\n",
            "Configuration saved in peter2000/wav2vec2-large-xls-r-300m-kinyarwanda/checkpoint-800/config.json\n",
            "Model weights saved in peter2000/wav2vec2-large-xls-r-300m-kinyarwanda/checkpoint-800/pytorch_model.bin\n",
            "Configuration saved in peter2000/wav2vec2-large-xls-r-300m-kinyarwanda/checkpoint-800/preprocessor_config.json\n",
            "/usr/local/lib/python3.7/dist-packages/transformers/models/wav2vec2/modeling_wav2vec2.py:882: UserWarning: __floordiv__ is deprecated, and its behavior will change in a future version of pytorch. It currently rounds toward 0 (like the 'trunc' function NOT 'floor'). This results in incorrect rounding for negative values. To keep the current behavior, use torch.div(a, b, rounding_mode='trunc'), or for actual floor division, use torch.div(a, b, rounding_mode='floor').\n",
            "  return (input_length - kernel_size) // stride + 1\n",
            "The following columns in the evaluation set  don't have a corresponding argument in `Wav2Vec2ForCTC.forward` and have been ignored: input_length.\n",
            "***** Running Evaluation *****\n",
            "  Num examples = 3145\n",
            "  Batch size = 8\n",
            "Saving model checkpoint to peter2000/wav2vec2-large-xls-r-300m-kinyarwanda/checkpoint-1200\n",
            "Configuration saved in peter2000/wav2vec2-large-xls-r-300m-kinyarwanda/checkpoint-1200/config.json\n",
            "Model weights saved in peter2000/wav2vec2-large-xls-r-300m-kinyarwanda/checkpoint-1200/pytorch_model.bin\n",
            "Configuration saved in peter2000/wav2vec2-large-xls-r-300m-kinyarwanda/checkpoint-1200/preprocessor_config.json\n",
            "Deleting older checkpoint [peter2000/wav2vec2-large-xls-r-300m-kinyarwanda/checkpoint-400] due to args.save_total_limit\n",
            "/usr/local/lib/python3.7/dist-packages/transformers/models/wav2vec2/modeling_wav2vec2.py:882: UserWarning: __floordiv__ is deprecated, and its behavior will change in a future version of pytorch. It currently rounds toward 0 (like the 'trunc' function NOT 'floor'). This results in incorrect rounding for negative values. To keep the current behavior, use torch.div(a, b, rounding_mode='trunc'), or for actual floor division, use torch.div(a, b, rounding_mode='floor').\n",
            "  return (input_length - kernel_size) // stride + 1\n",
            "The following columns in the evaluation set  don't have a corresponding argument in `Wav2Vec2ForCTC.forward` and have been ignored: input_length.\n",
            "***** Running Evaluation *****\n",
            "  Num examples = 3145\n",
            "  Batch size = 8\n",
            "Saving model checkpoint to peter2000/wav2vec2-large-xls-r-300m-kinyarwanda/checkpoint-1600\n",
            "Configuration saved in peter2000/wav2vec2-large-xls-r-300m-kinyarwanda/checkpoint-1600/config.json\n",
            "Model weights saved in peter2000/wav2vec2-large-xls-r-300m-kinyarwanda/checkpoint-1600/pytorch_model.bin\n",
            "Configuration saved in peter2000/wav2vec2-large-xls-r-300m-kinyarwanda/checkpoint-1600/preprocessor_config.json\n",
            "Deleting older checkpoint [peter2000/wav2vec2-large-xls-r-300m-kinyarwanda/checkpoint-800] due to args.save_total_limit\n",
            "/usr/local/lib/python3.7/dist-packages/transformers/models/wav2vec2/modeling_wav2vec2.py:882: UserWarning: __floordiv__ is deprecated, and its behavior will change in a future version of pytorch. It currently rounds toward 0 (like the 'trunc' function NOT 'floor'). This results in incorrect rounding for negative values. To keep the current behavior, use torch.div(a, b, rounding_mode='trunc'), or for actual floor division, use torch.div(a, b, rounding_mode='floor').\n",
            "  return (input_length - kernel_size) // stride + 1\n",
            "The following columns in the evaluation set  don't have a corresponding argument in `Wav2Vec2ForCTC.forward` and have been ignored: input_length.\n",
            "***** Running Evaluation *****\n",
            "  Num examples = 3145\n",
            "  Batch size = 8\n",
            "Saving model checkpoint to peter2000/wav2vec2-large-xls-r-300m-kinyarwanda/checkpoint-2000\n",
            "Configuration saved in peter2000/wav2vec2-large-xls-r-300m-kinyarwanda/checkpoint-2000/config.json\n",
            "Model weights saved in peter2000/wav2vec2-large-xls-r-300m-kinyarwanda/checkpoint-2000/pytorch_model.bin\n",
            "Configuration saved in peter2000/wav2vec2-large-xls-r-300m-kinyarwanda/checkpoint-2000/preprocessor_config.json\n",
            "Deleting older checkpoint [peter2000/wav2vec2-large-xls-r-300m-kinyarwanda/checkpoint-1200] due to args.save_total_limit\n",
            "/usr/local/lib/python3.7/dist-packages/transformers/models/wav2vec2/modeling_wav2vec2.py:882: UserWarning: __floordiv__ is deprecated, and its behavior will change in a future version of pytorch. It currently rounds toward 0 (like the 'trunc' function NOT 'floor'). This results in incorrect rounding for negative values. To keep the current behavior, use torch.div(a, b, rounding_mode='trunc'), or for actual floor division, use torch.div(a, b, rounding_mode='floor').\n",
            "  return (input_length - kernel_size) // stride + 1\n",
            "The following columns in the evaluation set  don't have a corresponding argument in `Wav2Vec2ForCTC.forward` and have been ignored: input_length.\n",
            "***** Running Evaluation *****\n",
            "  Num examples = 3145\n",
            "  Batch size = 8\n",
            "Saving model checkpoint to peter2000/wav2vec2-large-xls-r-300m-kinyarwanda/checkpoint-2400\n",
            "Configuration saved in peter2000/wav2vec2-large-xls-r-300m-kinyarwanda/checkpoint-2400/config.json\n",
            "Model weights saved in peter2000/wav2vec2-large-xls-r-300m-kinyarwanda/checkpoint-2400/pytorch_model.bin\n",
            "Configuration saved in peter2000/wav2vec2-large-xls-r-300m-kinyarwanda/checkpoint-2400/preprocessor_config.json\n",
            "Deleting older checkpoint [peter2000/wav2vec2-large-xls-r-300m-kinyarwanda/checkpoint-1600] due to args.save_total_limit\n",
            "/usr/local/lib/python3.7/dist-packages/transformers/models/wav2vec2/modeling_wav2vec2.py:882: UserWarning: __floordiv__ is deprecated, and its behavior will change in a future version of pytorch. It currently rounds toward 0 (like the 'trunc' function NOT 'floor'). This results in incorrect rounding for negative values. To keep the current behavior, use torch.div(a, b, rounding_mode='trunc'), or for actual floor division, use torch.div(a, b, rounding_mode='floor').\n",
            "  return (input_length - kernel_size) // stride + 1\n",
            "The following columns in the evaluation set  don't have a corresponding argument in `Wav2Vec2ForCTC.forward` and have been ignored: input_length.\n",
            "***** Running Evaluation *****\n",
            "  Num examples = 3145\n",
            "  Batch size = 8\n",
            "Saving model checkpoint to peter2000/wav2vec2-large-xls-r-300m-kinyarwanda/checkpoint-2800\n",
            "Configuration saved in peter2000/wav2vec2-large-xls-r-300m-kinyarwanda/checkpoint-2800/config.json\n",
            "Model weights saved in peter2000/wav2vec2-large-xls-r-300m-kinyarwanda/checkpoint-2800/pytorch_model.bin\n",
            "Configuration saved in peter2000/wav2vec2-large-xls-r-300m-kinyarwanda/checkpoint-2800/preprocessor_config.json\n",
            "Deleting older checkpoint [peter2000/wav2vec2-large-xls-r-300m-kinyarwanda/checkpoint-2000] due to args.save_total_limit\n",
            "/usr/local/lib/python3.7/dist-packages/transformers/models/wav2vec2/modeling_wav2vec2.py:882: UserWarning: __floordiv__ is deprecated, and its behavior will change in a future version of pytorch. It currently rounds toward 0 (like the 'trunc' function NOT 'floor'). This results in incorrect rounding for negative values. To keep the current behavior, use torch.div(a, b, rounding_mode='trunc'), or for actual floor division, use torch.div(a, b, rounding_mode='floor').\n",
            "  return (input_length - kernel_size) // stride + 1\n",
            "The following columns in the evaluation set  don't have a corresponding argument in `Wav2Vec2ForCTC.forward` and have been ignored: input_length.\n",
            "***** Running Evaluation *****\n",
            "  Num examples = 3145\n",
            "  Batch size = 8\n",
            "Saving model checkpoint to peter2000/wav2vec2-large-xls-r-300m-kinyarwanda/checkpoint-3200\n",
            "Configuration saved in peter2000/wav2vec2-large-xls-r-300m-kinyarwanda/checkpoint-3200/config.json\n",
            "Model weights saved in peter2000/wav2vec2-large-xls-r-300m-kinyarwanda/checkpoint-3200/pytorch_model.bin\n",
            "Configuration saved in peter2000/wav2vec2-large-xls-r-300m-kinyarwanda/checkpoint-3200/preprocessor_config.json\n",
            "Deleting older checkpoint [peter2000/wav2vec2-large-xls-r-300m-kinyarwanda/checkpoint-2400] due to args.save_total_limit\n",
            "/usr/local/lib/python3.7/dist-packages/transformers/models/wav2vec2/modeling_wav2vec2.py:882: UserWarning: __floordiv__ is deprecated, and its behavior will change in a future version of pytorch. It currently rounds toward 0 (like the 'trunc' function NOT 'floor'). This results in incorrect rounding for negative values. To keep the current behavior, use torch.div(a, b, rounding_mode='trunc'), or for actual floor division, use torch.div(a, b, rounding_mode='floor').\n",
            "  return (input_length - kernel_size) // stride + 1\n",
            "The following columns in the evaluation set  don't have a corresponding argument in `Wav2Vec2ForCTC.forward` and have been ignored: input_length.\n",
            "***** Running Evaluation *****\n",
            "  Num examples = 3145\n",
            "  Batch size = 8\n",
            "Saving model checkpoint to peter2000/wav2vec2-large-xls-r-300m-kinyarwanda/checkpoint-3600\n",
            "Configuration saved in peter2000/wav2vec2-large-xls-r-300m-kinyarwanda/checkpoint-3600/config.json\n",
            "Model weights saved in peter2000/wav2vec2-large-xls-r-300m-kinyarwanda/checkpoint-3600/pytorch_model.bin\n",
            "Configuration saved in peter2000/wav2vec2-large-xls-r-300m-kinyarwanda/checkpoint-3600/preprocessor_config.json\n",
            "Deleting older checkpoint [peter2000/wav2vec2-large-xls-r-300m-kinyarwanda/checkpoint-2800] due to args.save_total_limit\n",
            "/usr/local/lib/python3.7/dist-packages/transformers/models/wav2vec2/modeling_wav2vec2.py:882: UserWarning: __floordiv__ is deprecated, and its behavior will change in a future version of pytorch. It currently rounds toward 0 (like the 'trunc' function NOT 'floor'). This results in incorrect rounding for negative values. To keep the current behavior, use torch.div(a, b, rounding_mode='trunc'), or for actual floor division, use torch.div(a, b, rounding_mode='floor').\n",
            "  return (input_length - kernel_size) // stride + 1\n",
            "The following columns in the evaluation set  don't have a corresponding argument in `Wav2Vec2ForCTC.forward` and have been ignored: input_length.\n",
            "***** Running Evaluation *****\n",
            "  Num examples = 3145\n",
            "  Batch size = 8\n",
            "Saving model checkpoint to peter2000/wav2vec2-large-xls-r-300m-kinyarwanda/checkpoint-4000\n",
            "Configuration saved in peter2000/wav2vec2-large-xls-r-300m-kinyarwanda/checkpoint-4000/config.json\n",
            "Model weights saved in peter2000/wav2vec2-large-xls-r-300m-kinyarwanda/checkpoint-4000/pytorch_model.bin\n",
            "Configuration saved in peter2000/wav2vec2-large-xls-r-300m-kinyarwanda/checkpoint-4000/preprocessor_config.json\n",
            "Deleting older checkpoint [peter2000/wav2vec2-large-xls-r-300m-kinyarwanda/checkpoint-3200] due to args.save_total_limit\n",
            "/usr/local/lib/python3.7/dist-packages/transformers/models/wav2vec2/modeling_wav2vec2.py:882: UserWarning: __floordiv__ is deprecated, and its behavior will change in a future version of pytorch. It currently rounds toward 0 (like the 'trunc' function NOT 'floor'). This results in incorrect rounding for negative values. To keep the current behavior, use torch.div(a, b, rounding_mode='trunc'), or for actual floor division, use torch.div(a, b, rounding_mode='floor').\n",
            "  return (input_length - kernel_size) // stride + 1\n",
            "The following columns in the evaluation set  don't have a corresponding argument in `Wav2Vec2ForCTC.forward` and have been ignored: input_length.\n",
            "***** Running Evaluation *****\n",
            "  Num examples = 3145\n",
            "  Batch size = 8\n",
            "Saving model checkpoint to peter2000/wav2vec2-large-xls-r-300m-kinyarwanda/checkpoint-4400\n",
            "Configuration saved in peter2000/wav2vec2-large-xls-r-300m-kinyarwanda/checkpoint-4400/config.json\n",
            "Model weights saved in peter2000/wav2vec2-large-xls-r-300m-kinyarwanda/checkpoint-4400/pytorch_model.bin\n",
            "Configuration saved in peter2000/wav2vec2-large-xls-r-300m-kinyarwanda/checkpoint-4400/preprocessor_config.json\n",
            "Deleting older checkpoint [peter2000/wav2vec2-large-xls-r-300m-kinyarwanda/checkpoint-3600] due to args.save_total_limit\n",
            "/usr/local/lib/python3.7/dist-packages/transformers/models/wav2vec2/modeling_wav2vec2.py:882: UserWarning: __floordiv__ is deprecated, and its behavior will change in a future version of pytorch. It currently rounds toward 0 (like the 'trunc' function NOT 'floor'). This results in incorrect rounding for negative values. To keep the current behavior, use torch.div(a, b, rounding_mode='trunc'), or for actual floor division, use torch.div(a, b, rounding_mode='floor').\n",
            "  return (input_length - kernel_size) // stride + 1\n",
            "The following columns in the evaluation set  don't have a corresponding argument in `Wav2Vec2ForCTC.forward` and have been ignored: input_length.\n",
            "***** Running Evaluation *****\n",
            "  Num examples = 3145\n",
            "  Batch size = 8\n",
            "Saving model checkpoint to peter2000/wav2vec2-large-xls-r-300m-kinyarwanda/checkpoint-4800\n",
            "Configuration saved in peter2000/wav2vec2-large-xls-r-300m-kinyarwanda/checkpoint-4800/config.json\n",
            "Model weights saved in peter2000/wav2vec2-large-xls-r-300m-kinyarwanda/checkpoint-4800/pytorch_model.bin\n",
            "Configuration saved in peter2000/wav2vec2-large-xls-r-300m-kinyarwanda/checkpoint-4800/preprocessor_config.json\n",
            "Deleting older checkpoint [peter2000/wav2vec2-large-xls-r-300m-kinyarwanda/checkpoint-4000] due to args.save_total_limit\n",
            "/usr/local/lib/python3.7/dist-packages/transformers/models/wav2vec2/modeling_wav2vec2.py:882: UserWarning: __floordiv__ is deprecated, and its behavior will change in a future version of pytorch. It currently rounds toward 0 (like the 'trunc' function NOT 'floor'). This results in incorrect rounding for negative values. To keep the current behavior, use torch.div(a, b, rounding_mode='trunc'), or for actual floor division, use torch.div(a, b, rounding_mode='floor').\n",
            "  return (input_length - kernel_size) // stride + 1\n",
            "The following columns in the evaluation set  don't have a corresponding argument in `Wav2Vec2ForCTC.forward` and have been ignored: input_length.\n",
            "***** Running Evaluation *****\n",
            "  Num examples = 3145\n",
            "  Batch size = 8\n",
            "Saving model checkpoint to peter2000/wav2vec2-large-xls-r-300m-kinyarwanda/checkpoint-5200\n",
            "Configuration saved in peter2000/wav2vec2-large-xls-r-300m-kinyarwanda/checkpoint-5200/config.json\n",
            "Model weights saved in peter2000/wav2vec2-large-xls-r-300m-kinyarwanda/checkpoint-5200/pytorch_model.bin\n",
            "Configuration saved in peter2000/wav2vec2-large-xls-r-300m-kinyarwanda/checkpoint-5200/preprocessor_config.json\n",
            "Deleting older checkpoint [peter2000/wav2vec2-large-xls-r-300m-kinyarwanda/checkpoint-4400] due to args.save_total_limit\n",
            "/usr/local/lib/python3.7/dist-packages/transformers/models/wav2vec2/modeling_wav2vec2.py:882: UserWarning: __floordiv__ is deprecated, and its behavior will change in a future version of pytorch. It currently rounds toward 0 (like the 'trunc' function NOT 'floor'). This results in incorrect rounding for negative values. To keep the current behavior, use torch.div(a, b, rounding_mode='trunc'), or for actual floor division, use torch.div(a, b, rounding_mode='floor').\n",
            "  return (input_length - kernel_size) // stride + 1\n",
            "The following columns in the evaluation set  don't have a corresponding argument in `Wav2Vec2ForCTC.forward` and have been ignored: input_length.\n",
            "***** Running Evaluation *****\n",
            "  Num examples = 3145\n",
            "  Batch size = 8\n",
            "Saving model checkpoint to peter2000/wav2vec2-large-xls-r-300m-kinyarwanda/checkpoint-5600\n",
            "Configuration saved in peter2000/wav2vec2-large-xls-r-300m-kinyarwanda/checkpoint-5600/config.json\n",
            "Model weights saved in peter2000/wav2vec2-large-xls-r-300m-kinyarwanda/checkpoint-5600/pytorch_model.bin\n",
            "Configuration saved in peter2000/wav2vec2-large-xls-r-300m-kinyarwanda/checkpoint-5600/preprocessor_config.json\n",
            "Deleting older checkpoint [peter2000/wav2vec2-large-xls-r-300m-kinyarwanda/checkpoint-4800] due to args.save_total_limit\n",
            "/usr/local/lib/python3.7/dist-packages/transformers/models/wav2vec2/modeling_wav2vec2.py:882: UserWarning: __floordiv__ is deprecated, and its behavior will change in a future version of pytorch. It currently rounds toward 0 (like the 'trunc' function NOT 'floor'). This results in incorrect rounding for negative values. To keep the current behavior, use torch.div(a, b, rounding_mode='trunc'), or for actual floor division, use torch.div(a, b, rounding_mode='floor').\n",
            "  return (input_length - kernel_size) // stride + 1\n",
            "The following columns in the evaluation set  don't have a corresponding argument in `Wav2Vec2ForCTC.forward` and have been ignored: input_length.\n",
            "***** Running Evaluation *****\n",
            "  Num examples = 3145\n",
            "  Batch size = 8\n",
            "Saving model checkpoint to peter2000/wav2vec2-large-xls-r-300m-kinyarwanda/checkpoint-6000\n",
            "Configuration saved in peter2000/wav2vec2-large-xls-r-300m-kinyarwanda/checkpoint-6000/config.json\n",
            "Model weights saved in peter2000/wav2vec2-large-xls-r-300m-kinyarwanda/checkpoint-6000/pytorch_model.bin\n",
            "Configuration saved in peter2000/wav2vec2-large-xls-r-300m-kinyarwanda/checkpoint-6000/preprocessor_config.json\n",
            "Deleting older checkpoint [peter2000/wav2vec2-large-xls-r-300m-kinyarwanda/checkpoint-5200] due to args.save_total_limit\n",
            "/usr/local/lib/python3.7/dist-packages/transformers/models/wav2vec2/modeling_wav2vec2.py:882: UserWarning: __floordiv__ is deprecated, and its behavior will change in a future version of pytorch. It currently rounds toward 0 (like the 'trunc' function NOT 'floor'). This results in incorrect rounding for negative values. To keep the current behavior, use torch.div(a, b, rounding_mode='trunc'), or for actual floor division, use torch.div(a, b, rounding_mode='floor').\n",
            "  return (input_length - kernel_size) // stride + 1\n",
            "The following columns in the evaluation set  don't have a corresponding argument in `Wav2Vec2ForCTC.forward` and have been ignored: input_length.\n",
            "***** Running Evaluation *****\n",
            "  Num examples = 3145\n",
            "  Batch size = 8\n",
            "Saving model checkpoint to peter2000/wav2vec2-large-xls-r-300m-kinyarwanda/checkpoint-6400\n",
            "Configuration saved in peter2000/wav2vec2-large-xls-r-300m-kinyarwanda/checkpoint-6400/config.json\n",
            "Model weights saved in peter2000/wav2vec2-large-xls-r-300m-kinyarwanda/checkpoint-6400/pytorch_model.bin\n",
            "Configuration saved in peter2000/wav2vec2-large-xls-r-300m-kinyarwanda/checkpoint-6400/preprocessor_config.json\n",
            "Deleting older checkpoint [peter2000/wav2vec2-large-xls-r-300m-kinyarwanda/checkpoint-5600] due to args.save_total_limit\n",
            "/usr/local/lib/python3.7/dist-packages/transformers/models/wav2vec2/modeling_wav2vec2.py:882: UserWarning: __floordiv__ is deprecated, and its behavior will change in a future version of pytorch. It currently rounds toward 0 (like the 'trunc' function NOT 'floor'). This results in incorrect rounding for negative values. To keep the current behavior, use torch.div(a, b, rounding_mode='trunc'), or for actual floor division, use torch.div(a, b, rounding_mode='floor').\n",
            "  return (input_length - kernel_size) // stride + 1\n",
            "The following columns in the evaluation set  don't have a corresponding argument in `Wav2Vec2ForCTC.forward` and have been ignored: input_length.\n",
            "***** Running Evaluation *****\n",
            "  Num examples = 3145\n",
            "  Batch size = 8\n",
            "Saving model checkpoint to peter2000/wav2vec2-large-xls-r-300m-kinyarwanda/checkpoint-6800\n",
            "Configuration saved in peter2000/wav2vec2-large-xls-r-300m-kinyarwanda/checkpoint-6800/config.json\n",
            "Model weights saved in peter2000/wav2vec2-large-xls-r-300m-kinyarwanda/checkpoint-6800/pytorch_model.bin\n",
            "Configuration saved in peter2000/wav2vec2-large-xls-r-300m-kinyarwanda/checkpoint-6800/preprocessor_config.json\n",
            "Deleting older checkpoint [peter2000/wav2vec2-large-xls-r-300m-kinyarwanda/checkpoint-6000] due to args.save_total_limit\n",
            "/usr/local/lib/python3.7/dist-packages/transformers/models/wav2vec2/modeling_wav2vec2.py:882: UserWarning: __floordiv__ is deprecated, and its behavior will change in a future version of pytorch. It currently rounds toward 0 (like the 'trunc' function NOT 'floor'). This results in incorrect rounding for negative values. To keep the current behavior, use torch.div(a, b, rounding_mode='trunc'), or for actual floor division, use torch.div(a, b, rounding_mode='floor').\n",
            "  return (input_length - kernel_size) // stride + 1\n",
            "The following columns in the evaluation set  don't have a corresponding argument in `Wav2Vec2ForCTC.forward` and have been ignored: input_length.\n",
            "***** Running Evaluation *****\n",
            "  Num examples = 3145\n",
            "  Batch size = 8\n",
            "Saving model checkpoint to peter2000/wav2vec2-large-xls-r-300m-kinyarwanda/checkpoint-7200\n",
            "Configuration saved in peter2000/wav2vec2-large-xls-r-300m-kinyarwanda/checkpoint-7200/config.json\n",
            "Model weights saved in peter2000/wav2vec2-large-xls-r-300m-kinyarwanda/checkpoint-7200/pytorch_model.bin\n",
            "Configuration saved in peter2000/wav2vec2-large-xls-r-300m-kinyarwanda/checkpoint-7200/preprocessor_config.json\n",
            "Deleting older checkpoint [peter2000/wav2vec2-large-xls-r-300m-kinyarwanda/checkpoint-6400] due to args.save_total_limit\n",
            "/usr/local/lib/python3.7/dist-packages/transformers/models/wav2vec2/modeling_wav2vec2.py:882: UserWarning: __floordiv__ is deprecated, and its behavior will change in a future version of pytorch. It currently rounds toward 0 (like the 'trunc' function NOT 'floor'). This results in incorrect rounding for negative values. To keep the current behavior, use torch.div(a, b, rounding_mode='trunc'), or for actual floor division, use torch.div(a, b, rounding_mode='floor').\n",
            "  return (input_length - kernel_size) // stride + 1\n",
            "The following columns in the evaluation set  don't have a corresponding argument in `Wav2Vec2ForCTC.forward` and have been ignored: input_length.\n",
            "***** Running Evaluation *****\n",
            "  Num examples = 3145\n",
            "  Batch size = 8\n",
            "Saving model checkpoint to peter2000/wav2vec2-large-xls-r-300m-kinyarwanda/checkpoint-7600\n",
            "Configuration saved in peter2000/wav2vec2-large-xls-r-300m-kinyarwanda/checkpoint-7600/config.json\n",
            "Model weights saved in peter2000/wav2vec2-large-xls-r-300m-kinyarwanda/checkpoint-7600/pytorch_model.bin\n",
            "Configuration saved in peter2000/wav2vec2-large-xls-r-300m-kinyarwanda/checkpoint-7600/preprocessor_config.json\n",
            "Deleting older checkpoint [peter2000/wav2vec2-large-xls-r-300m-kinyarwanda/checkpoint-6800] due to args.save_total_limit\n",
            "/usr/local/lib/python3.7/dist-packages/transformers/models/wav2vec2/modeling_wav2vec2.py:882: UserWarning: __floordiv__ is deprecated, and its behavior will change in a future version of pytorch. It currently rounds toward 0 (like the 'trunc' function NOT 'floor'). This results in incorrect rounding for negative values. To keep the current behavior, use torch.div(a, b, rounding_mode='trunc'), or for actual floor division, use torch.div(a, b, rounding_mode='floor').\n",
            "  return (input_length - kernel_size) // stride + 1\n",
            "The following columns in the evaluation set  don't have a corresponding argument in `Wav2Vec2ForCTC.forward` and have been ignored: input_length.\n",
            "***** Running Evaluation *****\n",
            "  Num examples = 3145\n",
            "  Batch size = 8\n",
            "Saving model checkpoint to peter2000/wav2vec2-large-xls-r-300m-kinyarwanda/checkpoint-8000\n",
            "Configuration saved in peter2000/wav2vec2-large-xls-r-300m-kinyarwanda/checkpoint-8000/config.json\n",
            "Model weights saved in peter2000/wav2vec2-large-xls-r-300m-kinyarwanda/checkpoint-8000/pytorch_model.bin\n",
            "Configuration saved in peter2000/wav2vec2-large-xls-r-300m-kinyarwanda/checkpoint-8000/preprocessor_config.json\n",
            "Deleting older checkpoint [peter2000/wav2vec2-large-xls-r-300m-kinyarwanda/checkpoint-7200] due to args.save_total_limit\n",
            "/usr/local/lib/python3.7/dist-packages/transformers/models/wav2vec2/modeling_wav2vec2.py:882: UserWarning: __floordiv__ is deprecated, and its behavior will change in a future version of pytorch. It currently rounds toward 0 (like the 'trunc' function NOT 'floor'). This results in incorrect rounding for negative values. To keep the current behavior, use torch.div(a, b, rounding_mode='trunc'), or for actual floor division, use torch.div(a, b, rounding_mode='floor').\n",
            "  return (input_length - kernel_size) // stride + 1\n",
            "The following columns in the evaluation set  don't have a corresponding argument in `Wav2Vec2ForCTC.forward` and have been ignored: input_length.\n",
            "***** Running Evaluation *****\n",
            "  Num examples = 3145\n",
            "  Batch size = 8\n",
            "Saving model checkpoint to peter2000/wav2vec2-large-xls-r-300m-kinyarwanda/checkpoint-8400\n",
            "Configuration saved in peter2000/wav2vec2-large-xls-r-300m-kinyarwanda/checkpoint-8400/config.json\n",
            "Model weights saved in peter2000/wav2vec2-large-xls-r-300m-kinyarwanda/checkpoint-8400/pytorch_model.bin\n",
            "Configuration saved in peter2000/wav2vec2-large-xls-r-300m-kinyarwanda/checkpoint-8400/preprocessor_config.json\n",
            "Deleting older checkpoint [peter2000/wav2vec2-large-xls-r-300m-kinyarwanda/checkpoint-7600] due to args.save_total_limit\n",
            "/usr/local/lib/python3.7/dist-packages/transformers/models/wav2vec2/modeling_wav2vec2.py:882: UserWarning: __floordiv__ is deprecated, and its behavior will change in a future version of pytorch. It currently rounds toward 0 (like the 'trunc' function NOT 'floor'). This results in incorrect rounding for negative values. To keep the current behavior, use torch.div(a, b, rounding_mode='trunc'), or for actual floor division, use torch.div(a, b, rounding_mode='floor').\n",
            "  return (input_length - kernel_size) // stride + 1\n",
            "The following columns in the evaluation set  don't have a corresponding argument in `Wav2Vec2ForCTC.forward` and have been ignored: input_length.\n",
            "***** Running Evaluation *****\n",
            "  Num examples = 3145\n",
            "  Batch size = 8\n",
            "Saving model checkpoint to peter2000/wav2vec2-large-xls-r-300m-kinyarwanda/checkpoint-8800\n",
            "Configuration saved in peter2000/wav2vec2-large-xls-r-300m-kinyarwanda/checkpoint-8800/config.json\n",
            "Model weights saved in peter2000/wav2vec2-large-xls-r-300m-kinyarwanda/checkpoint-8800/pytorch_model.bin\n",
            "Configuration saved in peter2000/wav2vec2-large-xls-r-300m-kinyarwanda/checkpoint-8800/preprocessor_config.json\n",
            "Deleting older checkpoint [peter2000/wav2vec2-large-xls-r-300m-kinyarwanda/checkpoint-8000] due to args.save_total_limit\n",
            "/usr/local/lib/python3.7/dist-packages/transformers/models/wav2vec2/modeling_wav2vec2.py:882: UserWarning: __floordiv__ is deprecated, and its behavior will change in a future version of pytorch. It currently rounds toward 0 (like the 'trunc' function NOT 'floor'). This results in incorrect rounding for negative values. To keep the current behavior, use torch.div(a, b, rounding_mode='trunc'), or for actual floor division, use torch.div(a, b, rounding_mode='floor').\n",
            "  return (input_length - kernel_size) // stride + 1\n",
            "The following columns in the evaluation set  don't have a corresponding argument in `Wav2Vec2ForCTC.forward` and have been ignored: input_length.\n",
            "***** Running Evaluation *****\n",
            "  Num examples = 3145\n",
            "  Batch size = 8\n",
            "Saving model checkpoint to peter2000/wav2vec2-large-xls-r-300m-kinyarwanda/checkpoint-9200\n",
            "Configuration saved in peter2000/wav2vec2-large-xls-r-300m-kinyarwanda/checkpoint-9200/config.json\n",
            "Model weights saved in peter2000/wav2vec2-large-xls-r-300m-kinyarwanda/checkpoint-9200/pytorch_model.bin\n",
            "Configuration saved in peter2000/wav2vec2-large-xls-r-300m-kinyarwanda/checkpoint-9200/preprocessor_config.json\n",
            "Deleting older checkpoint [peter2000/wav2vec2-large-xls-r-300m-kinyarwanda/checkpoint-8400] due to args.save_total_limit\n",
            "/usr/local/lib/python3.7/dist-packages/transformers/models/wav2vec2/modeling_wav2vec2.py:882: UserWarning: __floordiv__ is deprecated, and its behavior will change in a future version of pytorch. It currently rounds toward 0 (like the 'trunc' function NOT 'floor'). This results in incorrect rounding for negative values. To keep the current behavior, use torch.div(a, b, rounding_mode='trunc'), or for actual floor division, use torch.div(a, b, rounding_mode='floor').\n",
            "  return (input_length - kernel_size) // stride + 1\n",
            "The following columns in the evaluation set  don't have a corresponding argument in `Wav2Vec2ForCTC.forward` and have been ignored: input_length.\n",
            "***** Running Evaluation *****\n",
            "  Num examples = 3145\n",
            "  Batch size = 8\n",
            "Saving model checkpoint to peter2000/wav2vec2-large-xls-r-300m-kinyarwanda/checkpoint-9600\n",
            "Configuration saved in peter2000/wav2vec2-large-xls-r-300m-kinyarwanda/checkpoint-9600/config.json\n",
            "Model weights saved in peter2000/wav2vec2-large-xls-r-300m-kinyarwanda/checkpoint-9600/pytorch_model.bin\n",
            "Configuration saved in peter2000/wav2vec2-large-xls-r-300m-kinyarwanda/checkpoint-9600/preprocessor_config.json\n",
            "Deleting older checkpoint [peter2000/wav2vec2-large-xls-r-300m-kinyarwanda/checkpoint-8800] due to args.save_total_limit\n",
            "/usr/local/lib/python3.7/dist-packages/transformers/models/wav2vec2/modeling_wav2vec2.py:882: UserWarning: __floordiv__ is deprecated, and its behavior will change in a future version of pytorch. It currently rounds toward 0 (like the 'trunc' function NOT 'floor'). This results in incorrect rounding for negative values. To keep the current behavior, use torch.div(a, b, rounding_mode='trunc'), or for actual floor division, use torch.div(a, b, rounding_mode='floor').\n",
            "  return (input_length - kernel_size) // stride + 1\n",
            "The following columns in the evaluation set  don't have a corresponding argument in `Wav2Vec2ForCTC.forward` and have been ignored: input_length.\n",
            "***** Running Evaluation *****\n",
            "  Num examples = 3145\n",
            "  Batch size = 8\n",
            "Saving model checkpoint to peter2000/wav2vec2-large-xls-r-300m-kinyarwanda/checkpoint-10000\n",
            "Configuration saved in peter2000/wav2vec2-large-xls-r-300m-kinyarwanda/checkpoint-10000/config.json\n",
            "Model weights saved in peter2000/wav2vec2-large-xls-r-300m-kinyarwanda/checkpoint-10000/pytorch_model.bin\n",
            "Configuration saved in peter2000/wav2vec2-large-xls-r-300m-kinyarwanda/checkpoint-10000/preprocessor_config.json\n",
            "Deleting older checkpoint [peter2000/wav2vec2-large-xls-r-300m-kinyarwanda/checkpoint-9200] due to args.save_total_limit\n",
            "/usr/local/lib/python3.7/dist-packages/transformers/models/wav2vec2/modeling_wav2vec2.py:882: UserWarning: __floordiv__ is deprecated, and its behavior will change in a future version of pytorch. It currently rounds toward 0 (like the 'trunc' function NOT 'floor'). This results in incorrect rounding for negative values. To keep the current behavior, use torch.div(a, b, rounding_mode='trunc'), or for actual floor division, use torch.div(a, b, rounding_mode='floor').\n",
            "  return (input_length - kernel_size) // stride + 1\n",
            "The following columns in the evaluation set  don't have a corresponding argument in `Wav2Vec2ForCTC.forward` and have been ignored: input_length.\n",
            "***** Running Evaluation *****\n",
            "  Num examples = 3145\n",
            "  Batch size = 8\n",
            "Saving model checkpoint to peter2000/wav2vec2-large-xls-r-300m-kinyarwanda/checkpoint-10400\n",
            "Configuration saved in peter2000/wav2vec2-large-xls-r-300m-kinyarwanda/checkpoint-10400/config.json\n",
            "Model weights saved in peter2000/wav2vec2-large-xls-r-300m-kinyarwanda/checkpoint-10400/pytorch_model.bin\n",
            "Configuration saved in peter2000/wav2vec2-large-xls-r-300m-kinyarwanda/checkpoint-10400/preprocessor_config.json\n",
            "Deleting older checkpoint [peter2000/wav2vec2-large-xls-r-300m-kinyarwanda/checkpoint-9600] due to args.save_total_limit\n",
            "/usr/local/lib/python3.7/dist-packages/transformers/models/wav2vec2/modeling_wav2vec2.py:882: UserWarning: __floordiv__ is deprecated, and its behavior will change in a future version of pytorch. It currently rounds toward 0 (like the 'trunc' function NOT 'floor'). This results in incorrect rounding for negative values. To keep the current behavior, use torch.div(a, b, rounding_mode='trunc'), or for actual floor division, use torch.div(a, b, rounding_mode='floor').\n",
            "  return (input_length - kernel_size) // stride + 1\n",
            "The following columns in the evaluation set  don't have a corresponding argument in `Wav2Vec2ForCTC.forward` and have been ignored: input_length.\n",
            "***** Running Evaluation *****\n",
            "  Num examples = 3145\n",
            "  Batch size = 8\n",
            "Saving model checkpoint to peter2000/wav2vec2-large-xls-r-300m-kinyarwanda/checkpoint-10800\n",
            "Configuration saved in peter2000/wav2vec2-large-xls-r-300m-kinyarwanda/checkpoint-10800/config.json\n",
            "Model weights saved in peter2000/wav2vec2-large-xls-r-300m-kinyarwanda/checkpoint-10800/pytorch_model.bin\n",
            "Configuration saved in peter2000/wav2vec2-large-xls-r-300m-kinyarwanda/checkpoint-10800/preprocessor_config.json\n",
            "Deleting older checkpoint [peter2000/wav2vec2-large-xls-r-300m-kinyarwanda/checkpoint-10000] due to args.save_total_limit\n",
            "/usr/local/lib/python3.7/dist-packages/transformers/models/wav2vec2/modeling_wav2vec2.py:882: UserWarning: __floordiv__ is deprecated, and its behavior will change in a future version of pytorch. It currently rounds toward 0 (like the 'trunc' function NOT 'floor'). This results in incorrect rounding for negative values. To keep the current behavior, use torch.div(a, b, rounding_mode='trunc'), or for actual floor division, use torch.div(a, b, rounding_mode='floor').\n",
            "  return (input_length - kernel_size) // stride + 1\n",
            "The following columns in the evaluation set  don't have a corresponding argument in `Wav2Vec2ForCTC.forward` and have been ignored: input_length.\n",
            "***** Running Evaluation *****\n",
            "  Num examples = 3145\n",
            "  Batch size = 8\n",
            "Saving model checkpoint to peter2000/wav2vec2-large-xls-r-300m-kinyarwanda/checkpoint-11200\n",
            "Configuration saved in peter2000/wav2vec2-large-xls-r-300m-kinyarwanda/checkpoint-11200/config.json\n",
            "Model weights saved in peter2000/wav2vec2-large-xls-r-300m-kinyarwanda/checkpoint-11200/pytorch_model.bin\n",
            "Configuration saved in peter2000/wav2vec2-large-xls-r-300m-kinyarwanda/checkpoint-11200/preprocessor_config.json\n",
            "Deleting older checkpoint [peter2000/wav2vec2-large-xls-r-300m-kinyarwanda/checkpoint-10400] due to args.save_total_limit\n",
            "/usr/local/lib/python3.7/dist-packages/transformers/models/wav2vec2/modeling_wav2vec2.py:882: UserWarning: __floordiv__ is deprecated, and its behavior will change in a future version of pytorch. It currently rounds toward 0 (like the 'trunc' function NOT 'floor'). This results in incorrect rounding for negative values. To keep the current behavior, use torch.div(a, b, rounding_mode='trunc'), or for actual floor division, use torch.div(a, b, rounding_mode='floor').\n",
            "  return (input_length - kernel_size) // stride + 1\n",
            "The following columns in the evaluation set  don't have a corresponding argument in `Wav2Vec2ForCTC.forward` and have been ignored: input_length.\n",
            "***** Running Evaluation *****\n",
            "  Num examples = 3145\n",
            "  Batch size = 8\n",
            "Saving model checkpoint to peter2000/wav2vec2-large-xls-r-300m-kinyarwanda/checkpoint-11600\n",
            "Configuration saved in peter2000/wav2vec2-large-xls-r-300m-kinyarwanda/checkpoint-11600/config.json\n",
            "Model weights saved in peter2000/wav2vec2-large-xls-r-300m-kinyarwanda/checkpoint-11600/pytorch_model.bin\n",
            "Configuration saved in peter2000/wav2vec2-large-xls-r-300m-kinyarwanda/checkpoint-11600/preprocessor_config.json\n",
            "Deleting older checkpoint [peter2000/wav2vec2-large-xls-r-300m-kinyarwanda/checkpoint-10800] due to args.save_total_limit\n",
            "/usr/local/lib/python3.7/dist-packages/transformers/models/wav2vec2/modeling_wav2vec2.py:882: UserWarning: __floordiv__ is deprecated, and its behavior will change in a future version of pytorch. It currently rounds toward 0 (like the 'trunc' function NOT 'floor'). This results in incorrect rounding for negative values. To keep the current behavior, use torch.div(a, b, rounding_mode='trunc'), or for actual floor division, use torch.div(a, b, rounding_mode='floor').\n",
            "  return (input_length - kernel_size) // stride + 1\n",
            "The following columns in the evaluation set  don't have a corresponding argument in `Wav2Vec2ForCTC.forward` and have been ignored: input_length.\n",
            "***** Running Evaluation *****\n",
            "  Num examples = 3145\n",
            "  Batch size = 8\n",
            "Saving model checkpoint to peter2000/wav2vec2-large-xls-r-300m-kinyarwanda/checkpoint-12000\n",
            "Configuration saved in peter2000/wav2vec2-large-xls-r-300m-kinyarwanda/checkpoint-12000/config.json\n",
            "Model weights saved in peter2000/wav2vec2-large-xls-r-300m-kinyarwanda/checkpoint-12000/pytorch_model.bin\n",
            "Configuration saved in peter2000/wav2vec2-large-xls-r-300m-kinyarwanda/checkpoint-12000/preprocessor_config.json\n",
            "Deleting older checkpoint [peter2000/wav2vec2-large-xls-r-300m-kinyarwanda/checkpoint-11200] due to args.save_total_limit\n",
            "/usr/local/lib/python3.7/dist-packages/transformers/models/wav2vec2/modeling_wav2vec2.py:882: UserWarning: __floordiv__ is deprecated, and its behavior will change in a future version of pytorch. It currently rounds toward 0 (like the 'trunc' function NOT 'floor'). This results in incorrect rounding for negative values. To keep the current behavior, use torch.div(a, b, rounding_mode='trunc'), or for actual floor division, use torch.div(a, b, rounding_mode='floor').\n",
            "  return (input_length - kernel_size) // stride + 1\n",
            "The following columns in the evaluation set  don't have a corresponding argument in `Wav2Vec2ForCTC.forward` and have been ignored: input_length.\n",
            "***** Running Evaluation *****\n",
            "  Num examples = 3145\n",
            "  Batch size = 8\n",
            "Saving model checkpoint to peter2000/wav2vec2-large-xls-r-300m-kinyarwanda/checkpoint-12400\n",
            "Configuration saved in peter2000/wav2vec2-large-xls-r-300m-kinyarwanda/checkpoint-12400/config.json\n",
            "Model weights saved in peter2000/wav2vec2-large-xls-r-300m-kinyarwanda/checkpoint-12400/pytorch_model.bin\n",
            "Configuration saved in peter2000/wav2vec2-large-xls-r-300m-kinyarwanda/checkpoint-12400/preprocessor_config.json\n",
            "Deleting older checkpoint [peter2000/wav2vec2-large-xls-r-300m-kinyarwanda/checkpoint-11600] due to args.save_total_limit\n",
            "/usr/local/lib/python3.7/dist-packages/transformers/models/wav2vec2/modeling_wav2vec2.py:882: UserWarning: __floordiv__ is deprecated, and its behavior will change in a future version of pytorch. It currently rounds toward 0 (like the 'trunc' function NOT 'floor'). This results in incorrect rounding for negative values. To keep the current behavior, use torch.div(a, b, rounding_mode='trunc'), or for actual floor division, use torch.div(a, b, rounding_mode='floor').\n",
            "  return (input_length - kernel_size) // stride + 1\n",
            "The following columns in the evaluation set  don't have a corresponding argument in `Wav2Vec2ForCTC.forward` and have been ignored: input_length.\n",
            "***** Running Evaluation *****\n",
            "  Num examples = 3145\n",
            "  Batch size = 8\n",
            "Saving model checkpoint to peter2000/wav2vec2-large-xls-r-300m-kinyarwanda/checkpoint-12800\n",
            "Configuration saved in peter2000/wav2vec2-large-xls-r-300m-kinyarwanda/checkpoint-12800/config.json\n",
            "Model weights saved in peter2000/wav2vec2-large-xls-r-300m-kinyarwanda/checkpoint-12800/pytorch_model.bin\n",
            "Configuration saved in peter2000/wav2vec2-large-xls-r-300m-kinyarwanda/checkpoint-12800/preprocessor_config.json\n",
            "Deleting older checkpoint [peter2000/wav2vec2-large-xls-r-300m-kinyarwanda/checkpoint-12000] due to args.save_total_limit\n",
            "/usr/local/lib/python3.7/dist-packages/transformers/models/wav2vec2/modeling_wav2vec2.py:882: UserWarning: __floordiv__ is deprecated, and its behavior will change in a future version of pytorch. It currently rounds toward 0 (like the 'trunc' function NOT 'floor'). This results in incorrect rounding for negative values. To keep the current behavior, use torch.div(a, b, rounding_mode='trunc'), or for actual floor division, use torch.div(a, b, rounding_mode='floor').\n",
            "  return (input_length - kernel_size) // stride + 1\n",
            "The following columns in the evaluation set  don't have a corresponding argument in `Wav2Vec2ForCTC.forward` and have been ignored: input_length.\n",
            "***** Running Evaluation *****\n",
            "  Num examples = 3145\n",
            "  Batch size = 8\n",
            "Saving model checkpoint to peter2000/wav2vec2-large-xls-r-300m-kinyarwanda/checkpoint-13200\n",
            "Configuration saved in peter2000/wav2vec2-large-xls-r-300m-kinyarwanda/checkpoint-13200/config.json\n",
            "Model weights saved in peter2000/wav2vec2-large-xls-r-300m-kinyarwanda/checkpoint-13200/pytorch_model.bin\n",
            "Configuration saved in peter2000/wav2vec2-large-xls-r-300m-kinyarwanda/checkpoint-13200/preprocessor_config.json\n",
            "Deleting older checkpoint [peter2000/wav2vec2-large-xls-r-300m-kinyarwanda/checkpoint-12400] due to args.save_total_limit\n",
            "/usr/local/lib/python3.7/dist-packages/transformers/models/wav2vec2/modeling_wav2vec2.py:882: UserWarning: __floordiv__ is deprecated, and its behavior will change in a future version of pytorch. It currently rounds toward 0 (like the 'trunc' function NOT 'floor'). This results in incorrect rounding for negative values. To keep the current behavior, use torch.div(a, b, rounding_mode='trunc'), or for actual floor division, use torch.div(a, b, rounding_mode='floor').\n",
            "  return (input_length - kernel_size) // stride + 1\n",
            "The following columns in the evaluation set  don't have a corresponding argument in `Wav2Vec2ForCTC.forward` and have been ignored: input_length.\n",
            "***** Running Evaluation *****\n",
            "  Num examples = 3145\n",
            "  Batch size = 8\n",
            "Saving model checkpoint to peter2000/wav2vec2-large-xls-r-300m-kinyarwanda/checkpoint-13600\n",
            "Configuration saved in peter2000/wav2vec2-large-xls-r-300m-kinyarwanda/checkpoint-13600/config.json\n",
            "Model weights saved in peter2000/wav2vec2-large-xls-r-300m-kinyarwanda/checkpoint-13600/pytorch_model.bin\n",
            "Configuration saved in peter2000/wav2vec2-large-xls-r-300m-kinyarwanda/checkpoint-13600/preprocessor_config.json\n",
            "Deleting older checkpoint [peter2000/wav2vec2-large-xls-r-300m-kinyarwanda/checkpoint-12800] due to args.save_total_limit\n",
            "/usr/local/lib/python3.7/dist-packages/transformers/models/wav2vec2/modeling_wav2vec2.py:882: UserWarning: __floordiv__ is deprecated, and its behavior will change in a future version of pytorch. It currently rounds toward 0 (like the 'trunc' function NOT 'floor'). This results in incorrect rounding for negative values. To keep the current behavior, use torch.div(a, b, rounding_mode='trunc'), or for actual floor division, use torch.div(a, b, rounding_mode='floor').\n",
            "  return (input_length - kernel_size) // stride + 1\n",
            "The following columns in the evaluation set  don't have a corresponding argument in `Wav2Vec2ForCTC.forward` and have been ignored: input_length.\n",
            "***** Running Evaluation *****\n",
            "  Num examples = 3145\n",
            "  Batch size = 8\n",
            "Saving model checkpoint to peter2000/wav2vec2-large-xls-r-300m-kinyarwanda/checkpoint-14000\n",
            "Configuration saved in peter2000/wav2vec2-large-xls-r-300m-kinyarwanda/checkpoint-14000/config.json\n",
            "Model weights saved in peter2000/wav2vec2-large-xls-r-300m-kinyarwanda/checkpoint-14000/pytorch_model.bin\n",
            "Configuration saved in peter2000/wav2vec2-large-xls-r-300m-kinyarwanda/checkpoint-14000/preprocessor_config.json\n",
            "Deleting older checkpoint [peter2000/wav2vec2-large-xls-r-300m-kinyarwanda/checkpoint-13200] due to args.save_total_limit\n",
            "/usr/local/lib/python3.7/dist-packages/transformers/models/wav2vec2/modeling_wav2vec2.py:882: UserWarning: __floordiv__ is deprecated, and its behavior will change in a future version of pytorch. It currently rounds toward 0 (like the 'trunc' function NOT 'floor'). This results in incorrect rounding for negative values. To keep the current behavior, use torch.div(a, b, rounding_mode='trunc'), or for actual floor division, use torch.div(a, b, rounding_mode='floor').\n",
            "  return (input_length - kernel_size) // stride + 1\n",
            "The following columns in the evaluation set  don't have a corresponding argument in `Wav2Vec2ForCTC.forward` and have been ignored: input_length.\n",
            "***** Running Evaluation *****\n",
            "  Num examples = 3145\n",
            "  Batch size = 8\n",
            "Saving model checkpoint to peter2000/wav2vec2-large-xls-r-300m-kinyarwanda/checkpoint-14400\n",
            "Configuration saved in peter2000/wav2vec2-large-xls-r-300m-kinyarwanda/checkpoint-14400/config.json\n",
            "Model weights saved in peter2000/wav2vec2-large-xls-r-300m-kinyarwanda/checkpoint-14400/pytorch_model.bin\n",
            "Configuration saved in peter2000/wav2vec2-large-xls-r-300m-kinyarwanda/checkpoint-14400/preprocessor_config.json\n",
            "Deleting older checkpoint [peter2000/wav2vec2-large-xls-r-300m-kinyarwanda/checkpoint-13600] due to args.save_total_limit\n",
            "/usr/local/lib/python3.7/dist-packages/transformers/models/wav2vec2/modeling_wav2vec2.py:882: UserWarning: __floordiv__ is deprecated, and its behavior will change in a future version of pytorch. It currently rounds toward 0 (like the 'trunc' function NOT 'floor'). This results in incorrect rounding for negative values. To keep the current behavior, use torch.div(a, b, rounding_mode='trunc'), or for actual floor division, use torch.div(a, b, rounding_mode='floor').\n",
            "  return (input_length - kernel_size) // stride + 1\n",
            "The following columns in the evaluation set  don't have a corresponding argument in `Wav2Vec2ForCTC.forward` and have been ignored: input_length.\n",
            "***** Running Evaluation *****\n",
            "  Num examples = 3145\n",
            "  Batch size = 8\n",
            "Saving model checkpoint to peter2000/wav2vec2-large-xls-r-300m-kinyarwanda/checkpoint-14800\n",
            "Configuration saved in peter2000/wav2vec2-large-xls-r-300m-kinyarwanda/checkpoint-14800/config.json\n",
            "Model weights saved in peter2000/wav2vec2-large-xls-r-300m-kinyarwanda/checkpoint-14800/pytorch_model.bin\n",
            "Configuration saved in peter2000/wav2vec2-large-xls-r-300m-kinyarwanda/checkpoint-14800/preprocessor_config.json\n",
            "Deleting older checkpoint [peter2000/wav2vec2-large-xls-r-300m-kinyarwanda/checkpoint-14000] due to args.save_total_limit\n",
            "/usr/local/lib/python3.7/dist-packages/transformers/models/wav2vec2/modeling_wav2vec2.py:882: UserWarning: __floordiv__ is deprecated, and its behavior will change in a future version of pytorch. It currently rounds toward 0 (like the 'trunc' function NOT 'floor'). This results in incorrect rounding for negative values. To keep the current behavior, use torch.div(a, b, rounding_mode='trunc'), or for actual floor division, use torch.div(a, b, rounding_mode='floor').\n",
            "  return (input_length - kernel_size) // stride + 1\n",
            "The following columns in the evaluation set  don't have a corresponding argument in `Wav2Vec2ForCTC.forward` and have been ignored: input_length.\n",
            "***** Running Evaluation *****\n",
            "  Num examples = 3145\n",
            "  Batch size = 8\n",
            "Saving model checkpoint to peter2000/wav2vec2-large-xls-r-300m-kinyarwanda/checkpoint-15200\n",
            "Configuration saved in peter2000/wav2vec2-large-xls-r-300m-kinyarwanda/checkpoint-15200/config.json\n",
            "Model weights saved in peter2000/wav2vec2-large-xls-r-300m-kinyarwanda/checkpoint-15200/pytorch_model.bin\n",
            "Configuration saved in peter2000/wav2vec2-large-xls-r-300m-kinyarwanda/checkpoint-15200/preprocessor_config.json\n",
            "Deleting older checkpoint [peter2000/wav2vec2-large-xls-r-300m-kinyarwanda/checkpoint-14400] due to args.save_total_limit\n",
            "/usr/local/lib/python3.7/dist-packages/transformers/models/wav2vec2/modeling_wav2vec2.py:882: UserWarning: __floordiv__ is deprecated, and its behavior will change in a future version of pytorch. It currently rounds toward 0 (like the 'trunc' function NOT 'floor'). This results in incorrect rounding for negative values. To keep the current behavior, use torch.div(a, b, rounding_mode='trunc'), or for actual floor division, use torch.div(a, b, rounding_mode='floor').\n",
            "  return (input_length - kernel_size) // stride + 1\n",
            "The following columns in the evaluation set  don't have a corresponding argument in `Wav2Vec2ForCTC.forward` and have been ignored: input_length.\n",
            "***** Running Evaluation *****\n",
            "  Num examples = 3145\n",
            "  Batch size = 8\n",
            "Saving model checkpoint to peter2000/wav2vec2-large-xls-r-300m-kinyarwanda/checkpoint-15600\n",
            "Configuration saved in peter2000/wav2vec2-large-xls-r-300m-kinyarwanda/checkpoint-15600/config.json\n",
            "Model weights saved in peter2000/wav2vec2-large-xls-r-300m-kinyarwanda/checkpoint-15600/pytorch_model.bin\n",
            "Configuration saved in peter2000/wav2vec2-large-xls-r-300m-kinyarwanda/checkpoint-15600/preprocessor_config.json\n",
            "Deleting older checkpoint [peter2000/wav2vec2-large-xls-r-300m-kinyarwanda/checkpoint-14800] due to args.save_total_limit\n",
            "/usr/local/lib/python3.7/dist-packages/transformers/models/wav2vec2/modeling_wav2vec2.py:882: UserWarning: __floordiv__ is deprecated, and its behavior will change in a future version of pytorch. It currently rounds toward 0 (like the 'trunc' function NOT 'floor'). This results in incorrect rounding for negative values. To keep the current behavior, use torch.div(a, b, rounding_mode='trunc'), or for actual floor division, use torch.div(a, b, rounding_mode='floor').\n",
            "  return (input_length - kernel_size) // stride + 1\n",
            "The following columns in the evaluation set  don't have a corresponding argument in `Wav2Vec2ForCTC.forward` and have been ignored: input_length.\n",
            "***** Running Evaluation *****\n",
            "  Num examples = 3145\n",
            "  Batch size = 8\n",
            "Saving model checkpoint to peter2000/wav2vec2-large-xls-r-300m-kinyarwanda/checkpoint-16000\n",
            "Configuration saved in peter2000/wav2vec2-large-xls-r-300m-kinyarwanda/checkpoint-16000/config.json\n",
            "Model weights saved in peter2000/wav2vec2-large-xls-r-300m-kinyarwanda/checkpoint-16000/pytorch_model.bin\n",
            "Configuration saved in peter2000/wav2vec2-large-xls-r-300m-kinyarwanda/checkpoint-16000/preprocessor_config.json\n",
            "Deleting older checkpoint [peter2000/wav2vec2-large-xls-r-300m-kinyarwanda/checkpoint-15200] due to args.save_total_limit\n",
            "/usr/local/lib/python3.7/dist-packages/transformers/models/wav2vec2/modeling_wav2vec2.py:882: UserWarning: __floordiv__ is deprecated, and its behavior will change in a future version of pytorch. It currently rounds toward 0 (like the 'trunc' function NOT 'floor'). This results in incorrect rounding for negative values. To keep the current behavior, use torch.div(a, b, rounding_mode='trunc'), or for actual floor division, use torch.div(a, b, rounding_mode='floor').\n",
            "  return (input_length - kernel_size) // stride + 1\n",
            "The following columns in the evaluation set  don't have a corresponding argument in `Wav2Vec2ForCTC.forward` and have been ignored: input_length.\n",
            "***** Running Evaluation *****\n",
            "  Num examples = 3145\n",
            "  Batch size = 8\n",
            "Saving model checkpoint to peter2000/wav2vec2-large-xls-r-300m-kinyarwanda/checkpoint-16400\n",
            "Configuration saved in peter2000/wav2vec2-large-xls-r-300m-kinyarwanda/checkpoint-16400/config.json\n",
            "Model weights saved in peter2000/wav2vec2-large-xls-r-300m-kinyarwanda/checkpoint-16400/pytorch_model.bin\n",
            "Configuration saved in peter2000/wav2vec2-large-xls-r-300m-kinyarwanda/checkpoint-16400/preprocessor_config.json\n",
            "Deleting older checkpoint [peter2000/wav2vec2-large-xls-r-300m-kinyarwanda/checkpoint-15600] due to args.save_total_limit\n",
            "/usr/local/lib/python3.7/dist-packages/transformers/models/wav2vec2/modeling_wav2vec2.py:882: UserWarning: __floordiv__ is deprecated, and its behavior will change in a future version of pytorch. It currently rounds toward 0 (like the 'trunc' function NOT 'floor'). This results in incorrect rounding for negative values. To keep the current behavior, use torch.div(a, b, rounding_mode='trunc'), or for actual floor division, use torch.div(a, b, rounding_mode='floor').\n",
            "  return (input_length - kernel_size) // stride + 1\n",
            "The following columns in the evaluation set  don't have a corresponding argument in `Wav2Vec2ForCTC.forward` and have been ignored: input_length.\n",
            "***** Running Evaluation *****\n",
            "  Num examples = 3145\n",
            "  Batch size = 8\n",
            "Saving model checkpoint to peter2000/wav2vec2-large-xls-r-300m-kinyarwanda/checkpoint-16800\n",
            "Configuration saved in peter2000/wav2vec2-large-xls-r-300m-kinyarwanda/checkpoint-16800/config.json\n",
            "Model weights saved in peter2000/wav2vec2-large-xls-r-300m-kinyarwanda/checkpoint-16800/pytorch_model.bin\n",
            "Configuration saved in peter2000/wav2vec2-large-xls-r-300m-kinyarwanda/checkpoint-16800/preprocessor_config.json\n",
            "Deleting older checkpoint [peter2000/wav2vec2-large-xls-r-300m-kinyarwanda/checkpoint-16000] due to args.save_total_limit\n",
            "/usr/local/lib/python3.7/dist-packages/transformers/models/wav2vec2/modeling_wav2vec2.py:882: UserWarning: __floordiv__ is deprecated, and its behavior will change in a future version of pytorch. It currently rounds toward 0 (like the 'trunc' function NOT 'floor'). This results in incorrect rounding for negative values. To keep the current behavior, use torch.div(a, b, rounding_mode='trunc'), or for actual floor division, use torch.div(a, b, rounding_mode='floor').\n",
            "  return (input_length - kernel_size) // stride + 1\n",
            "The following columns in the evaluation set  don't have a corresponding argument in `Wav2Vec2ForCTC.forward` and have been ignored: input_length.\n",
            "***** Running Evaluation *****\n",
            "  Num examples = 3145\n",
            "  Batch size = 8\n",
            "Saving model checkpoint to peter2000/wav2vec2-large-xls-r-300m-kinyarwanda/checkpoint-17200\n",
            "Configuration saved in peter2000/wav2vec2-large-xls-r-300m-kinyarwanda/checkpoint-17200/config.json\n",
            "Model weights saved in peter2000/wav2vec2-large-xls-r-300m-kinyarwanda/checkpoint-17200/pytorch_model.bin\n",
            "Configuration saved in peter2000/wav2vec2-large-xls-r-300m-kinyarwanda/checkpoint-17200/preprocessor_config.json\n",
            "Deleting older checkpoint [peter2000/wav2vec2-large-xls-r-300m-kinyarwanda/checkpoint-16400] due to args.save_total_limit\n",
            "/usr/local/lib/python3.7/dist-packages/transformers/models/wav2vec2/modeling_wav2vec2.py:882: UserWarning: __floordiv__ is deprecated, and its behavior will change in a future version of pytorch. It currently rounds toward 0 (like the 'trunc' function NOT 'floor'). This results in incorrect rounding for negative values. To keep the current behavior, use torch.div(a, b, rounding_mode='trunc'), or for actual floor division, use torch.div(a, b, rounding_mode='floor').\n",
            "  return (input_length - kernel_size) // stride + 1\n",
            "The following columns in the evaluation set  don't have a corresponding argument in `Wav2Vec2ForCTC.forward` and have been ignored: input_length.\n",
            "***** Running Evaluation *****\n",
            "  Num examples = 3145\n",
            "  Batch size = 8\n",
            "Saving model checkpoint to peter2000/wav2vec2-large-xls-r-300m-kinyarwanda/checkpoint-17600\n",
            "Configuration saved in peter2000/wav2vec2-large-xls-r-300m-kinyarwanda/checkpoint-17600/config.json\n",
            "Model weights saved in peter2000/wav2vec2-large-xls-r-300m-kinyarwanda/checkpoint-17600/pytorch_model.bin\n",
            "Configuration saved in peter2000/wav2vec2-large-xls-r-300m-kinyarwanda/checkpoint-17600/preprocessor_config.json\n",
            "Deleting older checkpoint [peter2000/wav2vec2-large-xls-r-300m-kinyarwanda/checkpoint-16800] due to args.save_total_limit\n",
            "/usr/local/lib/python3.7/dist-packages/transformers/models/wav2vec2/modeling_wav2vec2.py:882: UserWarning: __floordiv__ is deprecated, and its behavior will change in a future version of pytorch. It currently rounds toward 0 (like the 'trunc' function NOT 'floor'). This results in incorrect rounding for negative values. To keep the current behavior, use torch.div(a, b, rounding_mode='trunc'), or for actual floor division, use torch.div(a, b, rounding_mode='floor').\n",
            "  return (input_length - kernel_size) // stride + 1\n",
            "The following columns in the evaluation set  don't have a corresponding argument in `Wav2Vec2ForCTC.forward` and have been ignored: input_length.\n",
            "***** Running Evaluation *****\n",
            "  Num examples = 3145\n",
            "  Batch size = 8\n",
            "Saving model checkpoint to peter2000/wav2vec2-large-xls-r-300m-kinyarwanda/checkpoint-18000\n",
            "Configuration saved in peter2000/wav2vec2-large-xls-r-300m-kinyarwanda/checkpoint-18000/config.json\n",
            "Model weights saved in peter2000/wav2vec2-large-xls-r-300m-kinyarwanda/checkpoint-18000/pytorch_model.bin\n",
            "Configuration saved in peter2000/wav2vec2-large-xls-r-300m-kinyarwanda/checkpoint-18000/preprocessor_config.json\n",
            "Deleting older checkpoint [peter2000/wav2vec2-large-xls-r-300m-kinyarwanda/checkpoint-17200] due to args.save_total_limit\n",
            "/usr/local/lib/python3.7/dist-packages/transformers/models/wav2vec2/modeling_wav2vec2.py:882: UserWarning: __floordiv__ is deprecated, and its behavior will change in a future version of pytorch. It currently rounds toward 0 (like the 'trunc' function NOT 'floor'). This results in incorrect rounding for negative values. To keep the current behavior, use torch.div(a, b, rounding_mode='trunc'), or for actual floor division, use torch.div(a, b, rounding_mode='floor').\n",
            "  return (input_length - kernel_size) // stride + 1\n",
            "The following columns in the evaluation set  don't have a corresponding argument in `Wav2Vec2ForCTC.forward` and have been ignored: input_length.\n",
            "***** Running Evaluation *****\n",
            "  Num examples = 3145\n",
            "  Batch size = 8\n",
            "Saving model checkpoint to peter2000/wav2vec2-large-xls-r-300m-kinyarwanda/checkpoint-18400\n",
            "Configuration saved in peter2000/wav2vec2-large-xls-r-300m-kinyarwanda/checkpoint-18400/config.json\n",
            "Model weights saved in peter2000/wav2vec2-large-xls-r-300m-kinyarwanda/checkpoint-18400/pytorch_model.bin\n",
            "Configuration saved in peter2000/wav2vec2-large-xls-r-300m-kinyarwanda/checkpoint-18400/preprocessor_config.json\n",
            "Deleting older checkpoint [peter2000/wav2vec2-large-xls-r-300m-kinyarwanda/checkpoint-17600] due to args.save_total_limit\n",
            "/usr/local/lib/python3.7/dist-packages/transformers/models/wav2vec2/modeling_wav2vec2.py:882: UserWarning: __floordiv__ is deprecated, and its behavior will change in a future version of pytorch. It currently rounds toward 0 (like the 'trunc' function NOT 'floor'). This results in incorrect rounding for negative values. To keep the current behavior, use torch.div(a, b, rounding_mode='trunc'), or for actual floor division, use torch.div(a, b, rounding_mode='floor').\n",
            "  return (input_length - kernel_size) // stride + 1\n",
            "The following columns in the evaluation set  don't have a corresponding argument in `Wav2Vec2ForCTC.forward` and have been ignored: input_length.\n",
            "***** Running Evaluation *****\n",
            "  Num examples = 3145\n",
            "  Batch size = 8\n",
            "Saving model checkpoint to peter2000/wav2vec2-large-xls-r-300m-kinyarwanda/checkpoint-18800\n",
            "Configuration saved in peter2000/wav2vec2-large-xls-r-300m-kinyarwanda/checkpoint-18800/config.json\n",
            "Model weights saved in peter2000/wav2vec2-large-xls-r-300m-kinyarwanda/checkpoint-18800/pytorch_model.bin\n",
            "Configuration saved in peter2000/wav2vec2-large-xls-r-300m-kinyarwanda/checkpoint-18800/preprocessor_config.json\n",
            "Deleting older checkpoint [peter2000/wav2vec2-large-xls-r-300m-kinyarwanda/checkpoint-18000] due to args.save_total_limit\n",
            "/usr/local/lib/python3.7/dist-packages/transformers/models/wav2vec2/modeling_wav2vec2.py:882: UserWarning: __floordiv__ is deprecated, and its behavior will change in a future version of pytorch. It currently rounds toward 0 (like the 'trunc' function NOT 'floor'). This results in incorrect rounding for negative values. To keep the current behavior, use torch.div(a, b, rounding_mode='trunc'), or for actual floor division, use torch.div(a, b, rounding_mode='floor').\n",
            "  return (input_length - kernel_size) // stride + 1\n",
            "The following columns in the evaluation set  don't have a corresponding argument in `Wav2Vec2ForCTC.forward` and have been ignored: input_length.\n",
            "***** Running Evaluation *****\n",
            "  Num examples = 3145\n",
            "  Batch size = 8\n",
            "Saving model checkpoint to peter2000/wav2vec2-large-xls-r-300m-kinyarwanda/checkpoint-19200\n",
            "Configuration saved in peter2000/wav2vec2-large-xls-r-300m-kinyarwanda/checkpoint-19200/config.json\n",
            "Model weights saved in peter2000/wav2vec2-large-xls-r-300m-kinyarwanda/checkpoint-19200/pytorch_model.bin\n",
            "Configuration saved in peter2000/wav2vec2-large-xls-r-300m-kinyarwanda/checkpoint-19200/preprocessor_config.json\n",
            "Deleting older checkpoint [peter2000/wav2vec2-large-xls-r-300m-kinyarwanda/checkpoint-18400] due to args.save_total_limit\n",
            "/usr/local/lib/python3.7/dist-packages/transformers/models/wav2vec2/modeling_wav2vec2.py:882: UserWarning: __floordiv__ is deprecated, and its behavior will change in a future version of pytorch. It currently rounds toward 0 (like the 'trunc' function NOT 'floor'). This results in incorrect rounding for negative values. To keep the current behavior, use torch.div(a, b, rounding_mode='trunc'), or for actual floor division, use torch.div(a, b, rounding_mode='floor').\n",
            "  return (input_length - kernel_size) // stride + 1\n",
            "The following columns in the evaluation set  don't have a corresponding argument in `Wav2Vec2ForCTC.forward` and have been ignored: input_length.\n",
            "***** Running Evaluation *****\n",
            "  Num examples = 3145\n",
            "  Batch size = 8\n",
            "Saving model checkpoint to peter2000/wav2vec2-large-xls-r-300m-kinyarwanda/checkpoint-19600\n",
            "Configuration saved in peter2000/wav2vec2-large-xls-r-300m-kinyarwanda/checkpoint-19600/config.json\n",
            "Model weights saved in peter2000/wav2vec2-large-xls-r-300m-kinyarwanda/checkpoint-19600/pytorch_model.bin\n",
            "Configuration saved in peter2000/wav2vec2-large-xls-r-300m-kinyarwanda/checkpoint-19600/preprocessor_config.json\n",
            "Deleting older checkpoint [peter2000/wav2vec2-large-xls-r-300m-kinyarwanda/checkpoint-18800] due to args.save_total_limit\n",
            "/usr/local/lib/python3.7/dist-packages/transformers/models/wav2vec2/modeling_wav2vec2.py:882: UserWarning: __floordiv__ is deprecated, and its behavior will change in a future version of pytorch. It currently rounds toward 0 (like the 'trunc' function NOT 'floor'). This results in incorrect rounding for negative values. To keep the current behavior, use torch.div(a, b, rounding_mode='trunc'), or for actual floor division, use torch.div(a, b, rounding_mode='floor').\n",
            "  return (input_length - kernel_size) // stride + 1\n"
          ]
        },
        {
          "output_type": "display_data",
          "data": {
            "text/plain": [
              "<IPython.core.display.HTML object>"
            ],
            "text/html": [
              "\n",
              "    <div>\n",
              "      \n",
              "      <progress value='26536' max='26536' style='width:300px; height:20px; vertical-align: middle;'></progress>\n",
              "      [26536/26536 17:59:48, Epoch 7/8]\n",
              "    </div>\n",
              "    <table border=\"1\" class=\"dataframe\">\n",
              "  <thead>\n",
              "    <tr style=\"text-align: left;\">\n",
              "      <th>Step</th>\n",
              "      <th>Training Loss</th>\n",
              "      <th>Validation Loss</th>\n",
              "      <th>Wer</th>\n",
              "    </tr>\n",
              "  </thead>\n",
              "  <tbody>\n",
              "    <tr>\n",
              "      <td>400</td>\n",
              "      <td>9.063400</td>\n",
              "      <td>3.055416</td>\n",
              "      <td>1.000000</td>\n",
              "    </tr>\n",
              "    <tr>\n",
              "      <td>800</td>\n",
              "      <td>2.800900</td>\n",
              "      <td>1.592652</td>\n",
              "      <td>0.955382</td>\n",
              "    </tr>\n",
              "    <tr>\n",
              "      <td>1200</td>\n",
              "      <td>0.902200</td>\n",
              "      <td>0.732839</td>\n",
              "      <td>0.644515</td>\n",
              "    </tr>\n",
              "    <tr>\n",
              "      <td>1600</td>\n",
              "      <td>0.621300</td>\n",
              "      <td>0.613759</td>\n",
              "      <td>0.550952</td>\n",
              "    </tr>\n",
              "    <tr>\n",
              "      <td>2000</td>\n",
              "      <td>0.529900</td>\n",
              "      <td>0.607227</td>\n",
              "      <td>0.522348</td>\n",
              "    </tr>\n",
              "    <tr>\n",
              "      <td>2400</td>\n",
              "      <td>0.499900</td>\n",
              "      <td>0.544922</td>\n",
              "      <td>0.496892</td>\n",
              "    </tr>\n",
              "    <tr>\n",
              "      <td>2800</td>\n",
              "      <td>0.473100</td>\n",
              "      <td>0.526079</td>\n",
              "      <td>0.482767</td>\n",
              "    </tr>\n",
              "    <tr>\n",
              "      <td>3200</td>\n",
              "      <td>0.458000</td>\n",
              "      <td>0.505777</td>\n",
              "      <td>0.460694</td>\n",
              "    </tr>\n",
              "    <tr>\n",
              "      <td>3600</td>\n",
              "      <td>0.415800</td>\n",
              "      <td>0.489234</td>\n",
              "      <td>0.446254</td>\n",
              "    </tr>\n",
              "    <tr>\n",
              "      <td>4000</td>\n",
              "      <td>0.403700</td>\n",
              "      <td>0.475871</td>\n",
              "      <td>0.442910</td>\n",
              "    </tr>\n",
              "    <tr>\n",
              "      <td>4400</td>\n",
              "      <td>0.402100</td>\n",
              "      <td>0.461454</td>\n",
              "      <td>0.432956</td>\n",
              "    </tr>\n",
              "    <tr>\n",
              "      <td>4800</td>\n",
              "      <td>0.393400</td>\n",
              "      <td>0.459317</td>\n",
              "      <td>0.431500</td>\n",
              "    </tr>\n",
              "    <tr>\n",
              "      <td>5200</td>\n",
              "      <td>0.380800</td>\n",
              "      <td>0.473587</td>\n",
              "      <td>0.434372</td>\n",
              "    </tr>\n",
              "    <tr>\n",
              "      <td>5600</td>\n",
              "      <td>0.383800</td>\n",
              "      <td>0.456901</td>\n",
              "      <td>0.424890</td>\n",
              "    </tr>\n",
              "    <tr>\n",
              "      <td>6000</td>\n",
              "      <td>0.372600</td>\n",
              "      <td>0.447273</td>\n",
              "      <td>0.414031</td>\n",
              "    </tr>\n",
              "    <tr>\n",
              "      <td>6400</td>\n",
              "      <td>0.362300</td>\n",
              "      <td>0.440251</td>\n",
              "      <td>0.409663</td>\n",
              "    </tr>\n",
              "    <tr>\n",
              "      <td>6800</td>\n",
              "      <td>0.351700</td>\n",
              "      <td>0.438884</td>\n",
              "      <td>0.406083</td>\n",
              "    </tr>\n",
              "    <tr>\n",
              "      <td>7200</td>\n",
              "      <td>0.333000</td>\n",
              "      <td>0.438322</td>\n",
              "      <td>0.410411</td>\n",
              "    </tr>\n",
              "    <tr>\n",
              "      <td>7600</td>\n",
              "      <td>0.335400</td>\n",
              "      <td>0.435994</td>\n",
              "      <td>0.395460</td>\n",
              "    </tr>\n",
              "    <tr>\n",
              "      <td>8000</td>\n",
              "      <td>0.325700</td>\n",
              "      <td>0.422570</td>\n",
              "      <td>0.394161</td>\n",
              "    </tr>\n",
              "    <tr>\n",
              "      <td>8400</td>\n",
              "      <td>0.327500</td>\n",
              "      <td>0.420587</td>\n",
              "      <td>0.404037</td>\n",
              "    </tr>\n",
              "    <tr>\n",
              "      <td>8800</td>\n",
              "      <td>0.326200</td>\n",
              "      <td>0.417192</td>\n",
              "      <td>0.387512</td>\n",
              "    </tr>\n",
              "    <tr>\n",
              "      <td>9200</td>\n",
              "      <td>0.320600</td>\n",
              "      <td>0.420930</td>\n",
              "      <td>0.387748</td>\n",
              "    </tr>\n",
              "    <tr>\n",
              "      <td>9600</td>\n",
              "      <td>0.323000</td>\n",
              "      <td>0.417690</td>\n",
              "      <td>0.382476</td>\n",
              "    </tr>\n",
              "    <tr>\n",
              "      <td>10000</td>\n",
              "      <td>0.309900</td>\n",
              "      <td>0.410096</td>\n",
              "      <td>0.369098</td>\n",
              "    </tr>\n",
              "    <tr>\n",
              "      <td>10400</td>\n",
              "      <td>0.300800</td>\n",
              "      <td>0.405466</td>\n",
              "      <td>0.370869</td>\n",
              "    </tr>\n",
              "    <tr>\n",
              "      <td>10800</td>\n",
              "      <td>0.291800</td>\n",
              "      <td>0.408487</td>\n",
              "      <td>0.379958</td>\n",
              "    </tr>\n",
              "    <tr>\n",
              "      <td>11200</td>\n",
              "      <td>0.292000</td>\n",
              "      <td>0.408855</td>\n",
              "      <td>0.371262</td>\n",
              "    </tr>\n",
              "    <tr>\n",
              "      <td>11600</td>\n",
              "      <td>0.292000</td>\n",
              "      <td>0.409152</td>\n",
              "      <td>0.373033</td>\n",
              "    </tr>\n",
              "    <tr>\n",
              "      <td>12000</td>\n",
              "      <td>0.278500</td>\n",
              "      <td>0.415081</td>\n",
              "      <td>0.368744</td>\n",
              "    </tr>\n",
              "    <tr>\n",
              "      <td>12400</td>\n",
              "      <td>0.294100</td>\n",
              "      <td>0.400421</td>\n",
              "      <td>0.363944</td>\n",
              "    </tr>\n",
              "    <tr>\n",
              "      <td>12800</td>\n",
              "      <td>0.283800</td>\n",
              "      <td>0.410820</td>\n",
              "      <td>0.370318</td>\n",
              "    </tr>\n",
              "    <tr>\n",
              "      <td>13200</td>\n",
              "      <td>0.285400</td>\n",
              "      <td>0.391120</td>\n",
              "      <td>0.359577</td>\n",
              "    </tr>\n",
              "    <tr>\n",
              "      <td>13600</td>\n",
              "      <td>0.268300</td>\n",
              "      <td>0.394401</td>\n",
              "      <td>0.357452</td>\n",
              "    </tr>\n",
              "    <tr>\n",
              "      <td>14000</td>\n",
              "      <td>0.264700</td>\n",
              "      <td>0.383625</td>\n",
              "      <td>0.353754</td>\n",
              "    </tr>\n",
              "    <tr>\n",
              "      <td>14400</td>\n",
              "      <td>0.270400</td>\n",
              "      <td>0.400552</td>\n",
              "      <td>0.353950</td>\n",
              "    </tr>\n",
              "    <tr>\n",
              "      <td>14800</td>\n",
              "      <td>0.266400</td>\n",
              "      <td>0.397403</td>\n",
              "      <td>0.355288</td>\n",
              "    </tr>\n",
              "    <tr>\n",
              "      <td>15200</td>\n",
              "      <td>0.266200</td>\n",
              "      <td>0.389028</td>\n",
              "      <td>0.346986</td>\n",
              "    </tr>\n",
              "    <tr>\n",
              "      <td>15600</td>\n",
              "      <td>0.261500</td>\n",
              "      <td>0.385610</td>\n",
              "      <td>0.350724</td>\n",
              "    </tr>\n",
              "    <tr>\n",
              "      <td>16000</td>\n",
              "      <td>0.255300</td>\n",
              "      <td>0.381438</td>\n",
              "      <td>0.349701</td>\n",
              "    </tr>\n",
              "    <tr>\n",
              "      <td>16400</td>\n",
              "      <td>0.258700</td>\n",
              "      <td>0.383664</td>\n",
              "      <td>0.343996</td>\n",
              "    </tr>\n",
              "    <tr>\n",
              "      <td>16800</td>\n",
              "      <td>0.252200</td>\n",
              "      <td>0.383447</td>\n",
              "      <td>0.348639</td>\n",
              "    </tr>\n",
              "    <tr>\n",
              "      <td>17200</td>\n",
              "      <td>0.245100</td>\n",
              "      <td>0.389660</td>\n",
              "      <td>0.341438</td>\n",
              "    </tr>\n",
              "    <tr>\n",
              "      <td>17600</td>\n",
              "      <td>0.242300</td>\n",
              "      <td>0.386426</td>\n",
              "      <td>0.348088</td>\n",
              "    </tr>\n",
              "    <tr>\n",
              "      <td>18000</td>\n",
              "      <td>0.243400</td>\n",
              "      <td>0.380842</td>\n",
              "      <td>0.341596</td>\n",
              "    </tr>\n",
              "    <tr>\n",
              "      <td>18400</td>\n",
              "      <td>0.252500</td>\n",
              "      <td>0.379549</td>\n",
              "      <td>0.340809</td>\n",
              "    </tr>\n",
              "    <tr>\n",
              "      <td>18800</td>\n",
              "      <td>0.242700</td>\n",
              "      <td>0.384148</td>\n",
              "      <td>0.341084</td>\n",
              "    </tr>\n",
              "    <tr>\n",
              "      <td>19200</td>\n",
              "      <td>0.241100</td>\n",
              "      <td>0.380389</td>\n",
              "      <td>0.336638</td>\n",
              "    </tr>\n",
              "    <tr>\n",
              "      <td>19600</td>\n",
              "      <td>0.240400</td>\n",
              "      <td>0.380019</td>\n",
              "      <td>0.332822</td>\n",
              "    </tr>\n",
              "    <tr>\n",
              "      <td>20000</td>\n",
              "      <td>0.237200</td>\n",
              "      <td>0.374893</td>\n",
              "      <td>0.333530</td>\n",
              "    </tr>\n",
              "    <tr>\n",
              "      <td>20400</td>\n",
              "      <td>0.224400</td>\n",
              "      <td>0.382049</td>\n",
              "      <td>0.332664</td>\n",
              "    </tr>\n",
              "    <tr>\n",
              "      <td>20800</td>\n",
              "      <td>0.238100</td>\n",
              "      <td>0.378865</td>\n",
              "      <td>0.332546</td>\n",
              "    </tr>\n",
              "    <tr>\n",
              "      <td>21200</td>\n",
              "      <td>0.229400</td>\n",
              "      <td>0.386676</td>\n",
              "      <td>0.329832</td>\n",
              "    </tr>\n",
              "    <tr>\n",
              "      <td>21600</td>\n",
              "      <td>0.237800</td>\n",
              "      <td>0.384275</td>\n",
              "      <td>0.328140</td>\n",
              "    </tr>\n",
              "    <tr>\n",
              "      <td>22000</td>\n",
              "      <td>0.231200</td>\n",
              "      <td>0.381313</td>\n",
              "      <td>0.327746</td>\n",
              "    </tr>\n",
              "    <tr>\n",
              "      <td>22400</td>\n",
              "      <td>0.241100</td>\n",
              "      <td>0.377991</td>\n",
              "      <td>0.326763</td>\n",
              "    </tr>\n",
              "    <tr>\n",
              "      <td>22800</td>\n",
              "      <td>0.231500</td>\n",
              "      <td>0.379031</td>\n",
              "      <td>0.327982</td>\n",
              "    </tr>\n",
              "    <tr>\n",
              "      <td>23200</td>\n",
              "      <td>0.241000</td>\n",
              "      <td>0.377583</td>\n",
              "      <td>0.328061</td>\n",
              "    </tr>\n",
              "    <tr>\n",
              "      <td>23600</td>\n",
              "      <td>0.231300</td>\n",
              "      <td>0.392864</td>\n",
              "      <td>0.328336</td>\n",
              "    </tr>\n",
              "    <tr>\n",
              "      <td>24000</td>\n",
              "      <td>0.242300</td>\n",
              "      <td>0.390488</td>\n",
              "      <td>0.328022</td>\n",
              "    </tr>\n",
              "    <tr>\n",
              "      <td>24400</td>\n",
              "      <td>0.233700</td>\n",
              "      <td>0.397913</td>\n",
              "      <td>0.324874</td>\n",
              "    </tr>\n",
              "    <tr>\n",
              "      <td>24800</td>\n",
              "      <td>0.236800</td>\n",
              "      <td>0.398005</td>\n",
              "      <td>0.325740</td>\n",
              "    </tr>\n",
              "    <tr>\n",
              "      <td>25200</td>\n",
              "      <td>0.240900</td>\n",
              "      <td>0.393657</td>\n",
              "      <td>0.322907</td>\n",
              "    </tr>\n",
              "    <tr>\n",
              "      <td>25600</td>\n",
              "      <td>0.241600</td>\n",
              "      <td>0.386685</td>\n",
              "      <td>0.323694</td>\n",
              "    </tr>\n",
              "    <tr>\n",
              "      <td>26000</td>\n",
              "      <td>0.236400</td>\n",
              "      <td>0.391214</td>\n",
              "      <td>0.325346</td>\n",
              "    </tr>\n",
              "    <tr>\n",
              "      <td>26400</td>\n",
              "      <td>0.234000</td>\n",
              "      <td>0.391718</td>\n",
              "      <td>0.324638</td>\n",
              "    </tr>\n",
              "  </tbody>\n",
              "</table><p>"
            ]
          },
          "metadata": {}
        },
        {
          "output_type": "stream",
          "name": "stderr",
          "text": [
            "The following columns in the evaluation set  don't have a corresponding argument in `Wav2Vec2ForCTC.forward` and have been ignored: input_length.\n",
            "***** Running Evaluation *****\n",
            "  Num examples = 3145\n",
            "  Batch size = 8\n",
            "Saving model checkpoint to peter2000/wav2vec2-large-xls-r-300m-kinyarwanda/checkpoint-20000\n",
            "Configuration saved in peter2000/wav2vec2-large-xls-r-300m-kinyarwanda/checkpoint-20000/config.json\n",
            "Model weights saved in peter2000/wav2vec2-large-xls-r-300m-kinyarwanda/checkpoint-20000/pytorch_model.bin\n",
            "Configuration saved in peter2000/wav2vec2-large-xls-r-300m-kinyarwanda/checkpoint-20000/preprocessor_config.json\n",
            "Deleting older checkpoint [peter2000/wav2vec2-large-xls-r-300m-kinyarwanda/checkpoint-19200] due to args.save_total_limit\n",
            "/usr/local/lib/python3.7/dist-packages/transformers/models/wav2vec2/modeling_wav2vec2.py:882: UserWarning: __floordiv__ is deprecated, and its behavior will change in a future version of pytorch. It currently rounds toward 0 (like the 'trunc' function NOT 'floor'). This results in incorrect rounding for negative values. To keep the current behavior, use torch.div(a, b, rounding_mode='trunc'), or for actual floor division, use torch.div(a, b, rounding_mode='floor').\n",
            "  return (input_length - kernel_size) // stride + 1\n",
            "The following columns in the evaluation set  don't have a corresponding argument in `Wav2Vec2ForCTC.forward` and have been ignored: input_length.\n",
            "***** Running Evaluation *****\n",
            "  Num examples = 3145\n",
            "  Batch size = 8\n",
            "Saving model checkpoint to peter2000/wav2vec2-large-xls-r-300m-kinyarwanda/checkpoint-20400\n",
            "Configuration saved in peter2000/wav2vec2-large-xls-r-300m-kinyarwanda/checkpoint-20400/config.json\n",
            "Model weights saved in peter2000/wav2vec2-large-xls-r-300m-kinyarwanda/checkpoint-20400/pytorch_model.bin\n",
            "Configuration saved in peter2000/wav2vec2-large-xls-r-300m-kinyarwanda/checkpoint-20400/preprocessor_config.json\n",
            "Deleting older checkpoint [peter2000/wav2vec2-large-xls-r-300m-kinyarwanda/checkpoint-19600] due to args.save_total_limit\n",
            "/usr/local/lib/python3.7/dist-packages/transformers/models/wav2vec2/modeling_wav2vec2.py:882: UserWarning: __floordiv__ is deprecated, and its behavior will change in a future version of pytorch. It currently rounds toward 0 (like the 'trunc' function NOT 'floor'). This results in incorrect rounding for negative values. To keep the current behavior, use torch.div(a, b, rounding_mode='trunc'), or for actual floor division, use torch.div(a, b, rounding_mode='floor').\n",
            "  return (input_length - kernel_size) // stride + 1\n",
            "The following columns in the evaluation set  don't have a corresponding argument in `Wav2Vec2ForCTC.forward` and have been ignored: input_length.\n",
            "***** Running Evaluation *****\n",
            "  Num examples = 3145\n",
            "  Batch size = 8\n",
            "Saving model checkpoint to peter2000/wav2vec2-large-xls-r-300m-kinyarwanda/checkpoint-20800\n",
            "Configuration saved in peter2000/wav2vec2-large-xls-r-300m-kinyarwanda/checkpoint-20800/config.json\n",
            "Model weights saved in peter2000/wav2vec2-large-xls-r-300m-kinyarwanda/checkpoint-20800/pytorch_model.bin\n",
            "Configuration saved in peter2000/wav2vec2-large-xls-r-300m-kinyarwanda/checkpoint-20800/preprocessor_config.json\n",
            "Deleting older checkpoint [peter2000/wav2vec2-large-xls-r-300m-kinyarwanda/checkpoint-20000] due to args.save_total_limit\n",
            "/usr/local/lib/python3.7/dist-packages/transformers/models/wav2vec2/modeling_wav2vec2.py:882: UserWarning: __floordiv__ is deprecated, and its behavior will change in a future version of pytorch. It currently rounds toward 0 (like the 'trunc' function NOT 'floor'). This results in incorrect rounding for negative values. To keep the current behavior, use torch.div(a, b, rounding_mode='trunc'), or for actual floor division, use torch.div(a, b, rounding_mode='floor').\n",
            "  return (input_length - kernel_size) // stride + 1\n",
            "The following columns in the evaluation set  don't have a corresponding argument in `Wav2Vec2ForCTC.forward` and have been ignored: input_length.\n",
            "***** Running Evaluation *****\n",
            "  Num examples = 3145\n",
            "  Batch size = 8\n",
            "Saving model checkpoint to peter2000/wav2vec2-large-xls-r-300m-kinyarwanda/checkpoint-21200\n",
            "Configuration saved in peter2000/wav2vec2-large-xls-r-300m-kinyarwanda/checkpoint-21200/config.json\n",
            "Model weights saved in peter2000/wav2vec2-large-xls-r-300m-kinyarwanda/checkpoint-21200/pytorch_model.bin\n",
            "Configuration saved in peter2000/wav2vec2-large-xls-r-300m-kinyarwanda/checkpoint-21200/preprocessor_config.json\n",
            "Deleting older checkpoint [peter2000/wav2vec2-large-xls-r-300m-kinyarwanda/checkpoint-20400] due to args.save_total_limit\n",
            "/usr/local/lib/python3.7/dist-packages/transformers/models/wav2vec2/modeling_wav2vec2.py:882: UserWarning: __floordiv__ is deprecated, and its behavior will change in a future version of pytorch. It currently rounds toward 0 (like the 'trunc' function NOT 'floor'). This results in incorrect rounding for negative values. To keep the current behavior, use torch.div(a, b, rounding_mode='trunc'), or for actual floor division, use torch.div(a, b, rounding_mode='floor').\n",
            "  return (input_length - kernel_size) // stride + 1\n",
            "The following columns in the evaluation set  don't have a corresponding argument in `Wav2Vec2ForCTC.forward` and have been ignored: input_length.\n",
            "***** Running Evaluation *****\n",
            "  Num examples = 3145\n",
            "  Batch size = 8\n",
            "Saving model checkpoint to peter2000/wav2vec2-large-xls-r-300m-kinyarwanda/checkpoint-21600\n",
            "Configuration saved in peter2000/wav2vec2-large-xls-r-300m-kinyarwanda/checkpoint-21600/config.json\n",
            "Model weights saved in peter2000/wav2vec2-large-xls-r-300m-kinyarwanda/checkpoint-21600/pytorch_model.bin\n",
            "Configuration saved in peter2000/wav2vec2-large-xls-r-300m-kinyarwanda/checkpoint-21600/preprocessor_config.json\n",
            "Deleting older checkpoint [peter2000/wav2vec2-large-xls-r-300m-kinyarwanda/checkpoint-20800] due to args.save_total_limit\n",
            "/usr/local/lib/python3.7/dist-packages/transformers/models/wav2vec2/modeling_wav2vec2.py:882: UserWarning: __floordiv__ is deprecated, and its behavior will change in a future version of pytorch. It currently rounds toward 0 (like the 'trunc' function NOT 'floor'). This results in incorrect rounding for negative values. To keep the current behavior, use torch.div(a, b, rounding_mode='trunc'), or for actual floor division, use torch.div(a, b, rounding_mode='floor').\n",
            "  return (input_length - kernel_size) // stride + 1\n",
            "The following columns in the evaluation set  don't have a corresponding argument in `Wav2Vec2ForCTC.forward` and have been ignored: input_length.\n",
            "***** Running Evaluation *****\n",
            "  Num examples = 3145\n",
            "  Batch size = 8\n",
            "Saving model checkpoint to peter2000/wav2vec2-large-xls-r-300m-kinyarwanda/checkpoint-22000\n",
            "Configuration saved in peter2000/wav2vec2-large-xls-r-300m-kinyarwanda/checkpoint-22000/config.json\n",
            "Model weights saved in peter2000/wav2vec2-large-xls-r-300m-kinyarwanda/checkpoint-22000/pytorch_model.bin\n",
            "Configuration saved in peter2000/wav2vec2-large-xls-r-300m-kinyarwanda/checkpoint-22000/preprocessor_config.json\n",
            "Deleting older checkpoint [peter2000/wav2vec2-large-xls-r-300m-kinyarwanda/checkpoint-21200] due to args.save_total_limit\n",
            "/usr/local/lib/python3.7/dist-packages/transformers/models/wav2vec2/modeling_wav2vec2.py:882: UserWarning: __floordiv__ is deprecated, and its behavior will change in a future version of pytorch. It currently rounds toward 0 (like the 'trunc' function NOT 'floor'). This results in incorrect rounding for negative values. To keep the current behavior, use torch.div(a, b, rounding_mode='trunc'), or for actual floor division, use torch.div(a, b, rounding_mode='floor').\n",
            "  return (input_length - kernel_size) // stride + 1\n",
            "The following columns in the evaluation set  don't have a corresponding argument in `Wav2Vec2ForCTC.forward` and have been ignored: input_length.\n",
            "***** Running Evaluation *****\n",
            "  Num examples = 3145\n",
            "  Batch size = 8\n",
            "Saving model checkpoint to peter2000/wav2vec2-large-xls-r-300m-kinyarwanda/checkpoint-22400\n",
            "Configuration saved in peter2000/wav2vec2-large-xls-r-300m-kinyarwanda/checkpoint-22400/config.json\n",
            "Model weights saved in peter2000/wav2vec2-large-xls-r-300m-kinyarwanda/checkpoint-22400/pytorch_model.bin\n",
            "Configuration saved in peter2000/wav2vec2-large-xls-r-300m-kinyarwanda/checkpoint-22400/preprocessor_config.json\n",
            "Deleting older checkpoint [peter2000/wav2vec2-large-xls-r-300m-kinyarwanda/checkpoint-21600] due to args.save_total_limit\n",
            "/usr/local/lib/python3.7/dist-packages/transformers/models/wav2vec2/modeling_wav2vec2.py:882: UserWarning: __floordiv__ is deprecated, and its behavior will change in a future version of pytorch. It currently rounds toward 0 (like the 'trunc' function NOT 'floor'). This results in incorrect rounding for negative values. To keep the current behavior, use torch.div(a, b, rounding_mode='trunc'), or for actual floor division, use torch.div(a, b, rounding_mode='floor').\n",
            "  return (input_length - kernel_size) // stride + 1\n",
            "The following columns in the evaluation set  don't have a corresponding argument in `Wav2Vec2ForCTC.forward` and have been ignored: input_length.\n",
            "***** Running Evaluation *****\n",
            "  Num examples = 3145\n",
            "  Batch size = 8\n",
            "Saving model checkpoint to peter2000/wav2vec2-large-xls-r-300m-kinyarwanda/checkpoint-22800\n",
            "Configuration saved in peter2000/wav2vec2-large-xls-r-300m-kinyarwanda/checkpoint-22800/config.json\n",
            "Model weights saved in peter2000/wav2vec2-large-xls-r-300m-kinyarwanda/checkpoint-22800/pytorch_model.bin\n",
            "Configuration saved in peter2000/wav2vec2-large-xls-r-300m-kinyarwanda/checkpoint-22800/preprocessor_config.json\n",
            "Deleting older checkpoint [peter2000/wav2vec2-large-xls-r-300m-kinyarwanda/checkpoint-22000] due to args.save_total_limit\n",
            "/usr/local/lib/python3.7/dist-packages/transformers/models/wav2vec2/modeling_wav2vec2.py:882: UserWarning: __floordiv__ is deprecated, and its behavior will change in a future version of pytorch. It currently rounds toward 0 (like the 'trunc' function NOT 'floor'). This results in incorrect rounding for negative values. To keep the current behavior, use torch.div(a, b, rounding_mode='trunc'), or for actual floor division, use torch.div(a, b, rounding_mode='floor').\n",
            "  return (input_length - kernel_size) // stride + 1\n",
            "The following columns in the evaluation set  don't have a corresponding argument in `Wav2Vec2ForCTC.forward` and have been ignored: input_length.\n",
            "***** Running Evaluation *****\n",
            "  Num examples = 3145\n",
            "  Batch size = 8\n",
            "Saving model checkpoint to peter2000/wav2vec2-large-xls-r-300m-kinyarwanda/checkpoint-23200\n",
            "Configuration saved in peter2000/wav2vec2-large-xls-r-300m-kinyarwanda/checkpoint-23200/config.json\n",
            "Model weights saved in peter2000/wav2vec2-large-xls-r-300m-kinyarwanda/checkpoint-23200/pytorch_model.bin\n",
            "Configuration saved in peter2000/wav2vec2-large-xls-r-300m-kinyarwanda/checkpoint-23200/preprocessor_config.json\n",
            "Deleting older checkpoint [peter2000/wav2vec2-large-xls-r-300m-kinyarwanda/checkpoint-22400] due to args.save_total_limit\n",
            "/usr/local/lib/python3.7/dist-packages/transformers/models/wav2vec2/modeling_wav2vec2.py:882: UserWarning: __floordiv__ is deprecated, and its behavior will change in a future version of pytorch. It currently rounds toward 0 (like the 'trunc' function NOT 'floor'). This results in incorrect rounding for negative values. To keep the current behavior, use torch.div(a, b, rounding_mode='trunc'), or for actual floor division, use torch.div(a, b, rounding_mode='floor').\n",
            "  return (input_length - kernel_size) // stride + 1\n",
            "The following columns in the evaluation set  don't have a corresponding argument in `Wav2Vec2ForCTC.forward` and have been ignored: input_length.\n",
            "***** Running Evaluation *****\n",
            "  Num examples = 3145\n",
            "  Batch size = 8\n",
            "Saving model checkpoint to peter2000/wav2vec2-large-xls-r-300m-kinyarwanda/checkpoint-23600\n",
            "Configuration saved in peter2000/wav2vec2-large-xls-r-300m-kinyarwanda/checkpoint-23600/config.json\n",
            "Model weights saved in peter2000/wav2vec2-large-xls-r-300m-kinyarwanda/checkpoint-23600/pytorch_model.bin\n",
            "Configuration saved in peter2000/wav2vec2-large-xls-r-300m-kinyarwanda/checkpoint-23600/preprocessor_config.json\n",
            "Deleting older checkpoint [peter2000/wav2vec2-large-xls-r-300m-kinyarwanda/checkpoint-22800] due to args.save_total_limit\n",
            "/usr/local/lib/python3.7/dist-packages/transformers/models/wav2vec2/modeling_wav2vec2.py:882: UserWarning: __floordiv__ is deprecated, and its behavior will change in a future version of pytorch. It currently rounds toward 0 (like the 'trunc' function NOT 'floor'). This results in incorrect rounding for negative values. To keep the current behavior, use torch.div(a, b, rounding_mode='trunc'), or for actual floor division, use torch.div(a, b, rounding_mode='floor').\n",
            "  return (input_length - kernel_size) // stride + 1\n",
            "The following columns in the evaluation set  don't have a corresponding argument in `Wav2Vec2ForCTC.forward` and have been ignored: input_length.\n",
            "***** Running Evaluation *****\n",
            "  Num examples = 3145\n",
            "  Batch size = 8\n",
            "Saving model checkpoint to peter2000/wav2vec2-large-xls-r-300m-kinyarwanda/checkpoint-24000\n",
            "Configuration saved in peter2000/wav2vec2-large-xls-r-300m-kinyarwanda/checkpoint-24000/config.json\n",
            "Model weights saved in peter2000/wav2vec2-large-xls-r-300m-kinyarwanda/checkpoint-24000/pytorch_model.bin\n",
            "Configuration saved in peter2000/wav2vec2-large-xls-r-300m-kinyarwanda/checkpoint-24000/preprocessor_config.json\n",
            "Deleting older checkpoint [peter2000/wav2vec2-large-xls-r-300m-kinyarwanda/checkpoint-23200] due to args.save_total_limit\n",
            "/usr/local/lib/python3.7/dist-packages/transformers/models/wav2vec2/modeling_wav2vec2.py:882: UserWarning: __floordiv__ is deprecated, and its behavior will change in a future version of pytorch. It currently rounds toward 0 (like the 'trunc' function NOT 'floor'). This results in incorrect rounding for negative values. To keep the current behavior, use torch.div(a, b, rounding_mode='trunc'), or for actual floor division, use torch.div(a, b, rounding_mode='floor').\n",
            "  return (input_length - kernel_size) // stride + 1\n",
            "The following columns in the evaluation set  don't have a corresponding argument in `Wav2Vec2ForCTC.forward` and have been ignored: input_length.\n",
            "***** Running Evaluation *****\n",
            "  Num examples = 3145\n",
            "  Batch size = 8\n",
            "Saving model checkpoint to peter2000/wav2vec2-large-xls-r-300m-kinyarwanda/checkpoint-24400\n",
            "Configuration saved in peter2000/wav2vec2-large-xls-r-300m-kinyarwanda/checkpoint-24400/config.json\n",
            "Model weights saved in peter2000/wav2vec2-large-xls-r-300m-kinyarwanda/checkpoint-24400/pytorch_model.bin\n",
            "Configuration saved in peter2000/wav2vec2-large-xls-r-300m-kinyarwanda/checkpoint-24400/preprocessor_config.json\n",
            "Deleting older checkpoint [peter2000/wav2vec2-large-xls-r-300m-kinyarwanda/checkpoint-23600] due to args.save_total_limit\n",
            "/usr/local/lib/python3.7/dist-packages/transformers/models/wav2vec2/modeling_wav2vec2.py:882: UserWarning: __floordiv__ is deprecated, and its behavior will change in a future version of pytorch. It currently rounds toward 0 (like the 'trunc' function NOT 'floor'). This results in incorrect rounding for negative values. To keep the current behavior, use torch.div(a, b, rounding_mode='trunc'), or for actual floor division, use torch.div(a, b, rounding_mode='floor').\n",
            "  return (input_length - kernel_size) // stride + 1\n",
            "The following columns in the evaluation set  don't have a corresponding argument in `Wav2Vec2ForCTC.forward` and have been ignored: input_length.\n",
            "***** Running Evaluation *****\n",
            "  Num examples = 3145\n",
            "  Batch size = 8\n",
            "Saving model checkpoint to peter2000/wav2vec2-large-xls-r-300m-kinyarwanda/checkpoint-24800\n",
            "Configuration saved in peter2000/wav2vec2-large-xls-r-300m-kinyarwanda/checkpoint-24800/config.json\n",
            "Model weights saved in peter2000/wav2vec2-large-xls-r-300m-kinyarwanda/checkpoint-24800/pytorch_model.bin\n",
            "Configuration saved in peter2000/wav2vec2-large-xls-r-300m-kinyarwanda/checkpoint-24800/preprocessor_config.json\n",
            "Deleting older checkpoint [peter2000/wav2vec2-large-xls-r-300m-kinyarwanda/checkpoint-24000] due to args.save_total_limit\n",
            "/usr/local/lib/python3.7/dist-packages/transformers/models/wav2vec2/modeling_wav2vec2.py:882: UserWarning: __floordiv__ is deprecated, and its behavior will change in a future version of pytorch. It currently rounds toward 0 (like the 'trunc' function NOT 'floor'). This results in incorrect rounding for negative values. To keep the current behavior, use torch.div(a, b, rounding_mode='trunc'), or for actual floor division, use torch.div(a, b, rounding_mode='floor').\n",
            "  return (input_length - kernel_size) // stride + 1\n",
            "The following columns in the evaluation set  don't have a corresponding argument in `Wav2Vec2ForCTC.forward` and have been ignored: input_length.\n",
            "***** Running Evaluation *****\n",
            "  Num examples = 3145\n",
            "  Batch size = 8\n",
            "Saving model checkpoint to peter2000/wav2vec2-large-xls-r-300m-kinyarwanda/checkpoint-25200\n",
            "Configuration saved in peter2000/wav2vec2-large-xls-r-300m-kinyarwanda/checkpoint-25200/config.json\n",
            "Model weights saved in peter2000/wav2vec2-large-xls-r-300m-kinyarwanda/checkpoint-25200/pytorch_model.bin\n",
            "Configuration saved in peter2000/wav2vec2-large-xls-r-300m-kinyarwanda/checkpoint-25200/preprocessor_config.json\n",
            "Deleting older checkpoint [peter2000/wav2vec2-large-xls-r-300m-kinyarwanda/checkpoint-24400] due to args.save_total_limit\n",
            "/usr/local/lib/python3.7/dist-packages/transformers/models/wav2vec2/modeling_wav2vec2.py:882: UserWarning: __floordiv__ is deprecated, and its behavior will change in a future version of pytorch. It currently rounds toward 0 (like the 'trunc' function NOT 'floor'). This results in incorrect rounding for negative values. To keep the current behavior, use torch.div(a, b, rounding_mode='trunc'), or for actual floor division, use torch.div(a, b, rounding_mode='floor').\n",
            "  return (input_length - kernel_size) // stride + 1\n",
            "The following columns in the evaluation set  don't have a corresponding argument in `Wav2Vec2ForCTC.forward` and have been ignored: input_length.\n",
            "***** Running Evaluation *****\n",
            "  Num examples = 3145\n",
            "  Batch size = 8\n",
            "Saving model checkpoint to peter2000/wav2vec2-large-xls-r-300m-kinyarwanda/checkpoint-25600\n",
            "Configuration saved in peter2000/wav2vec2-large-xls-r-300m-kinyarwanda/checkpoint-25600/config.json\n",
            "Model weights saved in peter2000/wav2vec2-large-xls-r-300m-kinyarwanda/checkpoint-25600/pytorch_model.bin\n",
            "Configuration saved in peter2000/wav2vec2-large-xls-r-300m-kinyarwanda/checkpoint-25600/preprocessor_config.json\n",
            "Deleting older checkpoint [peter2000/wav2vec2-large-xls-r-300m-kinyarwanda/checkpoint-24800] due to args.save_total_limit\n",
            "/usr/local/lib/python3.7/dist-packages/transformers/models/wav2vec2/modeling_wav2vec2.py:882: UserWarning: __floordiv__ is deprecated, and its behavior will change in a future version of pytorch. It currently rounds toward 0 (like the 'trunc' function NOT 'floor'). This results in incorrect rounding for negative values. To keep the current behavior, use torch.div(a, b, rounding_mode='trunc'), or for actual floor division, use torch.div(a, b, rounding_mode='floor').\n",
            "  return (input_length - kernel_size) // stride + 1\n",
            "The following columns in the evaluation set  don't have a corresponding argument in `Wav2Vec2ForCTC.forward` and have been ignored: input_length.\n",
            "***** Running Evaluation *****\n",
            "  Num examples = 3145\n",
            "  Batch size = 8\n",
            "Saving model checkpoint to peter2000/wav2vec2-large-xls-r-300m-kinyarwanda/checkpoint-26000\n",
            "Configuration saved in peter2000/wav2vec2-large-xls-r-300m-kinyarwanda/checkpoint-26000/config.json\n",
            "Model weights saved in peter2000/wav2vec2-large-xls-r-300m-kinyarwanda/checkpoint-26000/pytorch_model.bin\n",
            "Configuration saved in peter2000/wav2vec2-large-xls-r-300m-kinyarwanda/checkpoint-26000/preprocessor_config.json\n",
            "Deleting older checkpoint [peter2000/wav2vec2-large-xls-r-300m-kinyarwanda/checkpoint-25200] due to args.save_total_limit\n",
            "/usr/local/lib/python3.7/dist-packages/transformers/models/wav2vec2/modeling_wav2vec2.py:882: UserWarning: __floordiv__ is deprecated, and its behavior will change in a future version of pytorch. It currently rounds toward 0 (like the 'trunc' function NOT 'floor'). This results in incorrect rounding for negative values. To keep the current behavior, use torch.div(a, b, rounding_mode='trunc'), or for actual floor division, use torch.div(a, b, rounding_mode='floor').\n",
            "  return (input_length - kernel_size) // stride + 1\n",
            "The following columns in the evaluation set  don't have a corresponding argument in `Wav2Vec2ForCTC.forward` and have been ignored: input_length.\n",
            "***** Running Evaluation *****\n",
            "  Num examples = 3145\n",
            "  Batch size = 8\n",
            "Saving model checkpoint to peter2000/wav2vec2-large-xls-r-300m-kinyarwanda/checkpoint-26400\n",
            "Configuration saved in peter2000/wav2vec2-large-xls-r-300m-kinyarwanda/checkpoint-26400/config.json\n",
            "Model weights saved in peter2000/wav2vec2-large-xls-r-300m-kinyarwanda/checkpoint-26400/pytorch_model.bin\n",
            "Configuration saved in peter2000/wav2vec2-large-xls-r-300m-kinyarwanda/checkpoint-26400/preprocessor_config.json\n",
            "Deleting older checkpoint [peter2000/wav2vec2-large-xls-r-300m-kinyarwanda/checkpoint-25600] due to args.save_total_limit\n",
            "/usr/local/lib/python3.7/dist-packages/transformers/models/wav2vec2/modeling_wav2vec2.py:882: UserWarning: __floordiv__ is deprecated, and its behavior will change in a future version of pytorch. It currently rounds toward 0 (like the 'trunc' function NOT 'floor'). This results in incorrect rounding for negative values. To keep the current behavior, use torch.div(a, b, rounding_mode='trunc'), or for actual floor division, use torch.div(a, b, rounding_mode='floor').\n",
            "  return (input_length - kernel_size) // stride + 1\n",
            "\n",
            "\n",
            "Training completed. Do not forget to share your model on huggingface.co/models =)\n",
            "\n",
            "\n"
          ]
        },
        {
          "output_type": "execute_result",
          "data": {
            "text/plain": [
              "TrainOutput(global_step=26536, training_loss=0.48085540355168305, metrics={'train_runtime': 64792.29, 'train_samples_per_second': 9.831, 'train_steps_per_second': 0.41, 'total_flos': 9.368843387404172e+19, 'train_loss': 0.48085540355168305, 'epoch': 8.0})"
            ]
          },
          "metadata": {},
          "execution_count": 47
        }
      ],
      "source": [
        "trainer.train()"
      ]
    },
    {
      "cell_type": "markdown",
      "metadata": {
        "id": "a9q4mgMZplr_"
      },
      "source": [
        "The training loss and validation WER go down nicely."
      ]
    },
    {
      "cell_type": "markdown",
      "metadata": {
        "id": "4Ya7WEy0pd13"
      },
      "source": [
        "You can now upload the result of the training to the 🤗 Hub, just execute this instruction:"
      ]
    },
    {
      "cell_type": "code",
      "execution_count": 48,
      "metadata": {
        "id": "ArG1Thf6NBWm",
        "colab": {
          "base_uri": "https://localhost:8080/",
          "height": 412,
          "referenced_widgets": [
            "9bda7c23b1284eb49108879fece011a2",
            "ae6e995dad4b4a1cbed3396df98b6197",
            "1aa9577568944132ac12a89eb4bcb985",
            "7ac8ede19ca043b6b9c39c86dc8873ae",
            "0ed88bf749d54f138d5060d8f998c995",
            "8dd108b87b00416aa66ff5868795cfe7",
            "658953291ed64349a139466f35610ce2",
            "904152aeecfb49ffbd7d0e5887589f07",
            "d38457f1180e49a68fed74ac99f5e242",
            "848366a5c32848d6a8ec44faeb49b828",
            "7f1f23bf23d3444b890d16f055bf1b7b",
            "5be30d1c20eb4c85a28174fb77405287",
            "7b9a4db56a9e42a2b4c6c8ff9d4f0178",
            "3085eea0495141388f9a788fc1720f34",
            "52fffe5f8b3c44259cc1fadf9680bd5c",
            "0657ec6ba6f34a95bd582d0279756841",
            "9e8e662957374f73883eabdd7691e995",
            "b76dfbd6ab7e4294bae9fab4275eb234",
            "cac7caacf9fc48ef9eb5a02f4f25d8e7",
            "bb3d1c17732e4746a0dde2057ec55822",
            "b4fa7d4da9ed4b87a0397fb2ff5f9229",
            "8e1996cd0eb24eddb600ad027f2131d9"
          ]
        },
        "outputId": "8ce18029-c3cb-4856-f590-84df0d01518c"
      },
      "outputs": [
        {
          "output_type": "stream",
          "name": "stderr",
          "text": [
            "Saving model checkpoint to peter2000/wav2vec2-large-xls-r-300m-kinyarwanda\n",
            "Configuration saved in peter2000/wav2vec2-large-xls-r-300m-kinyarwanda/config.json\n",
            "Model weights saved in peter2000/wav2vec2-large-xls-r-300m-kinyarwanda/pytorch_model.bin\n",
            "Configuration saved in peter2000/wav2vec2-large-xls-r-300m-kinyarwanda/preprocessor_config.json\n",
            "Several commits (2) will be pushed upstream.\n",
            "The progress bars may be unreliable.\n"
          ]
        },
        {
          "output_type": "display_data",
          "data": {
            "text/plain": [
              "Upload file pytorch_model.bin:   0%|          | 3.33k/1.18G [00:00<?, ?B/s]"
            ],
            "application/vnd.jupyter.widget-view+json": {
              "version_major": 2,
              "version_minor": 0,
              "model_id": "9bda7c23b1284eb49108879fece011a2"
            }
          },
          "metadata": {}
        },
        {
          "output_type": "display_data",
          "data": {
            "text/plain": [
              "Upload file runs/Jun02_19-30-03_e97f4e46d604/events.out.tfevents.1654200508.e97f4e46d604.97.0:   9%|9         …"
            ],
            "application/vnd.jupyter.widget-view+json": {
              "version_major": 2,
              "version_minor": 0,
              "model_id": "5be30d1c20eb4c85a28174fb77405287"
            }
          },
          "metadata": {}
        },
        {
          "output_type": "stream",
          "name": "stderr",
          "text": [
            "remote: Enforcing permissions...        \n",
            "remote: Allowed refs: all        \n",
            "To https://huggingface.co/peter2000/wav2vec2-large-xls-r-300m-kinyarwanda\n",
            "   74911cc..01dd782  main -> main\n",
            "\n",
            "Dropping the following result as it does not have all the necessary field:\n",
            "{'dataset': {'name': 'common_voice', 'type': 'common_voice', 'args': 'rw'}}\n",
            "remote: Enforcing permissions...        \n",
            "remote: Allowed refs: all        \n",
            "To https://huggingface.co/peter2000/wav2vec2-large-xls-r-300m-kinyarwanda\n",
            "   01dd782..9a4464f  main -> main\n",
            "\n"
          ]
        },
        {
          "output_type": "execute_result",
          "data": {
            "text/plain": [
              "'https://huggingface.co/peter2000/wav2vec2-large-xls-r-300m-kinyarwanda/commit/01dd78221f6ebc655ab6993be939881f0cf030ff'"
            ],
            "application/vnd.google.colaboratory.intrinsic+json": {
              "type": "string"
            }
          },
          "metadata": {},
          "execution_count": 48
        }
      ],
      "source": [
        "trainer.push_to_hub()"
      ]
    },
    {
      "cell_type": "markdown",
      "metadata": {
        "id": "RHIVc44_fY2N"
      },
      "source": [
        "You can now share this model with all your friends, family, favorite pets: they can all load it with the identifier \"your-username/the-name-you-picked\" so for instance:"
      ]
    },
    {
      "cell_type": "markdown",
      "metadata": {
        "id": "5lWWIKyBpx1h"
      },
      "source": [
        "```python\n",
        "from transformers import AutoModelForCTC, Wav2Vec2Processor\n",
        "\n",
        "model = AutoModelForCTC.from_pretrained(\"patrickvonplaten/wav2vec2-large-xls-r-300m-tr-colab\")\n",
        "processor = Wav2Vec2Processor.from_pretrained(\"patrickvonplaten/wav2vec2-large-xls-r-300m-tr-colab\")\n",
        "```"
      ]
    },
    {
      "cell_type": "markdown",
      "metadata": {
        "id": "pmi1cX0fRBit"
      },
      "source": [
        "For more examples of how XLS-R can be fine-tuned, please take a look at the [official speech recognition examples](https://github.com/huggingface/transformers/tree/master/examples/pytorch/speech-recognition#examples)."
      ]
    },
    {
      "cell_type": "markdown",
      "metadata": {
        "id": "L8b8Qkoy3KyS"
      },
      "source": [
        "### Evaluation\n",
        "\n",
        "As a final check, let's load the model and verify that it indeed has learned to transcribe Turkish speech.\n",
        "\n",
        "Let's first load the pretrained checkpoint."
      ]
    },
    {
      "cell_type": "code",
      "execution_count": 50,
      "metadata": {
        "id": "R351I9IQp_9D",
        "colab": {
          "base_uri": "https://localhost:8080/"
        },
        "outputId": "8dbf4614-6c9b-485c-8c26-b31cd0076626"
      },
      "outputs": [
        {
          "output_type": "stream",
          "name": "stderr",
          "text": [
            "loading configuration file peter2000/wav2vec2-large-xls-r-300m-kinyarwanda/config.json\n",
            "Model config Wav2Vec2Config {\n",
            "  \"_name_or_path\": \"facebook/wav2vec2-xls-r-300m\",\n",
            "  \"activation_dropout\": 0.0,\n",
            "  \"apply_spec_augment\": true,\n",
            "  \"architectures\": [\n",
            "    \"Wav2Vec2ForCTC\"\n",
            "  ],\n",
            "  \"attention_dropout\": 0.05,\n",
            "  \"bos_token_id\": 1,\n",
            "  \"classifier_proj_size\": 256,\n",
            "  \"codevector_dim\": 768,\n",
            "  \"contrastive_logits_temperature\": 0.1,\n",
            "  \"conv_bias\": true,\n",
            "  \"conv_dim\": [\n",
            "    512,\n",
            "    512,\n",
            "    512,\n",
            "    512,\n",
            "    512,\n",
            "    512,\n",
            "    512\n",
            "  ],\n",
            "  \"conv_kernel\": [\n",
            "    10,\n",
            "    3,\n",
            "    3,\n",
            "    3,\n",
            "    3,\n",
            "    2,\n",
            "    2\n",
            "  ],\n",
            "  \"conv_stride\": [\n",
            "    5,\n",
            "    2,\n",
            "    2,\n",
            "    2,\n",
            "    2,\n",
            "    2,\n",
            "    2\n",
            "  ],\n",
            "  \"ctc_loss_reduction\": \"mean\",\n",
            "  \"ctc_zero_infinity\": false,\n",
            "  \"diversity_loss_weight\": 0.1,\n",
            "  \"do_stable_layer_norm\": true,\n",
            "  \"eos_token_id\": 2,\n",
            "  \"feat_extract_activation\": \"gelu\",\n",
            "  \"feat_extract_dropout\": 0.0,\n",
            "  \"feat_extract_norm\": \"layer\",\n",
            "  \"feat_proj_dropout\": 0.05,\n",
            "  \"feat_quantizer_dropout\": 0.0,\n",
            "  \"final_dropout\": 0.0,\n",
            "  \"gradient_checkpointing\": false,\n",
            "  \"hidden_act\": \"gelu\",\n",
            "  \"hidden_dropout\": 0.05,\n",
            "  \"hidden_size\": 1024,\n",
            "  \"initializer_range\": 0.02,\n",
            "  \"intermediate_size\": 4096,\n",
            "  \"layer_norm_eps\": 1e-05,\n",
            "  \"layerdrop\": 0.05,\n",
            "  \"mask_feature_length\": 10,\n",
            "  \"mask_feature_prob\": 0.0,\n",
            "  \"mask_time_length\": 10,\n",
            "  \"mask_time_prob\": 0.05,\n",
            "  \"model_type\": \"wav2vec2\",\n",
            "  \"num_attention_heads\": 16,\n",
            "  \"num_codevector_groups\": 2,\n",
            "  \"num_codevectors_per_group\": 320,\n",
            "  \"num_conv_pos_embedding_groups\": 16,\n",
            "  \"num_conv_pos_embeddings\": 128,\n",
            "  \"num_feat_extract_layers\": 7,\n",
            "  \"num_hidden_layers\": 24,\n",
            "  \"num_negatives\": 100,\n",
            "  \"pad_token_id\": 96,\n",
            "  \"proj_codevector_dim\": 768,\n",
            "  \"torch_dtype\": \"float32\",\n",
            "  \"transformers_version\": \"4.11.3\",\n",
            "  \"use_weighted_layer_sum\": false,\n",
            "  \"vocab_size\": 99\n",
            "}\n",
            "\n",
            "loading weights file peter2000/wav2vec2-large-xls-r-300m-kinyarwanda/pytorch_model.bin\n",
            "All model checkpoint weights were used when initializing Wav2Vec2ForCTC.\n",
            "\n",
            "All the weights of Wav2Vec2ForCTC were initialized from the model checkpoint at peter2000/wav2vec2-large-xls-r-300m-kinyarwanda.\n",
            "If your task is similar to the task the model of the checkpoint was trained on, you can already use Wav2Vec2ForCTC for predictions without further training.\n",
            "loading feature extractor configuration file peter2000/wav2vec2-large-xls-r-300m-kinyarwanda/preprocessor_config.json\n",
            "Feature extractor Wav2Vec2FeatureExtractor {\n",
            "  \"do_normalize\": true,\n",
            "  \"feature_extractor_type\": \"Wav2Vec2FeatureExtractor\",\n",
            "  \"feature_size\": 1,\n",
            "  \"padding_side\": \"right\",\n",
            "  \"padding_value\": 0.0,\n",
            "  \"return_attention_mask\": true,\n",
            "  \"sampling_rate\": 16000\n",
            "}\n",
            "\n",
            "Didn't find file peter2000/wav2vec2-large-xls-r-300m-kinyarwanda/tokenizer.json. We won't load it.\n",
            "loading file peter2000/wav2vec2-large-xls-r-300m-kinyarwanda/vocab.json\n",
            "loading file peter2000/wav2vec2-large-xls-r-300m-kinyarwanda/tokenizer_config.json\n",
            "loading file peter2000/wav2vec2-large-xls-r-300m-kinyarwanda/added_tokens.json\n",
            "loading file peter2000/wav2vec2-large-xls-r-300m-kinyarwanda/special_tokens_map.json\n",
            "loading file None\n",
            "Adding <s> to the vocabulary\n",
            "Adding </s> to the vocabulary\n"
          ]
        }
      ],
      "source": [
        "model = Wav2Vec2ForCTC.from_pretrained(repo_name).to(\"cuda\")\n",
        "processor = Wav2Vec2Processor.from_pretrained(repo_name)"
      ]
    },
    {
      "cell_type": "markdown",
      "metadata": {
        "id": "jD7TZ1YS3S_K"
      },
      "source": [
        "\n",
        "Now, we will just take the first example of the test set, run it through the model and take the `argmax(...)` of the logits to retrieve the predicted token ids."
      ]
    },
    {
      "cell_type": "code",
      "execution_count": 51,
      "metadata": {
        "id": "pax07TnL3WZn",
        "colab": {
          "base_uri": "https://localhost:8080/"
        },
        "outputId": "278310cc-3edb-4086-b6a8-52d3966baf6e"
      },
      "outputs": [
        {
          "output_type": "stream",
          "name": "stderr",
          "text": [
            "It is strongly recommended to pass the ``sampling_rate`` argument to this function.Failing to do so can result in silent errors that might be hard to debug.\n"
          ]
        }
      ],
      "source": [
        "input_dict = processor(common_voice_test[0][\"input_values\"], return_tensors=\"pt\", padding=True)\n",
        "\n",
        "logits = model(input_dict.input_values.to(\"cuda\")).logits\n",
        "\n",
        "pred_ids = torch.argmax(logits, dim=-1)[0]"
      ]
    },
    {
      "cell_type": "markdown",
      "metadata": {
        "id": "7nkzSQu53Zs2"
      },
      "source": [
        "We adapted `common_voice_test` quite a bit so that the dataset instance does not contain the original sentence label anymore. Thus, we re-use the original dataset to get the label of the first example."
      ]
    },
    {
      "cell_type": "code",
      "execution_count": 52,
      "metadata": {
        "id": "fe2AE-2xqKHx",
        "colab": {
          "base_uri": "https://localhost:8080/",
          "height": 121,
          "referenced_widgets": [
            "5385ae4d1dfa4c68923e4d1a760409ca",
            "ec2cc9cd13084c098ca9e7f27fff5278",
            "68e59660b3064317b7dec07f774264e0",
            "b617c7b34738413586cb21eb636faddf",
            "ae29de9d69be44f8b6a21c3f751f5c27",
            "fac8436b8a964fe49e6c023f6f5827ff",
            "fce78891f5664d3d897a8cf0c9d78301",
            "02b7ebb6a2864b4fbf4e9ddbc7daf65d",
            "ee0778956a41422b8afb9a970d4c83fa",
            "67570f767fa840f2afef95fa588f60f3",
            "c7c804b0123d4758b2dc35c7931f22ad",
            "4360e336f113442c91cde8f99fdafa20",
            "770a955c82c64521b2529bf48ad7e5fc",
            "ce01458d9ef34762a3cfc1b6ab054595",
            "e6e5abb372494c2f8bf5450bbf2ac215",
            "f42022c0585f49f1a9a27dcd59fb778a",
            "deded2b669054606ab186bece169a24c",
            "f0ad18be0ddc42ac967736374698b9c7",
            "f9dd14ec65f7418aa1bfad0d1730d09a",
            "b07d1817b4914e37a2d87f95e45dddb3",
            "3adf39edb33c4587b7fea88f67f46d5f",
            "2627845b57734afeb20e9ce9e06c9bea",
            "dade2691a0de4bb3b4cb106ee5549bd5",
            "023fba35b1b4425d87816cd9ff156856",
            "bf7fa750bbe34bc28694c96f6322fc90",
            "f2fc6e503a5a4e489ac55b2d92691ee2",
            "c7878d9792b24b1fadb7f1295263d328",
            "ef97a04efc9c4eb1aea70fd6bf2475bd",
            "1e8846a25fad47bcaaaebc0de1df9110",
            "0d2199f694ab42229c5ef768eed927c1",
            "c4d6e5c4a33d45c792963ea267c9b5b1",
            "7eb1f57aed9a4aa2878e1ff2755687dc",
            "981011e7b7554171849cb0031fe18cd8",
            "705064bfb306437ab969203f163908ab",
            "345e4a1da1dc4388afe68343059f400f",
            "1757d48a75804508acbcd0f539932da0",
            "d82d39059a7c4d0f815674519c3e2a46",
            "5902f24db72b492bb559698ee6cc38a5",
            "200a3b6d56344c4687dad711adfb7929",
            "13e9782813ca42268fcfc2f264b5100c",
            "01d35792e35d427dbfac6b21fcd67f8a",
            "dc94764ae23c454da6b66cb687b89ae3",
            "bc1e14118d68494ebe69c66578c3b4f3",
            "020766645fe5462992695a7816ad7ecc",
            "b40a394ad8fc458699ab7b5a55bdf22e",
            "c93f7d57842248ec99c484747baf2c51",
            "a338a7d0d2164b5e9338f5d672523470",
            "2d3ec7cbadfc49129b0db2a747986567",
            "64e3e58f78754665a38f33ca56d9308c",
            "8e0007a0ca014ca7be25e8f8a840bcd2",
            "66336c38e3304430867948452c9f94e0",
            "de22ebb01c9b499493a8b9914ba15931",
            "830d98b05d88448b95a6c5b592ea0ca7",
            "a48c4d7ad9744131a6ddb5c947dca5ca",
            "e158188c0975439b958c33678f9824af",
            "5535514e75f44d38b1693379a71cfa8c",
            "7fc3b70f862b4a0b8fce6b0e81a2cea6",
            "e6eddad341e14241acb88cad6caf5f6a",
            "f6fff57457ea47ae877d726b8e445571",
            "1295a31bd0ff44229784e0c6db8c0f3e",
            "c5984b1550ae4ba08de5c10c2bd96ce0",
            "f8b5bcdd0dae402cb00ac6c5bcb9210a",
            "2e3303ff812a4ff7a05c02459f900804",
            "2ee5ccf3ead3426daa2ee7dbf56f46f0",
            "f0d102f8acc34547884b1df11e461f56",
            "a17c62d476ad439c906535815ce8e8d1"
          ]
        },
        "outputId": "95a89024-345a-4aa0-aec0-175e60e36435"
      },
      "outputs": [
        {
          "output_type": "stream",
          "name": "stderr",
          "text": [
            "Using custom data configuration tr-24242e0bc11eddb3\n"
          ]
        },
        {
          "output_type": "stream",
          "name": "stdout",
          "text": [
            "Downloading and preparing dataset common_voice/tr (download: 592.09 MiB, generated: 232.03 MiB, post-processed: Unknown size, total: 824.12 MiB) to /root/.cache/huggingface/datasets/common_voice/tr-24242e0bc11eddb3/6.1.0/5693bfc0feeade582a78c2fb250bc88f52bd86f0a7f1bb22bfee67e715de30fd...\n"
          ]
        },
        {
          "output_type": "display_data",
          "data": {
            "text/plain": [
              "Downloading:   0%|          | 0.00/621M [00:00<?, ?B/s]"
            ],
            "application/vnd.jupyter.widget-view+json": {
              "version_major": 2,
              "version_minor": 0,
              "model_id": "5385ae4d1dfa4c68923e4d1a760409ca"
            }
          },
          "metadata": {}
        },
        {
          "output_type": "display_data",
          "data": {
            "text/plain": [
              "0 examples [00:00, ? examples/s]"
            ],
            "application/vnd.jupyter.widget-view+json": {
              "version_major": 2,
              "version_minor": 0,
              "model_id": "4360e336f113442c91cde8f99fdafa20"
            }
          },
          "metadata": {}
        },
        {
          "output_type": "display_data",
          "data": {
            "text/plain": [
              "0 examples [00:00, ? examples/s]"
            ],
            "application/vnd.jupyter.widget-view+json": {
              "version_major": 2,
              "version_minor": 0,
              "model_id": "dade2691a0de4bb3b4cb106ee5549bd5"
            }
          },
          "metadata": {}
        },
        {
          "output_type": "display_data",
          "data": {
            "text/plain": [
              "0 examples [00:00, ? examples/s]"
            ],
            "application/vnd.jupyter.widget-view+json": {
              "version_major": 2,
              "version_minor": 0,
              "model_id": "705064bfb306437ab969203f163908ab"
            }
          },
          "metadata": {}
        },
        {
          "output_type": "display_data",
          "data": {
            "text/plain": [
              "0 examples [00:00, ? examples/s]"
            ],
            "application/vnd.jupyter.widget-view+json": {
              "version_major": 2,
              "version_minor": 0,
              "model_id": "b40a394ad8fc458699ab7b5a55bdf22e"
            }
          },
          "metadata": {}
        },
        {
          "output_type": "display_data",
          "data": {
            "text/plain": [
              "0 examples [00:00, ? examples/s]"
            ],
            "application/vnd.jupyter.widget-view+json": {
              "version_major": 2,
              "version_minor": 0,
              "model_id": "5535514e75f44d38b1693379a71cfa8c"
            }
          },
          "metadata": {}
        },
        {
          "output_type": "stream",
          "name": "stdout",
          "text": [
            "Dataset common_voice downloaded and prepared to /root/.cache/huggingface/datasets/common_voice/tr-24242e0bc11eddb3/6.1.0/5693bfc0feeade582a78c2fb250bc88f52bd86f0a7f1bb22bfee67e715de30fd. Subsequent calls will reuse this data.\n"
          ]
        }
      ],
      "source": [
        "common_voice_test_transcription = load_dataset(\"common_voice\", \"tr\", data_dir=\"./cv-corpus-6.1-2020-12-11\", split=\"test\")"
      ]
    },
    {
      "cell_type": "markdown",
      "metadata": {
        "id": "epu8kCQZ3h70"
      },
      "source": [
        "\n",
        "Finally, we can decode the example."
      ]
    },
    {
      "cell_type": "code",
      "execution_count": 53,
      "metadata": {
        "id": "K4xWqmk_qMn0",
        "colab": {
          "base_uri": "https://localhost:8080/"
        },
        "outputId": "328586a6-0b67-493f-a377-9b77b58db225"
      },
      "outputs": [
        {
          "output_type": "stream",
          "name": "stdout",
          "text": [
            "Prediction:\n",
            "nejo atajya mu makuba\n",
            "\n",
            "Reference:\n",
            "pek çoğu da roman toplumundan geliyor.\n"
          ]
        }
      ],
      "source": [
        "print(\"Prediction:\")\n",
        "print(processor.decode(pred_ids))\n",
        "\n",
        "print(\"\\nReference:\")\n",
        "print(common_voice_test_transcription[0][\"sentence\"].lower())"
      ]
    },
    {
      "cell_type": "markdown",
      "metadata": {
        "id": "HwhyoMml3oOT"
      },
      "source": [
        "Alright! The transcription can definitely be recognized from our prediction, but it is not perfect yet. Training the model a bit longer, spending more time on the data preprocessing, and especially using a language model for decoding would certainly improve the model's overall performance.\n",
        "\n",
        "For a demonstration model on a low-resource language, the results are quite acceptable however 🤗."
      ]
    }
  ],
  "metadata": {
    "accelerator": "GPU",
    "colab": {
      "collapsed_sections": [],
      "machine_shape": "hm",
      "name": "Fine-Tune XLS-R on Common Voice_Kinyarwanda.ipynb",
      "provenance": []
    },
    "kernelspec": {
      "display_name": "Python 3",
      "name": "python3"
    },
    "widgets": {
      "application/vnd.jupyter.widget-state+json": {
        "0b5d78dbd27743d393e35b51c4ef0807": {
          "model_module": "@jupyter-widgets/controls",
          "model_module_version": "1.5.0",
          "model_name": "HTMLModel",
          "state": {
            "_dom_classes": [],
            "_model_module": "@jupyter-widgets/controls",
            "_model_module_version": "1.5.0",
            "_model_name": "HTMLModel",
            "_view_count": null,
            "_view_module": "@jupyter-widgets/controls",
            "_view_module_version": "1.5.0",
            "_view_name": "HTMLView",
            "description": "",
            "description_tooltip": null,
            "layout": "IPY_MODEL_ae663370a2eb42a3a9d566e4217fcc7b",
            "placeholder": "​",
            "style": "IPY_MODEL_0da7e627c5f640af99f903598243e583",
            "value": " 23.3k/? [00:00&lt;00:00, 724kB/s]"
          }
        },
        "0da7e627c5f640af99f903598243e583": {
          "model_module": "@jupyter-widgets/controls",
          "model_module_version": "1.5.0",
          "model_name": "DescriptionStyleModel",
          "state": {
            "_model_module": "@jupyter-widgets/controls",
            "_model_module_version": "1.5.0",
            "_model_name": "DescriptionStyleModel",
            "_view_count": null,
            "_view_module": "@jupyter-widgets/base",
            "_view_module_version": "1.2.0",
            "_view_name": "StyleView",
            "description_width": ""
          }
        },
        "126f9d26731b4ef0979c8623f7ab04da": {
          "model_module": "@jupyter-widgets/base",
          "model_module_version": "1.2.0",
          "model_name": "LayoutModel",
          "state": {
            "_model_module": "@jupyter-widgets/base",
            "_model_module_version": "1.2.0",
            "_model_name": "LayoutModel",
            "_view_count": null,
            "_view_module": "@jupyter-widgets/base",
            "_view_module_version": "1.2.0",
            "_view_name": "LayoutView",
            "align_content": null,
            "align_items": null,
            "align_self": null,
            "border": null,
            "bottom": null,
            "display": null,
            "flex": null,
            "flex_flow": null,
            "grid_area": null,
            "grid_auto_columns": null,
            "grid_auto_flow": null,
            "grid_auto_rows": null,
            "grid_column": null,
            "grid_gap": null,
            "grid_row": null,
            "grid_template_areas": null,
            "grid_template_columns": null,
            "grid_template_rows": null,
            "height": null,
            "justify_content": null,
            "justify_items": null,
            "left": null,
            "margin": null,
            "max_height": null,
            "max_width": null,
            "min_height": null,
            "min_width": null,
            "object_fit": null,
            "object_position": null,
            "order": null,
            "overflow": null,
            "overflow_x": null,
            "overflow_y": null,
            "padding": null,
            "right": null,
            "top": null,
            "visibility": null,
            "width": null
          }
        },
        "155368436c8b4e488c13056f35df45a0": {
          "model_module": "@jupyter-widgets/controls",
          "model_module_version": "1.5.0",
          "model_name": "HTMLModel",
          "state": {
            "_dom_classes": [],
            "_model_module": "@jupyter-widgets/controls",
            "_model_module_version": "1.5.0",
            "_model_name": "HTMLModel",
            "_view_count": null,
            "_view_module": "@jupyter-widgets/controls",
            "_view_module_version": "1.5.0",
            "_view_name": "HTMLView",
            "description": "",
            "description_tooltip": null,
            "layout": "IPY_MODEL_126f9d26731b4ef0979c8623f7ab04da",
            "placeholder": "​",
            "style": "IPY_MODEL_2f04fcf77e2940d2b90dc0c42f400f32",
            "value": "Downloading: "
          }
        },
        "1601675352024cfd8c4912f5e88a88bb": {
          "model_module": "@jupyter-widgets/controls",
          "model_module_version": "1.5.0",
          "model_name": "HBoxModel",
          "state": {
            "_dom_classes": [],
            "_model_module": "@jupyter-widgets/controls",
            "_model_module_version": "1.5.0",
            "_model_name": "HBoxModel",
            "_view_count": null,
            "_view_module": "@jupyter-widgets/controls",
            "_view_module_version": "1.5.0",
            "_view_name": "HBoxView",
            "box_style": "",
            "children": [
              "IPY_MODEL_1e0e7b8757a742f7a583e2a24bad2cd7",
              "IPY_MODEL_30bca15493dd41e092182fb5e2feaf21",
              "IPY_MODEL_df05c995046546fda4188a70780ffe64"
            ],
            "layout": "IPY_MODEL_221867b6902347eb84d24233824e5d07"
          }
        },
        "16bfab5402464143baa363fbb5585a2c": {
          "model_module": "@jupyter-widgets/controls",
          "model_module_version": "1.5.0",
          "model_name": "FloatProgressModel",
          "state": {
            "_dom_classes": [],
            "_model_module": "@jupyter-widgets/controls",
            "_model_module_version": "1.5.0",
            "_model_name": "FloatProgressModel",
            "_view_count": null,
            "_view_module": "@jupyter-widgets/controls",
            "_view_module_version": "1.5.0",
            "_view_name": "ProgressView",
            "bar_style": "success",
            "description": "",
            "description_tooltip": null,
            "layout": "IPY_MODEL_b2a1cfdba2e9439f8e41c1b5034d240b",
            "max": 4620,
            "min": 0,
            "orientation": "horizontal",
            "style": "IPY_MODEL_f31c3b720f0e43588228c3b15f4a7c23",
            "value": 4620
          }
        },
        "1cc539874c994611aed81b23ee94ce60": {
          "model_module": "@jupyter-widgets/base",
          "model_module_version": "1.2.0",
          "model_name": "LayoutModel",
          "state": {
            "_model_module": "@jupyter-widgets/base",
            "_model_module_version": "1.2.0",
            "_model_name": "LayoutModel",
            "_view_count": null,
            "_view_module": "@jupyter-widgets/base",
            "_view_module_version": "1.2.0",
            "_view_name": "LayoutView",
            "align_content": null,
            "align_items": null,
            "align_self": null,
            "border": null,
            "bottom": null,
            "display": null,
            "flex": null,
            "flex_flow": null,
            "grid_area": null,
            "grid_auto_columns": null,
            "grid_auto_flow": null,
            "grid_auto_rows": null,
            "grid_column": null,
            "grid_gap": null,
            "grid_row": null,
            "grid_template_areas": null,
            "grid_template_columns": null,
            "grid_template_rows": null,
            "height": null,
            "justify_content": null,
            "justify_items": null,
            "left": null,
            "margin": null,
            "max_height": null,
            "max_width": null,
            "min_height": null,
            "min_width": null,
            "object_fit": null,
            "object_position": null,
            "order": null,
            "overflow": null,
            "overflow_x": null,
            "overflow_y": null,
            "padding": null,
            "right": null,
            "top": null,
            "visibility": null,
            "width": null
          }
        },
        "1d8095b6d5ef47148a404c57a7210d4f": {
          "model_module": "@jupyter-widgets/controls",
          "model_module_version": "1.5.0",
          "model_name": "ProgressStyleModel",
          "state": {
            "_model_module": "@jupyter-widgets/controls",
            "_model_module_version": "1.5.0",
            "_model_name": "ProgressStyleModel",
            "_view_count": null,
            "_view_module": "@jupyter-widgets/base",
            "_view_module_version": "1.2.0",
            "_view_name": "StyleView",
            "bar_color": null,
            "description_width": ""
          }
        },
        "1e0e7b8757a742f7a583e2a24bad2cd7": {
          "model_module": "@jupyter-widgets/controls",
          "model_module_version": "1.5.0",
          "model_name": "HTMLModel",
          "state": {
            "_dom_classes": [],
            "_model_module": "@jupyter-widgets/controls",
            "_model_module_version": "1.5.0",
            "_model_name": "HTMLModel",
            "_view_count": null,
            "_view_module": "@jupyter-widgets/controls",
            "_view_module_version": "1.5.0",
            "_view_name": "HTMLView",
            "description": "",
            "description_tooltip": null,
            "layout": "IPY_MODEL_374b72ec112a42d682108e7d35f65497",
            "placeholder": "​",
            "style": "IPY_MODEL_d52d383ccad54e308002c2a612366630",
            "value": "Downloading:   1%"
          }
        },
        "221867b6902347eb84d24233824e5d07": {
          "model_module": "@jupyter-widgets/base",
          "model_module_version": "1.2.0",
          "model_name": "LayoutModel",
          "state": {
            "_model_module": "@jupyter-widgets/base",
            "_model_module_version": "1.2.0",
            "_model_name": "LayoutModel",
            "_view_count": null,
            "_view_module": "@jupyter-widgets/base",
            "_view_module_version": "1.2.0",
            "_view_name": "LayoutView",
            "align_content": null,
            "align_items": null,
            "align_self": null,
            "border": null,
            "bottom": null,
            "display": null,
            "flex": null,
            "flex_flow": null,
            "grid_area": null,
            "grid_auto_columns": null,
            "grid_auto_flow": null,
            "grid_auto_rows": null,
            "grid_column": null,
            "grid_gap": null,
            "grid_row": null,
            "grid_template_areas": null,
            "grid_template_columns": null,
            "grid_template_rows": null,
            "height": null,
            "justify_content": null,
            "justify_items": null,
            "left": null,
            "margin": null,
            "max_height": null,
            "max_width": null,
            "min_height": null,
            "min_width": null,
            "object_fit": null,
            "object_position": null,
            "order": null,
            "overflow": null,
            "overflow_x": null,
            "overflow_y": null,
            "padding": null,
            "right": null,
            "top": null,
            "visibility": null,
            "width": null
          }
        },
        "280c81c762e846ccb22f40e1cf9a5fa6": {
          "model_module": "@jupyter-widgets/base",
          "model_module_version": "1.2.0",
          "model_name": "LayoutModel",
          "state": {
            "_model_module": "@jupyter-widgets/base",
            "_model_module_version": "1.2.0",
            "_model_name": "LayoutModel",
            "_view_count": null,
            "_view_module": "@jupyter-widgets/base",
            "_view_module_version": "1.2.0",
            "_view_name": "LayoutView",
            "align_content": null,
            "align_items": null,
            "align_self": null,
            "border": null,
            "bottom": null,
            "display": null,
            "flex": null,
            "flex_flow": null,
            "grid_area": null,
            "grid_auto_columns": null,
            "grid_auto_flow": null,
            "grid_auto_rows": null,
            "grid_column": null,
            "grid_gap": null,
            "grid_row": null,
            "grid_template_areas": null,
            "grid_template_columns": null,
            "grid_template_rows": null,
            "height": null,
            "justify_content": null,
            "justify_items": null,
            "left": null,
            "margin": null,
            "max_height": null,
            "max_width": null,
            "min_height": null,
            "min_width": null,
            "object_fit": null,
            "object_position": null,
            "order": null,
            "overflow": null,
            "overflow_x": null,
            "overflow_y": null,
            "padding": null,
            "right": null,
            "top": null,
            "visibility": null,
            "width": null
          }
        },
        "2f04fcf77e2940d2b90dc0c42f400f32": {
          "model_module": "@jupyter-widgets/controls",
          "model_module_version": "1.5.0",
          "model_name": "DescriptionStyleModel",
          "state": {
            "_model_module": "@jupyter-widgets/controls",
            "_model_module_version": "1.5.0",
            "_model_name": "DescriptionStyleModel",
            "_view_count": null,
            "_view_module": "@jupyter-widgets/base",
            "_view_module_version": "1.2.0",
            "_view_name": "StyleView",
            "description_width": ""
          }
        },
        "30bca15493dd41e092182fb5e2feaf21": {
          "model_module": "@jupyter-widgets/controls",
          "model_module_version": "1.5.0",
          "model_name": "FloatProgressModel",
          "state": {
            "_dom_classes": [],
            "_model_module": "@jupyter-widgets/controls",
            "_model_module_version": "1.5.0",
            "_model_name": "FloatProgressModel",
            "_view_count": null,
            "_view_module": "@jupyter-widgets/controls",
            "_view_module_version": "1.5.0",
            "_view_name": "ProgressView",
            "bar_style": "",
            "description": "",
            "description_tooltip": null,
            "layout": "IPY_MODEL_1cc539874c994611aed81b23ee94ce60",
            "max": 42545189583,
            "min": 0,
            "orientation": "horizontal",
            "style": "IPY_MODEL_97838765a2b948a7ac9016a0dd6d8113",
            "value": 477309952
          }
        },
        "374b72ec112a42d682108e7d35f65497": {
          "model_module": "@jupyter-widgets/base",
          "model_module_version": "1.2.0",
          "model_name": "LayoutModel",
          "state": {
            "_model_module": "@jupyter-widgets/base",
            "_model_module_version": "1.2.0",
            "_model_name": "LayoutModel",
            "_view_count": null,
            "_view_module": "@jupyter-widgets/base",
            "_view_module_version": "1.2.0",
            "_view_name": "LayoutView",
            "align_content": null,
            "align_items": null,
            "align_self": null,
            "border": null,
            "bottom": null,
            "display": null,
            "flex": null,
            "flex_flow": null,
            "grid_area": null,
            "grid_auto_columns": null,
            "grid_auto_flow": null,
            "grid_auto_rows": null,
            "grid_column": null,
            "grid_gap": null,
            "grid_row": null,
            "grid_template_areas": null,
            "grid_template_columns": null,
            "grid_template_rows": null,
            "height": null,
            "justify_content": null,
            "justify_items": null,
            "left": null,
            "margin": null,
            "max_height": null,
            "max_width": null,
            "min_height": null,
            "min_width": null,
            "object_fit": null,
            "object_position": null,
            "order": null,
            "overflow": null,
            "overflow_x": null,
            "overflow_y": null,
            "padding": null,
            "right": null,
            "top": null,
            "visibility": null,
            "width": null
          }
        },
        "412fc94db92e44e8a8a8c99dc5c663fc": {
          "model_module": "@jupyter-widgets/controls",
          "model_module_version": "1.5.0",
          "model_name": "DescriptionStyleModel",
          "state": {
            "_model_module": "@jupyter-widgets/controls",
            "_model_module_version": "1.5.0",
            "_model_name": "DescriptionStyleModel",
            "_view_count": null,
            "_view_module": "@jupyter-widgets/base",
            "_view_module_version": "1.2.0",
            "_view_name": "StyleView",
            "description_width": ""
          }
        },
        "475d9cfa2c1845c38214c8cf14eeb355": {
          "model_module": "@jupyter-widgets/controls",
          "model_module_version": "1.5.0",
          "model_name": "HTMLModel",
          "state": {
            "_dom_classes": [],
            "_model_module": "@jupyter-widgets/controls",
            "_model_module_version": "1.5.0",
            "_model_name": "HTMLModel",
            "_view_count": null,
            "_view_module": "@jupyter-widgets/controls",
            "_view_module_version": "1.5.0",
            "_view_name": "HTMLView",
            "description": "",
            "description_tooltip": null,
            "layout": "IPY_MODEL_a1499881ea1f467b8f66e563ff6cfa92",
            "placeholder": "​",
            "style": "IPY_MODEL_63388ce18d844ff8b7e3e9bfa8653e32",
            "value": " 168k/? [00:00&lt;00:00, 5.33MB/s]"
          }
        },
        "63388ce18d844ff8b7e3e9bfa8653e32": {
          "model_module": "@jupyter-widgets/controls",
          "model_module_version": "1.5.0",
          "model_name": "DescriptionStyleModel",
          "state": {
            "_model_module": "@jupyter-widgets/controls",
            "_model_module_version": "1.5.0",
            "_model_name": "DescriptionStyleModel",
            "_view_count": null,
            "_view_module": "@jupyter-widgets/base",
            "_view_module_version": "1.2.0",
            "_view_name": "StyleView",
            "description_width": ""
          }
        },
        "7769e280b4a94f109deb590376f74ad2": {
          "model_module": "@jupyter-widgets/base",
          "model_module_version": "1.2.0",
          "model_name": "LayoutModel",
          "state": {
            "_model_module": "@jupyter-widgets/base",
            "_model_module_version": "1.2.0",
            "_model_name": "LayoutModel",
            "_view_count": null,
            "_view_module": "@jupyter-widgets/base",
            "_view_module_version": "1.2.0",
            "_view_name": "LayoutView",
            "align_content": null,
            "align_items": null,
            "align_self": null,
            "border": null,
            "bottom": null,
            "display": null,
            "flex": null,
            "flex_flow": null,
            "grid_area": null,
            "grid_auto_columns": null,
            "grid_auto_flow": null,
            "grid_auto_rows": null,
            "grid_column": null,
            "grid_gap": null,
            "grid_row": null,
            "grid_template_areas": null,
            "grid_template_columns": null,
            "grid_template_rows": null,
            "height": null,
            "justify_content": null,
            "justify_items": null,
            "left": null,
            "margin": null,
            "max_height": null,
            "max_width": null,
            "min_height": null,
            "min_width": null,
            "object_fit": null,
            "object_position": null,
            "order": null,
            "overflow": null,
            "overflow_x": null,
            "overflow_y": null,
            "padding": null,
            "right": null,
            "top": null,
            "visibility": null,
            "width": null
          }
        },
        "7a56892a4eb74da198e2d5b4cff2d666": {
          "model_module": "@jupyter-widgets/controls",
          "model_module_version": "1.5.0",
          "model_name": "HTMLModel",
          "state": {
            "_dom_classes": [],
            "_model_module": "@jupyter-widgets/controls",
            "_model_module_version": "1.5.0",
            "_model_name": "HTMLModel",
            "_view_count": null,
            "_view_module": "@jupyter-widgets/controls",
            "_view_module_version": "1.5.0",
            "_view_name": "HTMLView",
            "description": "",
            "description_tooltip": null,
            "layout": "IPY_MODEL_afa4b36937944f12a206a0175aac7eec",
            "placeholder": "​",
            "style": "IPY_MODEL_c7844dead6c44042a21646455012e7a3",
            "value": "Downloading: "
          }
        },
        "8bfe1e3231394561b407aaf560d6bcbf": {
          "model_module": "@jupyter-widgets/controls",
          "model_module_version": "1.5.0",
          "model_name": "HBoxModel",
          "state": {
            "_dom_classes": [],
            "_model_module": "@jupyter-widgets/controls",
            "_model_module_version": "1.5.0",
            "_model_name": "HBoxModel",
            "_view_count": null,
            "_view_module": "@jupyter-widgets/controls",
            "_view_module_version": "1.5.0",
            "_view_name": "HBoxView",
            "box_style": "",
            "children": [
              "IPY_MODEL_7a56892a4eb74da198e2d5b4cff2d666",
              "IPY_MODEL_e1799a319df24ce0aa47e2cf4b44dd58",
              "IPY_MODEL_475d9cfa2c1845c38214c8cf14eeb355"
            ],
            "layout": "IPY_MODEL_7769e280b4a94f109deb590376f74ad2"
          }
        },
        "97838765a2b948a7ac9016a0dd6d8113": {
          "model_module": "@jupyter-widgets/controls",
          "model_module_version": "1.5.0",
          "model_name": "ProgressStyleModel",
          "state": {
            "_model_module": "@jupyter-widgets/controls",
            "_model_module_version": "1.5.0",
            "_model_name": "ProgressStyleModel",
            "_view_count": null,
            "_view_module": "@jupyter-widgets/base",
            "_view_module_version": "1.2.0",
            "_view_name": "StyleView",
            "bar_color": null,
            "description_width": ""
          }
        },
        "a1499881ea1f467b8f66e563ff6cfa92": {
          "model_module": "@jupyter-widgets/base",
          "model_module_version": "1.2.0",
          "model_name": "LayoutModel",
          "state": {
            "_model_module": "@jupyter-widgets/base",
            "_model_module_version": "1.2.0",
            "_model_name": "LayoutModel",
            "_view_count": null,
            "_view_module": "@jupyter-widgets/base",
            "_view_module_version": "1.2.0",
            "_view_name": "LayoutView",
            "align_content": null,
            "align_items": null,
            "align_self": null,
            "border": null,
            "bottom": null,
            "display": null,
            "flex": null,
            "flex_flow": null,
            "grid_area": null,
            "grid_auto_columns": null,
            "grid_auto_flow": null,
            "grid_auto_rows": null,
            "grid_column": null,
            "grid_gap": null,
            "grid_row": null,
            "grid_template_areas": null,
            "grid_template_columns": null,
            "grid_template_rows": null,
            "height": null,
            "justify_content": null,
            "justify_items": null,
            "left": null,
            "margin": null,
            "max_height": null,
            "max_width": null,
            "min_height": null,
            "min_width": null,
            "object_fit": null,
            "object_position": null,
            "order": null,
            "overflow": null,
            "overflow_x": null,
            "overflow_y": null,
            "padding": null,
            "right": null,
            "top": null,
            "visibility": null,
            "width": null
          }
        },
        "ae663370a2eb42a3a9d566e4217fcc7b": {
          "model_module": "@jupyter-widgets/base",
          "model_module_version": "1.2.0",
          "model_name": "LayoutModel",
          "state": {
            "_model_module": "@jupyter-widgets/base",
            "_model_module_version": "1.2.0",
            "_model_name": "LayoutModel",
            "_view_count": null,
            "_view_module": "@jupyter-widgets/base",
            "_view_module_version": "1.2.0",
            "_view_name": "LayoutView",
            "align_content": null,
            "align_items": null,
            "align_self": null,
            "border": null,
            "bottom": null,
            "display": null,
            "flex": null,
            "flex_flow": null,
            "grid_area": null,
            "grid_auto_columns": null,
            "grid_auto_flow": null,
            "grid_auto_rows": null,
            "grid_column": null,
            "grid_gap": null,
            "grid_row": null,
            "grid_template_areas": null,
            "grid_template_columns": null,
            "grid_template_rows": null,
            "height": null,
            "justify_content": null,
            "justify_items": null,
            "left": null,
            "margin": null,
            "max_height": null,
            "max_width": null,
            "min_height": null,
            "min_width": null,
            "object_fit": null,
            "object_position": null,
            "order": null,
            "overflow": null,
            "overflow_x": null,
            "overflow_y": null,
            "padding": null,
            "right": null,
            "top": null,
            "visibility": null,
            "width": null
          }
        },
        "afa4b36937944f12a206a0175aac7eec": {
          "model_module": "@jupyter-widgets/base",
          "model_module_version": "1.2.0",
          "model_name": "LayoutModel",
          "state": {
            "_model_module": "@jupyter-widgets/base",
            "_model_module_version": "1.2.0",
            "_model_name": "LayoutModel",
            "_view_count": null,
            "_view_module": "@jupyter-widgets/base",
            "_view_module_version": "1.2.0",
            "_view_name": "LayoutView",
            "align_content": null,
            "align_items": null,
            "align_self": null,
            "border": null,
            "bottom": null,
            "display": null,
            "flex": null,
            "flex_flow": null,
            "grid_area": null,
            "grid_auto_columns": null,
            "grid_auto_flow": null,
            "grid_auto_rows": null,
            "grid_column": null,
            "grid_gap": null,
            "grid_row": null,
            "grid_template_areas": null,
            "grid_template_columns": null,
            "grid_template_rows": null,
            "height": null,
            "justify_content": null,
            "justify_items": null,
            "left": null,
            "margin": null,
            "max_height": null,
            "max_width": null,
            "min_height": null,
            "min_width": null,
            "object_fit": null,
            "object_position": null,
            "order": null,
            "overflow": null,
            "overflow_x": null,
            "overflow_y": null,
            "padding": null,
            "right": null,
            "top": null,
            "visibility": null,
            "width": null
          }
        },
        "b2a1cfdba2e9439f8e41c1b5034d240b": {
          "model_module": "@jupyter-widgets/base",
          "model_module_version": "1.2.0",
          "model_name": "LayoutModel",
          "state": {
            "_model_module": "@jupyter-widgets/base",
            "_model_module_version": "1.2.0",
            "_model_name": "LayoutModel",
            "_view_count": null,
            "_view_module": "@jupyter-widgets/base",
            "_view_module_version": "1.2.0",
            "_view_name": "LayoutView",
            "align_content": null,
            "align_items": null,
            "align_self": null,
            "border": null,
            "bottom": null,
            "display": null,
            "flex": null,
            "flex_flow": null,
            "grid_area": null,
            "grid_auto_columns": null,
            "grid_auto_flow": null,
            "grid_auto_rows": null,
            "grid_column": null,
            "grid_gap": null,
            "grid_row": null,
            "grid_template_areas": null,
            "grid_template_columns": null,
            "grid_template_rows": null,
            "height": null,
            "justify_content": null,
            "justify_items": null,
            "left": null,
            "margin": null,
            "max_height": null,
            "max_width": null,
            "min_height": null,
            "min_width": null,
            "object_fit": null,
            "object_position": null,
            "order": null,
            "overflow": null,
            "overflow_x": null,
            "overflow_y": null,
            "padding": null,
            "right": null,
            "top": null,
            "visibility": null,
            "width": null
          }
        },
        "c7844dead6c44042a21646455012e7a3": {
          "model_module": "@jupyter-widgets/controls",
          "model_module_version": "1.5.0",
          "model_name": "DescriptionStyleModel",
          "state": {
            "_model_module": "@jupyter-widgets/controls",
            "_model_module_version": "1.5.0",
            "_model_name": "DescriptionStyleModel",
            "_view_count": null,
            "_view_module": "@jupyter-widgets/base",
            "_view_module_version": "1.2.0",
            "_view_name": "StyleView",
            "description_width": ""
          }
        },
        "d52d383ccad54e308002c2a612366630": {
          "model_module": "@jupyter-widgets/controls",
          "model_module_version": "1.5.0",
          "model_name": "DescriptionStyleModel",
          "state": {
            "_model_module": "@jupyter-widgets/controls",
            "_model_module_version": "1.5.0",
            "_model_name": "DescriptionStyleModel",
            "_view_count": null,
            "_view_module": "@jupyter-widgets/base",
            "_view_module_version": "1.2.0",
            "_view_name": "StyleView",
            "description_width": ""
          }
        },
        "da6e267d22d84481af0da1ab1976fda4": {
          "model_module": "@jupyter-widgets/base",
          "model_module_version": "1.2.0",
          "model_name": "LayoutModel",
          "state": {
            "_model_module": "@jupyter-widgets/base",
            "_model_module_version": "1.2.0",
            "_model_name": "LayoutModel",
            "_view_count": null,
            "_view_module": "@jupyter-widgets/base",
            "_view_module_version": "1.2.0",
            "_view_name": "LayoutView",
            "align_content": null,
            "align_items": null,
            "align_self": null,
            "border": null,
            "bottom": null,
            "display": null,
            "flex": null,
            "flex_flow": null,
            "grid_area": null,
            "grid_auto_columns": null,
            "grid_auto_flow": null,
            "grid_auto_rows": null,
            "grid_column": null,
            "grid_gap": null,
            "grid_row": null,
            "grid_template_areas": null,
            "grid_template_columns": null,
            "grid_template_rows": null,
            "height": null,
            "justify_content": null,
            "justify_items": null,
            "left": null,
            "margin": null,
            "max_height": null,
            "max_width": null,
            "min_height": null,
            "min_width": null,
            "object_fit": null,
            "object_position": null,
            "order": null,
            "overflow": null,
            "overflow_x": null,
            "overflow_y": null,
            "padding": null,
            "right": null,
            "top": null,
            "visibility": null,
            "width": null
          }
        },
        "df05c995046546fda4188a70780ffe64": {
          "model_module": "@jupyter-widgets/controls",
          "model_module_version": "1.5.0",
          "model_name": "HTMLModel",
          "state": {
            "_dom_classes": [],
            "_model_module": "@jupyter-widgets/controls",
            "_model_module_version": "1.5.0",
            "_model_name": "HTMLModel",
            "_view_count": null,
            "_view_module": "@jupyter-widgets/controls",
            "_view_module_version": "1.5.0",
            "_view_name": "HTMLView",
            "description": "",
            "description_tooltip": null,
            "layout": "IPY_MODEL_280c81c762e846ccb22f40e1cf9a5fa6",
            "placeholder": "​",
            "style": "IPY_MODEL_412fc94db92e44e8a8a8c99dc5c663fc",
            "value": " 477M/42.5G [00:34&lt;43:09, 16.2MB/s]"
          }
        },
        "e1799a319df24ce0aa47e2cf4b44dd58": {
          "model_module": "@jupyter-widgets/controls",
          "model_module_version": "1.5.0",
          "model_name": "FloatProgressModel",
          "state": {
            "_dom_classes": [],
            "_model_module": "@jupyter-widgets/controls",
            "_model_module_version": "1.5.0",
            "_model_name": "FloatProgressModel",
            "_view_count": null,
            "_view_module": "@jupyter-widgets/controls",
            "_view_module_version": "1.5.0",
            "_view_name": "ProgressView",
            "bar_style": "success",
            "description": "",
            "description_tooltip": null,
            "layout": "IPY_MODEL_da6e267d22d84481af0da1ab1976fda4",
            "max": 10657,
            "min": 0,
            "orientation": "horizontal",
            "style": "IPY_MODEL_1d8095b6d5ef47148a404c57a7210d4f",
            "value": 10657
          }
        },
        "e1e2d4e71e814b7090cecc3bed098406": {
          "model_module": "@jupyter-widgets/controls",
          "model_module_version": "1.5.0",
          "model_name": "HBoxModel",
          "state": {
            "_dom_classes": [],
            "_model_module": "@jupyter-widgets/controls",
            "_model_module_version": "1.5.0",
            "_model_name": "HBoxModel",
            "_view_count": null,
            "_view_module": "@jupyter-widgets/controls",
            "_view_module_version": "1.5.0",
            "_view_name": "HBoxView",
            "box_style": "",
            "children": [
              "IPY_MODEL_155368436c8b4e488c13056f35df45a0",
              "IPY_MODEL_16bfab5402464143baa363fbb5585a2c",
              "IPY_MODEL_0b5d78dbd27743d393e35b51c4ef0807"
            ],
            "layout": "IPY_MODEL_eb7b8b3afcb448a49c826a9fdb8cafbb"
          }
        },
        "eb7b8b3afcb448a49c826a9fdb8cafbb": {
          "model_module": "@jupyter-widgets/base",
          "model_module_version": "1.2.0",
          "model_name": "LayoutModel",
          "state": {
            "_model_module": "@jupyter-widgets/base",
            "_model_module_version": "1.2.0",
            "_model_name": "LayoutModel",
            "_view_count": null,
            "_view_module": "@jupyter-widgets/base",
            "_view_module_version": "1.2.0",
            "_view_name": "LayoutView",
            "align_content": null,
            "align_items": null,
            "align_self": null,
            "border": null,
            "bottom": null,
            "display": null,
            "flex": null,
            "flex_flow": null,
            "grid_area": null,
            "grid_auto_columns": null,
            "grid_auto_flow": null,
            "grid_auto_rows": null,
            "grid_column": null,
            "grid_gap": null,
            "grid_row": null,
            "grid_template_areas": null,
            "grid_template_columns": null,
            "grid_template_rows": null,
            "height": null,
            "justify_content": null,
            "justify_items": null,
            "left": null,
            "margin": null,
            "max_height": null,
            "max_width": null,
            "min_height": null,
            "min_width": null,
            "object_fit": null,
            "object_position": null,
            "order": null,
            "overflow": null,
            "overflow_x": null,
            "overflow_y": null,
            "padding": null,
            "right": null,
            "top": null,
            "visibility": null,
            "width": null
          }
        },
        "f31c3b720f0e43588228c3b15f4a7c23": {
          "model_module": "@jupyter-widgets/controls",
          "model_module_version": "1.5.0",
          "model_name": "ProgressStyleModel",
          "state": {
            "_model_module": "@jupyter-widgets/controls",
            "_model_module_version": "1.5.0",
            "_model_name": "ProgressStyleModel",
            "_view_count": null,
            "_view_module": "@jupyter-widgets/base",
            "_view_module_version": "1.2.0",
            "_view_name": "StyleView",
            "bar_color": null,
            "description_width": ""
          }
        },
        "9152bec5d0bc4c5185f08eec06e3062a": {
          "model_module": "@jupyter-widgets/controls",
          "model_name": "HBoxModel",
          "model_module_version": "1.5.0",
          "state": {
            "_dom_classes": [],
            "_model_module": "@jupyter-widgets/controls",
            "_model_module_version": "1.5.0",
            "_model_name": "HBoxModel",
            "_view_count": null,
            "_view_module": "@jupyter-widgets/controls",
            "_view_module_version": "1.5.0",
            "_view_name": "HBoxView",
            "box_style": "",
            "children": [
              "IPY_MODEL_61390a789d394014995c93c53de1caad",
              "IPY_MODEL_db648a46b1514a39a7fef4be39957d23",
              "IPY_MODEL_b40a753146354964a3822d6df9e6310d"
            ],
            "layout": "IPY_MODEL_3b83680917684e5eb7c7b7067b52ba94"
          }
        },
        "61390a789d394014995c93c53de1caad": {
          "model_module": "@jupyter-widgets/controls",
          "model_name": "HTMLModel",
          "model_module_version": "1.5.0",
          "state": {
            "_dom_classes": [],
            "_model_module": "@jupyter-widgets/controls",
            "_model_module_version": "1.5.0",
            "_model_name": "HTMLModel",
            "_view_count": null,
            "_view_module": "@jupyter-widgets/controls",
            "_view_module_version": "1.5.0",
            "_view_name": "HTMLView",
            "description": "",
            "description_tooltip": null,
            "layout": "IPY_MODEL_750d379a1bf74878ab4d159c339d83a7",
            "placeholder": "​",
            "style": "IPY_MODEL_d8798dfcac084177a098cbc0c45bab5b",
            "value": ""
          }
        },
        "db648a46b1514a39a7fef4be39957d23": {
          "model_module": "@jupyter-widgets/controls",
          "model_name": "FloatProgressModel",
          "model_module_version": "1.5.0",
          "state": {
            "_dom_classes": [],
            "_model_module": "@jupyter-widgets/controls",
            "_model_module_version": "1.5.0",
            "_model_name": "FloatProgressModel",
            "_view_count": null,
            "_view_module": "@jupyter-widgets/controls",
            "_view_module_version": "1.5.0",
            "_view_name": "ProgressView",
            "bar_style": "success",
            "description": "",
            "description_tooltip": null,
            "layout": "IPY_MODEL_dcd53c71fc274d20a95c822c376b59bf",
            "max": 1,
            "min": 0,
            "orientation": "horizontal",
            "style": "IPY_MODEL_a980bad5515e4df1aa0242a4f83055f4",
            "value": 1
          }
        },
        "b40a753146354964a3822d6df9e6310d": {
          "model_module": "@jupyter-widgets/controls",
          "model_name": "HTMLModel",
          "model_module_version": "1.5.0",
          "state": {
            "_dom_classes": [],
            "_model_module": "@jupyter-widgets/controls",
            "_model_module_version": "1.5.0",
            "_model_name": "HTMLModel",
            "_view_count": null,
            "_view_module": "@jupyter-widgets/controls",
            "_view_module_version": "1.5.0",
            "_view_name": "HTMLView",
            "description": "",
            "description_tooltip": null,
            "layout": "IPY_MODEL_58db9d575f2345ffb7b08fd594360d46",
            "placeholder": "​",
            "style": "IPY_MODEL_daf01c05718048be8ef0030dd5cda3d8",
            "value": " 87584/? [19:47&lt;00:00, 88.55ex/s]"
          }
        },
        "3b83680917684e5eb7c7b7067b52ba94": {
          "model_module": "@jupyter-widgets/base",
          "model_name": "LayoutModel",
          "model_module_version": "1.2.0",
          "state": {
            "_model_module": "@jupyter-widgets/base",
            "_model_module_version": "1.2.0",
            "_model_name": "LayoutModel",
            "_view_count": null,
            "_view_module": "@jupyter-widgets/base",
            "_view_module_version": "1.2.0",
            "_view_name": "LayoutView",
            "align_content": null,
            "align_items": null,
            "align_self": null,
            "border": null,
            "bottom": null,
            "display": null,
            "flex": null,
            "flex_flow": null,
            "grid_area": null,
            "grid_auto_columns": null,
            "grid_auto_flow": null,
            "grid_auto_rows": null,
            "grid_column": null,
            "grid_gap": null,
            "grid_row": null,
            "grid_template_areas": null,
            "grid_template_columns": null,
            "grid_template_rows": null,
            "height": null,
            "justify_content": null,
            "justify_items": null,
            "left": null,
            "margin": null,
            "max_height": null,
            "max_width": null,
            "min_height": null,
            "min_width": null,
            "object_fit": null,
            "object_position": null,
            "order": null,
            "overflow": null,
            "overflow_x": null,
            "overflow_y": null,
            "padding": null,
            "right": null,
            "top": null,
            "visibility": null,
            "width": null
          }
        },
        "750d379a1bf74878ab4d159c339d83a7": {
          "model_module": "@jupyter-widgets/base",
          "model_name": "LayoutModel",
          "model_module_version": "1.2.0",
          "state": {
            "_model_module": "@jupyter-widgets/base",
            "_model_module_version": "1.2.0",
            "_model_name": "LayoutModel",
            "_view_count": null,
            "_view_module": "@jupyter-widgets/base",
            "_view_module_version": "1.2.0",
            "_view_name": "LayoutView",
            "align_content": null,
            "align_items": null,
            "align_self": null,
            "border": null,
            "bottom": null,
            "display": null,
            "flex": null,
            "flex_flow": null,
            "grid_area": null,
            "grid_auto_columns": null,
            "grid_auto_flow": null,
            "grid_auto_rows": null,
            "grid_column": null,
            "grid_gap": null,
            "grid_row": null,
            "grid_template_areas": null,
            "grid_template_columns": null,
            "grid_template_rows": null,
            "height": null,
            "justify_content": null,
            "justify_items": null,
            "left": null,
            "margin": null,
            "max_height": null,
            "max_width": null,
            "min_height": null,
            "min_width": null,
            "object_fit": null,
            "object_position": null,
            "order": null,
            "overflow": null,
            "overflow_x": null,
            "overflow_y": null,
            "padding": null,
            "right": null,
            "top": null,
            "visibility": null,
            "width": null
          }
        },
        "d8798dfcac084177a098cbc0c45bab5b": {
          "model_module": "@jupyter-widgets/controls",
          "model_name": "DescriptionStyleModel",
          "model_module_version": "1.5.0",
          "state": {
            "_model_module": "@jupyter-widgets/controls",
            "_model_module_version": "1.5.0",
            "_model_name": "DescriptionStyleModel",
            "_view_count": null,
            "_view_module": "@jupyter-widgets/base",
            "_view_module_version": "1.2.0",
            "_view_name": "StyleView",
            "description_width": ""
          }
        },
        "dcd53c71fc274d20a95c822c376b59bf": {
          "model_module": "@jupyter-widgets/base",
          "model_name": "LayoutModel",
          "model_module_version": "1.2.0",
          "state": {
            "_model_module": "@jupyter-widgets/base",
            "_model_module_version": "1.2.0",
            "_model_name": "LayoutModel",
            "_view_count": null,
            "_view_module": "@jupyter-widgets/base",
            "_view_module_version": "1.2.0",
            "_view_name": "LayoutView",
            "align_content": null,
            "align_items": null,
            "align_self": null,
            "border": null,
            "bottom": null,
            "display": null,
            "flex": null,
            "flex_flow": null,
            "grid_area": null,
            "grid_auto_columns": null,
            "grid_auto_flow": null,
            "grid_auto_rows": null,
            "grid_column": null,
            "grid_gap": null,
            "grid_row": null,
            "grid_template_areas": null,
            "grid_template_columns": null,
            "grid_template_rows": null,
            "height": null,
            "justify_content": null,
            "justify_items": null,
            "left": null,
            "margin": null,
            "max_height": null,
            "max_width": null,
            "min_height": null,
            "min_width": null,
            "object_fit": null,
            "object_position": null,
            "order": null,
            "overflow": null,
            "overflow_x": null,
            "overflow_y": null,
            "padding": null,
            "right": null,
            "top": null,
            "visibility": null,
            "width": "20px"
          }
        },
        "a980bad5515e4df1aa0242a4f83055f4": {
          "model_module": "@jupyter-widgets/controls",
          "model_name": "ProgressStyleModel",
          "model_module_version": "1.5.0",
          "state": {
            "_model_module": "@jupyter-widgets/controls",
            "_model_module_version": "1.5.0",
            "_model_name": "ProgressStyleModel",
            "_view_count": null,
            "_view_module": "@jupyter-widgets/base",
            "_view_module_version": "1.2.0",
            "_view_name": "StyleView",
            "bar_color": null,
            "description_width": ""
          }
        },
        "58db9d575f2345ffb7b08fd594360d46": {
          "model_module": "@jupyter-widgets/base",
          "model_name": "LayoutModel",
          "model_module_version": "1.2.0",
          "state": {
            "_model_module": "@jupyter-widgets/base",
            "_model_module_version": "1.2.0",
            "_model_name": "LayoutModel",
            "_view_count": null,
            "_view_module": "@jupyter-widgets/base",
            "_view_module_version": "1.2.0",
            "_view_name": "LayoutView",
            "align_content": null,
            "align_items": null,
            "align_self": null,
            "border": null,
            "bottom": null,
            "display": null,
            "flex": null,
            "flex_flow": null,
            "grid_area": null,
            "grid_auto_columns": null,
            "grid_auto_flow": null,
            "grid_auto_rows": null,
            "grid_column": null,
            "grid_gap": null,
            "grid_row": null,
            "grid_template_areas": null,
            "grid_template_columns": null,
            "grid_template_rows": null,
            "height": null,
            "justify_content": null,
            "justify_items": null,
            "left": null,
            "margin": null,
            "max_height": null,
            "max_width": null,
            "min_height": null,
            "min_width": null,
            "object_fit": null,
            "object_position": null,
            "order": null,
            "overflow": null,
            "overflow_x": null,
            "overflow_y": null,
            "padding": null,
            "right": null,
            "top": null,
            "visibility": null,
            "width": null
          }
        },
        "daf01c05718048be8ef0030dd5cda3d8": {
          "model_module": "@jupyter-widgets/controls",
          "model_name": "DescriptionStyleModel",
          "model_module_version": "1.5.0",
          "state": {
            "_model_module": "@jupyter-widgets/controls",
            "_model_module_version": "1.5.0",
            "_model_name": "DescriptionStyleModel",
            "_view_count": null,
            "_view_module": "@jupyter-widgets/base",
            "_view_module_version": "1.2.0",
            "_view_name": "StyleView",
            "description_width": ""
          }
        },
        "834f7be593bd489f96e446ca7569bd98": {
          "model_module": "@jupyter-widgets/controls",
          "model_name": "HBoxModel",
          "model_module_version": "1.5.0",
          "state": {
            "_dom_classes": [],
            "_model_module": "@jupyter-widgets/controls",
            "_model_module_version": "1.5.0",
            "_model_name": "HBoxModel",
            "_view_count": null,
            "_view_module": "@jupyter-widgets/controls",
            "_view_module_version": "1.5.0",
            "_view_name": "HBoxView",
            "box_style": "",
            "children": [
              "IPY_MODEL_2e959f1d79094f4db715cc7b993e1a1b",
              "IPY_MODEL_46f2ef6608fd49ec8b0ccc64dfff5eaf",
              "IPY_MODEL_0f09ebaadd5c47fbb523664e0a760617"
            ],
            "layout": "IPY_MODEL_f2231d80c4814fe6947101ae3e6cae94"
          }
        },
        "2e959f1d79094f4db715cc7b993e1a1b": {
          "model_module": "@jupyter-widgets/controls",
          "model_name": "HTMLModel",
          "model_module_version": "1.5.0",
          "state": {
            "_dom_classes": [],
            "_model_module": "@jupyter-widgets/controls",
            "_model_module_version": "1.5.0",
            "_model_name": "HTMLModel",
            "_view_count": null,
            "_view_module": "@jupyter-widgets/controls",
            "_view_module_version": "1.5.0",
            "_view_name": "HTMLView",
            "description": "",
            "description_tooltip": null,
            "layout": "IPY_MODEL_ed7d5affcfaf4b80a93b7daadad37769",
            "placeholder": "​",
            "style": "IPY_MODEL_8026340c5bdf430c895c29ce4abd1a25",
            "value": ""
          }
        },
        "46f2ef6608fd49ec8b0ccc64dfff5eaf": {
          "model_module": "@jupyter-widgets/controls",
          "model_name": "FloatProgressModel",
          "model_module_version": "1.5.0",
          "state": {
            "_dom_classes": [],
            "_model_module": "@jupyter-widgets/controls",
            "_model_module_version": "1.5.0",
            "_model_name": "FloatProgressModel",
            "_view_count": null,
            "_view_module": "@jupyter-widgets/controls",
            "_view_module_version": "1.5.0",
            "_view_name": "ProgressView",
            "bar_style": "success",
            "description": "",
            "description_tooltip": null,
            "layout": "IPY_MODEL_403af7b61da041ffb7e075d8450dcc4f",
            "max": 1,
            "min": 0,
            "orientation": "horizontal",
            "style": "IPY_MODEL_a6b50afce3c24f41a3eaa83f08bd5b7f",
            "value": 1
          }
        },
        "0f09ebaadd5c47fbb523664e0a760617": {
          "model_module": "@jupyter-widgets/controls",
          "model_name": "HTMLModel",
          "model_module_version": "1.5.0",
          "state": {
            "_dom_classes": [],
            "_model_module": "@jupyter-widgets/controls",
            "_model_module_version": "1.5.0",
            "_model_name": "HTMLModel",
            "_view_count": null,
            "_view_module": "@jupyter-widgets/controls",
            "_view_module_version": "1.5.0",
            "_view_name": "HTMLView",
            "description": "",
            "description_tooltip": null,
            "layout": "IPY_MODEL_cb2314236120425093af0e4230b45ac5",
            "placeholder": "​",
            "style": "IPY_MODEL_714674c403a4449a88a552840342e07e",
            "value": " 3145/? [00:49&lt;00:00, 61.15ex/s]"
          }
        },
        "f2231d80c4814fe6947101ae3e6cae94": {
          "model_module": "@jupyter-widgets/base",
          "model_name": "LayoutModel",
          "model_module_version": "1.2.0",
          "state": {
            "_model_module": "@jupyter-widgets/base",
            "_model_module_version": "1.2.0",
            "_model_name": "LayoutModel",
            "_view_count": null,
            "_view_module": "@jupyter-widgets/base",
            "_view_module_version": "1.2.0",
            "_view_name": "LayoutView",
            "align_content": null,
            "align_items": null,
            "align_self": null,
            "border": null,
            "bottom": null,
            "display": null,
            "flex": null,
            "flex_flow": null,
            "grid_area": null,
            "grid_auto_columns": null,
            "grid_auto_flow": null,
            "grid_auto_rows": null,
            "grid_column": null,
            "grid_gap": null,
            "grid_row": null,
            "grid_template_areas": null,
            "grid_template_columns": null,
            "grid_template_rows": null,
            "height": null,
            "justify_content": null,
            "justify_items": null,
            "left": null,
            "margin": null,
            "max_height": null,
            "max_width": null,
            "min_height": null,
            "min_width": null,
            "object_fit": null,
            "object_position": null,
            "order": null,
            "overflow": null,
            "overflow_x": null,
            "overflow_y": null,
            "padding": null,
            "right": null,
            "top": null,
            "visibility": null,
            "width": null
          }
        },
        "ed7d5affcfaf4b80a93b7daadad37769": {
          "model_module": "@jupyter-widgets/base",
          "model_name": "LayoutModel",
          "model_module_version": "1.2.0",
          "state": {
            "_model_module": "@jupyter-widgets/base",
            "_model_module_version": "1.2.0",
            "_model_name": "LayoutModel",
            "_view_count": null,
            "_view_module": "@jupyter-widgets/base",
            "_view_module_version": "1.2.0",
            "_view_name": "LayoutView",
            "align_content": null,
            "align_items": null,
            "align_self": null,
            "border": null,
            "bottom": null,
            "display": null,
            "flex": null,
            "flex_flow": null,
            "grid_area": null,
            "grid_auto_columns": null,
            "grid_auto_flow": null,
            "grid_auto_rows": null,
            "grid_column": null,
            "grid_gap": null,
            "grid_row": null,
            "grid_template_areas": null,
            "grid_template_columns": null,
            "grid_template_rows": null,
            "height": null,
            "justify_content": null,
            "justify_items": null,
            "left": null,
            "margin": null,
            "max_height": null,
            "max_width": null,
            "min_height": null,
            "min_width": null,
            "object_fit": null,
            "object_position": null,
            "order": null,
            "overflow": null,
            "overflow_x": null,
            "overflow_y": null,
            "padding": null,
            "right": null,
            "top": null,
            "visibility": null,
            "width": null
          }
        },
        "8026340c5bdf430c895c29ce4abd1a25": {
          "model_module": "@jupyter-widgets/controls",
          "model_name": "DescriptionStyleModel",
          "model_module_version": "1.5.0",
          "state": {
            "_model_module": "@jupyter-widgets/controls",
            "_model_module_version": "1.5.0",
            "_model_name": "DescriptionStyleModel",
            "_view_count": null,
            "_view_module": "@jupyter-widgets/base",
            "_view_module_version": "1.2.0",
            "_view_name": "StyleView",
            "description_width": ""
          }
        },
        "403af7b61da041ffb7e075d8450dcc4f": {
          "model_module": "@jupyter-widgets/base",
          "model_name": "LayoutModel",
          "model_module_version": "1.2.0",
          "state": {
            "_model_module": "@jupyter-widgets/base",
            "_model_module_version": "1.2.0",
            "_model_name": "LayoutModel",
            "_view_count": null,
            "_view_module": "@jupyter-widgets/base",
            "_view_module_version": "1.2.0",
            "_view_name": "LayoutView",
            "align_content": null,
            "align_items": null,
            "align_self": null,
            "border": null,
            "bottom": null,
            "display": null,
            "flex": null,
            "flex_flow": null,
            "grid_area": null,
            "grid_auto_columns": null,
            "grid_auto_flow": null,
            "grid_auto_rows": null,
            "grid_column": null,
            "grid_gap": null,
            "grid_row": null,
            "grid_template_areas": null,
            "grid_template_columns": null,
            "grid_template_rows": null,
            "height": null,
            "justify_content": null,
            "justify_items": null,
            "left": null,
            "margin": null,
            "max_height": null,
            "max_width": null,
            "min_height": null,
            "min_width": null,
            "object_fit": null,
            "object_position": null,
            "order": null,
            "overflow": null,
            "overflow_x": null,
            "overflow_y": null,
            "padding": null,
            "right": null,
            "top": null,
            "visibility": null,
            "width": "20px"
          }
        },
        "a6b50afce3c24f41a3eaa83f08bd5b7f": {
          "model_module": "@jupyter-widgets/controls",
          "model_name": "ProgressStyleModel",
          "model_module_version": "1.5.0",
          "state": {
            "_model_module": "@jupyter-widgets/controls",
            "_model_module_version": "1.5.0",
            "_model_name": "ProgressStyleModel",
            "_view_count": null,
            "_view_module": "@jupyter-widgets/base",
            "_view_module_version": "1.2.0",
            "_view_name": "StyleView",
            "bar_color": null,
            "description_width": ""
          }
        },
        "cb2314236120425093af0e4230b45ac5": {
          "model_module": "@jupyter-widgets/base",
          "model_name": "LayoutModel",
          "model_module_version": "1.2.0",
          "state": {
            "_model_module": "@jupyter-widgets/base",
            "_model_module_version": "1.2.0",
            "_model_name": "LayoutModel",
            "_view_count": null,
            "_view_module": "@jupyter-widgets/base",
            "_view_module_version": "1.2.0",
            "_view_name": "LayoutView",
            "align_content": null,
            "align_items": null,
            "align_self": null,
            "border": null,
            "bottom": null,
            "display": null,
            "flex": null,
            "flex_flow": null,
            "grid_area": null,
            "grid_auto_columns": null,
            "grid_auto_flow": null,
            "grid_auto_rows": null,
            "grid_column": null,
            "grid_gap": null,
            "grid_row": null,
            "grid_template_areas": null,
            "grid_template_columns": null,
            "grid_template_rows": null,
            "height": null,
            "justify_content": null,
            "justify_items": null,
            "left": null,
            "margin": null,
            "max_height": null,
            "max_width": null,
            "min_height": null,
            "min_width": null,
            "object_fit": null,
            "object_position": null,
            "order": null,
            "overflow": null,
            "overflow_x": null,
            "overflow_y": null,
            "padding": null,
            "right": null,
            "top": null,
            "visibility": null,
            "width": null
          }
        },
        "714674c403a4449a88a552840342e07e": {
          "model_module": "@jupyter-widgets/controls",
          "model_name": "DescriptionStyleModel",
          "model_module_version": "1.5.0",
          "state": {
            "_model_module": "@jupyter-widgets/controls",
            "_model_module_version": "1.5.0",
            "_model_name": "DescriptionStyleModel",
            "_view_count": null,
            "_view_module": "@jupyter-widgets/base",
            "_view_module_version": "1.2.0",
            "_view_name": "StyleView",
            "description_width": ""
          }
        },
        "9bda7c23b1284eb49108879fece011a2": {
          "model_module": "@jupyter-widgets/controls",
          "model_name": "HBoxModel",
          "model_module_version": "1.5.0",
          "state": {
            "_dom_classes": [],
            "_model_module": "@jupyter-widgets/controls",
            "_model_module_version": "1.5.0",
            "_model_name": "HBoxModel",
            "_view_count": null,
            "_view_module": "@jupyter-widgets/controls",
            "_view_module_version": "1.5.0",
            "_view_name": "HBoxView",
            "box_style": "",
            "children": [
              "IPY_MODEL_ae6e995dad4b4a1cbed3396df98b6197",
              "IPY_MODEL_1aa9577568944132ac12a89eb4bcb985",
              "IPY_MODEL_7ac8ede19ca043b6b9c39c86dc8873ae"
            ],
            "layout": "IPY_MODEL_0ed88bf749d54f138d5060d8f998c995"
          }
        },
        "ae6e995dad4b4a1cbed3396df98b6197": {
          "model_module": "@jupyter-widgets/controls",
          "model_name": "HTMLModel",
          "model_module_version": "1.5.0",
          "state": {
            "_dom_classes": [],
            "_model_module": "@jupyter-widgets/controls",
            "_model_module_version": "1.5.0",
            "_model_name": "HTMLModel",
            "_view_count": null,
            "_view_module": "@jupyter-widgets/controls",
            "_view_module_version": "1.5.0",
            "_view_name": "HTMLView",
            "description": "",
            "description_tooltip": null,
            "layout": "IPY_MODEL_8dd108b87b00416aa66ff5868795cfe7",
            "placeholder": "​",
            "style": "IPY_MODEL_658953291ed64349a139466f35610ce2",
            "value": "Upload file pytorch_model.bin: 100%"
          }
        },
        "1aa9577568944132ac12a89eb4bcb985": {
          "model_module": "@jupyter-widgets/controls",
          "model_name": "FloatProgressModel",
          "model_module_version": "1.5.0",
          "state": {
            "_dom_classes": [],
            "_model_module": "@jupyter-widgets/controls",
            "_model_module_version": "1.5.0",
            "_model_name": "FloatProgressModel",
            "_view_count": null,
            "_view_module": "@jupyter-widgets/controls",
            "_view_module_version": "1.5.0",
            "_view_name": "ProgressView",
            "bar_style": "success",
            "description": "",
            "description_tooltip": null,
            "layout": "IPY_MODEL_904152aeecfb49ffbd7d0e5887589f07",
            "max": 1262329585,
            "min": 0,
            "orientation": "horizontal",
            "style": "IPY_MODEL_d38457f1180e49a68fed74ac99f5e242",
            "value": 1262329585
          }
        },
        "7ac8ede19ca043b6b9c39c86dc8873ae": {
          "model_module": "@jupyter-widgets/controls",
          "model_name": "HTMLModel",
          "model_module_version": "1.5.0",
          "state": {
            "_dom_classes": [],
            "_model_module": "@jupyter-widgets/controls",
            "_model_module_version": "1.5.0",
            "_model_name": "HTMLModel",
            "_view_count": null,
            "_view_module": "@jupyter-widgets/controls",
            "_view_module_version": "1.5.0",
            "_view_name": "HTMLView",
            "description": "",
            "description_tooltip": null,
            "layout": "IPY_MODEL_848366a5c32848d6a8ec44faeb49b828",
            "placeholder": "​",
            "style": "IPY_MODEL_7f1f23bf23d3444b890d16f055bf1b7b",
            "value": " 1.18G/1.18G [18:17&lt;00:00, 1.20MB/s]"
          }
        },
        "0ed88bf749d54f138d5060d8f998c995": {
          "model_module": "@jupyter-widgets/base",
          "model_name": "LayoutModel",
          "model_module_version": "1.2.0",
          "state": {
            "_model_module": "@jupyter-widgets/base",
            "_model_module_version": "1.2.0",
            "_model_name": "LayoutModel",
            "_view_count": null,
            "_view_module": "@jupyter-widgets/base",
            "_view_module_version": "1.2.0",
            "_view_name": "LayoutView",
            "align_content": null,
            "align_items": null,
            "align_self": null,
            "border": null,
            "bottom": null,
            "display": null,
            "flex": null,
            "flex_flow": null,
            "grid_area": null,
            "grid_auto_columns": null,
            "grid_auto_flow": null,
            "grid_auto_rows": null,
            "grid_column": null,
            "grid_gap": null,
            "grid_row": null,
            "grid_template_areas": null,
            "grid_template_columns": null,
            "grid_template_rows": null,
            "height": null,
            "justify_content": null,
            "justify_items": null,
            "left": null,
            "margin": null,
            "max_height": null,
            "max_width": null,
            "min_height": null,
            "min_width": null,
            "object_fit": null,
            "object_position": null,
            "order": null,
            "overflow": null,
            "overflow_x": null,
            "overflow_y": null,
            "padding": null,
            "right": null,
            "top": null,
            "visibility": null,
            "width": null
          }
        },
        "8dd108b87b00416aa66ff5868795cfe7": {
          "model_module": "@jupyter-widgets/base",
          "model_name": "LayoutModel",
          "model_module_version": "1.2.0",
          "state": {
            "_model_module": "@jupyter-widgets/base",
            "_model_module_version": "1.2.0",
            "_model_name": "LayoutModel",
            "_view_count": null,
            "_view_module": "@jupyter-widgets/base",
            "_view_module_version": "1.2.0",
            "_view_name": "LayoutView",
            "align_content": null,
            "align_items": null,
            "align_self": null,
            "border": null,
            "bottom": null,
            "display": null,
            "flex": null,
            "flex_flow": null,
            "grid_area": null,
            "grid_auto_columns": null,
            "grid_auto_flow": null,
            "grid_auto_rows": null,
            "grid_column": null,
            "grid_gap": null,
            "grid_row": null,
            "grid_template_areas": null,
            "grid_template_columns": null,
            "grid_template_rows": null,
            "height": null,
            "justify_content": null,
            "justify_items": null,
            "left": null,
            "margin": null,
            "max_height": null,
            "max_width": null,
            "min_height": null,
            "min_width": null,
            "object_fit": null,
            "object_position": null,
            "order": null,
            "overflow": null,
            "overflow_x": null,
            "overflow_y": null,
            "padding": null,
            "right": null,
            "top": null,
            "visibility": null,
            "width": null
          }
        },
        "658953291ed64349a139466f35610ce2": {
          "model_module": "@jupyter-widgets/controls",
          "model_name": "DescriptionStyleModel",
          "model_module_version": "1.5.0",
          "state": {
            "_model_module": "@jupyter-widgets/controls",
            "_model_module_version": "1.5.0",
            "_model_name": "DescriptionStyleModel",
            "_view_count": null,
            "_view_module": "@jupyter-widgets/base",
            "_view_module_version": "1.2.0",
            "_view_name": "StyleView",
            "description_width": ""
          }
        },
        "904152aeecfb49ffbd7d0e5887589f07": {
          "model_module": "@jupyter-widgets/base",
          "model_name": "LayoutModel",
          "model_module_version": "1.2.0",
          "state": {
            "_model_module": "@jupyter-widgets/base",
            "_model_module_version": "1.2.0",
            "_model_name": "LayoutModel",
            "_view_count": null,
            "_view_module": "@jupyter-widgets/base",
            "_view_module_version": "1.2.0",
            "_view_name": "LayoutView",
            "align_content": null,
            "align_items": null,
            "align_self": null,
            "border": null,
            "bottom": null,
            "display": null,
            "flex": null,
            "flex_flow": null,
            "grid_area": null,
            "grid_auto_columns": null,
            "grid_auto_flow": null,
            "grid_auto_rows": null,
            "grid_column": null,
            "grid_gap": null,
            "grid_row": null,
            "grid_template_areas": null,
            "grid_template_columns": null,
            "grid_template_rows": null,
            "height": null,
            "justify_content": null,
            "justify_items": null,
            "left": null,
            "margin": null,
            "max_height": null,
            "max_width": null,
            "min_height": null,
            "min_width": null,
            "object_fit": null,
            "object_position": null,
            "order": null,
            "overflow": null,
            "overflow_x": null,
            "overflow_y": null,
            "padding": null,
            "right": null,
            "top": null,
            "visibility": null,
            "width": null
          }
        },
        "d38457f1180e49a68fed74ac99f5e242": {
          "model_module": "@jupyter-widgets/controls",
          "model_name": "ProgressStyleModel",
          "model_module_version": "1.5.0",
          "state": {
            "_model_module": "@jupyter-widgets/controls",
            "_model_module_version": "1.5.0",
            "_model_name": "ProgressStyleModel",
            "_view_count": null,
            "_view_module": "@jupyter-widgets/base",
            "_view_module_version": "1.2.0",
            "_view_name": "StyleView",
            "bar_color": null,
            "description_width": ""
          }
        },
        "848366a5c32848d6a8ec44faeb49b828": {
          "model_module": "@jupyter-widgets/base",
          "model_name": "LayoutModel",
          "model_module_version": "1.2.0",
          "state": {
            "_model_module": "@jupyter-widgets/base",
            "_model_module_version": "1.2.0",
            "_model_name": "LayoutModel",
            "_view_count": null,
            "_view_module": "@jupyter-widgets/base",
            "_view_module_version": "1.2.0",
            "_view_name": "LayoutView",
            "align_content": null,
            "align_items": null,
            "align_self": null,
            "border": null,
            "bottom": null,
            "display": null,
            "flex": null,
            "flex_flow": null,
            "grid_area": null,
            "grid_auto_columns": null,
            "grid_auto_flow": null,
            "grid_auto_rows": null,
            "grid_column": null,
            "grid_gap": null,
            "grid_row": null,
            "grid_template_areas": null,
            "grid_template_columns": null,
            "grid_template_rows": null,
            "height": null,
            "justify_content": null,
            "justify_items": null,
            "left": null,
            "margin": null,
            "max_height": null,
            "max_width": null,
            "min_height": null,
            "min_width": null,
            "object_fit": null,
            "object_position": null,
            "order": null,
            "overflow": null,
            "overflow_x": null,
            "overflow_y": null,
            "padding": null,
            "right": null,
            "top": null,
            "visibility": null,
            "width": null
          }
        },
        "7f1f23bf23d3444b890d16f055bf1b7b": {
          "model_module": "@jupyter-widgets/controls",
          "model_name": "DescriptionStyleModel",
          "model_module_version": "1.5.0",
          "state": {
            "_model_module": "@jupyter-widgets/controls",
            "_model_module_version": "1.5.0",
            "_model_name": "DescriptionStyleModel",
            "_view_count": null,
            "_view_module": "@jupyter-widgets/base",
            "_view_module_version": "1.2.0",
            "_view_name": "StyleView",
            "description_width": ""
          }
        },
        "5be30d1c20eb4c85a28174fb77405287": {
          "model_module": "@jupyter-widgets/controls",
          "model_name": "HBoxModel",
          "model_module_version": "1.5.0",
          "state": {
            "_dom_classes": [],
            "_model_module": "@jupyter-widgets/controls",
            "_model_module_version": "1.5.0",
            "_model_name": "HBoxModel",
            "_view_count": null,
            "_view_module": "@jupyter-widgets/controls",
            "_view_module_version": "1.5.0",
            "_view_name": "HBoxView",
            "box_style": "",
            "children": [
              "IPY_MODEL_7b9a4db56a9e42a2b4c6c8ff9d4f0178",
              "IPY_MODEL_3085eea0495141388f9a788fc1720f34",
              "IPY_MODEL_52fffe5f8b3c44259cc1fadf9680bd5c"
            ],
            "layout": "IPY_MODEL_0657ec6ba6f34a95bd582d0279756841"
          }
        },
        "7b9a4db56a9e42a2b4c6c8ff9d4f0178": {
          "model_module": "@jupyter-widgets/controls",
          "model_name": "HTMLModel",
          "model_module_version": "1.5.0",
          "state": {
            "_dom_classes": [],
            "_model_module": "@jupyter-widgets/controls",
            "_model_module_version": "1.5.0",
            "_model_name": "HTMLModel",
            "_view_count": null,
            "_view_module": "@jupyter-widgets/controls",
            "_view_module_version": "1.5.0",
            "_view_name": "HTMLView",
            "description": "",
            "description_tooltip": null,
            "layout": "IPY_MODEL_9e8e662957374f73883eabdd7691e995",
            "placeholder": "​",
            "style": "IPY_MODEL_b76dfbd6ab7e4294bae9fab4275eb234",
            "value": "Upload file runs/Jun02_19-30-03_e97f4e46d604/events.out.tfevents.1654200508.e97f4e46d604.97.0: 100%"
          }
        },
        "3085eea0495141388f9a788fc1720f34": {
          "model_module": "@jupyter-widgets/controls",
          "model_name": "FloatProgressModel",
          "model_module_version": "1.5.0",
          "state": {
            "_dom_classes": [],
            "_model_module": "@jupyter-widgets/controls",
            "_model_module_version": "1.5.0",
            "_model_name": "FloatProgressModel",
            "_view_count": null,
            "_view_module": "@jupyter-widgets/controls",
            "_view_module_version": "1.5.0",
            "_view_name": "ProgressView",
            "bar_style": "success",
            "description": "",
            "description_tooltip": null,
            "layout": "IPY_MODEL_cac7caacf9fc48ef9eb5a02f4f25d8e7",
            "max": 36207,
            "min": 0,
            "orientation": "horizontal",
            "style": "IPY_MODEL_bb3d1c17732e4746a0dde2057ec55822",
            "value": 36207
          }
        },
        "52fffe5f8b3c44259cc1fadf9680bd5c": {
          "model_module": "@jupyter-widgets/controls",
          "model_name": "HTMLModel",
          "model_module_version": "1.5.0",
          "state": {
            "_dom_classes": [],
            "_model_module": "@jupyter-widgets/controls",
            "_model_module_version": "1.5.0",
            "_model_name": "HTMLModel",
            "_view_count": null,
            "_view_module": "@jupyter-widgets/controls",
            "_view_module_version": "1.5.0",
            "_view_name": "HTMLView",
            "description": "",
            "description_tooltip": null,
            "layout": "IPY_MODEL_b4fa7d4da9ed4b87a0397fb2ff5f9229",
            "placeholder": "​",
            "style": "IPY_MODEL_8e1996cd0eb24eddb600ad027f2131d9",
            "value": " 35.4k/35.4k [18:16&lt;00:00, 29.9B/s]"
          }
        },
        "0657ec6ba6f34a95bd582d0279756841": {
          "model_module": "@jupyter-widgets/base",
          "model_name": "LayoutModel",
          "model_module_version": "1.2.0",
          "state": {
            "_model_module": "@jupyter-widgets/base",
            "_model_module_version": "1.2.0",
            "_model_name": "LayoutModel",
            "_view_count": null,
            "_view_module": "@jupyter-widgets/base",
            "_view_module_version": "1.2.0",
            "_view_name": "LayoutView",
            "align_content": null,
            "align_items": null,
            "align_self": null,
            "border": null,
            "bottom": null,
            "display": null,
            "flex": null,
            "flex_flow": null,
            "grid_area": null,
            "grid_auto_columns": null,
            "grid_auto_flow": null,
            "grid_auto_rows": null,
            "grid_column": null,
            "grid_gap": null,
            "grid_row": null,
            "grid_template_areas": null,
            "grid_template_columns": null,
            "grid_template_rows": null,
            "height": null,
            "justify_content": null,
            "justify_items": null,
            "left": null,
            "margin": null,
            "max_height": null,
            "max_width": null,
            "min_height": null,
            "min_width": null,
            "object_fit": null,
            "object_position": null,
            "order": null,
            "overflow": null,
            "overflow_x": null,
            "overflow_y": null,
            "padding": null,
            "right": null,
            "top": null,
            "visibility": null,
            "width": null
          }
        },
        "9e8e662957374f73883eabdd7691e995": {
          "model_module": "@jupyter-widgets/base",
          "model_name": "LayoutModel",
          "model_module_version": "1.2.0",
          "state": {
            "_model_module": "@jupyter-widgets/base",
            "_model_module_version": "1.2.0",
            "_model_name": "LayoutModel",
            "_view_count": null,
            "_view_module": "@jupyter-widgets/base",
            "_view_module_version": "1.2.0",
            "_view_name": "LayoutView",
            "align_content": null,
            "align_items": null,
            "align_self": null,
            "border": null,
            "bottom": null,
            "display": null,
            "flex": null,
            "flex_flow": null,
            "grid_area": null,
            "grid_auto_columns": null,
            "grid_auto_flow": null,
            "grid_auto_rows": null,
            "grid_column": null,
            "grid_gap": null,
            "grid_row": null,
            "grid_template_areas": null,
            "grid_template_columns": null,
            "grid_template_rows": null,
            "height": null,
            "justify_content": null,
            "justify_items": null,
            "left": null,
            "margin": null,
            "max_height": null,
            "max_width": null,
            "min_height": null,
            "min_width": null,
            "object_fit": null,
            "object_position": null,
            "order": null,
            "overflow": null,
            "overflow_x": null,
            "overflow_y": null,
            "padding": null,
            "right": null,
            "top": null,
            "visibility": null,
            "width": null
          }
        },
        "b76dfbd6ab7e4294bae9fab4275eb234": {
          "model_module": "@jupyter-widgets/controls",
          "model_name": "DescriptionStyleModel",
          "model_module_version": "1.5.0",
          "state": {
            "_model_module": "@jupyter-widgets/controls",
            "_model_module_version": "1.5.0",
            "_model_name": "DescriptionStyleModel",
            "_view_count": null,
            "_view_module": "@jupyter-widgets/base",
            "_view_module_version": "1.2.0",
            "_view_name": "StyleView",
            "description_width": ""
          }
        },
        "cac7caacf9fc48ef9eb5a02f4f25d8e7": {
          "model_module": "@jupyter-widgets/base",
          "model_name": "LayoutModel",
          "model_module_version": "1.2.0",
          "state": {
            "_model_module": "@jupyter-widgets/base",
            "_model_module_version": "1.2.0",
            "_model_name": "LayoutModel",
            "_view_count": null,
            "_view_module": "@jupyter-widgets/base",
            "_view_module_version": "1.2.0",
            "_view_name": "LayoutView",
            "align_content": null,
            "align_items": null,
            "align_self": null,
            "border": null,
            "bottom": null,
            "display": null,
            "flex": null,
            "flex_flow": null,
            "grid_area": null,
            "grid_auto_columns": null,
            "grid_auto_flow": null,
            "grid_auto_rows": null,
            "grid_column": null,
            "grid_gap": null,
            "grid_row": null,
            "grid_template_areas": null,
            "grid_template_columns": null,
            "grid_template_rows": null,
            "height": null,
            "justify_content": null,
            "justify_items": null,
            "left": null,
            "margin": null,
            "max_height": null,
            "max_width": null,
            "min_height": null,
            "min_width": null,
            "object_fit": null,
            "object_position": null,
            "order": null,
            "overflow": null,
            "overflow_x": null,
            "overflow_y": null,
            "padding": null,
            "right": null,
            "top": null,
            "visibility": null,
            "width": null
          }
        },
        "bb3d1c17732e4746a0dde2057ec55822": {
          "model_module": "@jupyter-widgets/controls",
          "model_name": "ProgressStyleModel",
          "model_module_version": "1.5.0",
          "state": {
            "_model_module": "@jupyter-widgets/controls",
            "_model_module_version": "1.5.0",
            "_model_name": "ProgressStyleModel",
            "_view_count": null,
            "_view_module": "@jupyter-widgets/base",
            "_view_module_version": "1.2.0",
            "_view_name": "StyleView",
            "bar_color": null,
            "description_width": ""
          }
        },
        "b4fa7d4da9ed4b87a0397fb2ff5f9229": {
          "model_module": "@jupyter-widgets/base",
          "model_name": "LayoutModel",
          "model_module_version": "1.2.0",
          "state": {
            "_model_module": "@jupyter-widgets/base",
            "_model_module_version": "1.2.0",
            "_model_name": "LayoutModel",
            "_view_count": null,
            "_view_module": "@jupyter-widgets/base",
            "_view_module_version": "1.2.0",
            "_view_name": "LayoutView",
            "align_content": null,
            "align_items": null,
            "align_self": null,
            "border": null,
            "bottom": null,
            "display": null,
            "flex": null,
            "flex_flow": null,
            "grid_area": null,
            "grid_auto_columns": null,
            "grid_auto_flow": null,
            "grid_auto_rows": null,
            "grid_column": null,
            "grid_gap": null,
            "grid_row": null,
            "grid_template_areas": null,
            "grid_template_columns": null,
            "grid_template_rows": null,
            "height": null,
            "justify_content": null,
            "justify_items": null,
            "left": null,
            "margin": null,
            "max_height": null,
            "max_width": null,
            "min_height": null,
            "min_width": null,
            "object_fit": null,
            "object_position": null,
            "order": null,
            "overflow": null,
            "overflow_x": null,
            "overflow_y": null,
            "padding": null,
            "right": null,
            "top": null,
            "visibility": null,
            "width": null
          }
        },
        "8e1996cd0eb24eddb600ad027f2131d9": {
          "model_module": "@jupyter-widgets/controls",
          "model_name": "DescriptionStyleModel",
          "model_module_version": "1.5.0",
          "state": {
            "_model_module": "@jupyter-widgets/controls",
            "_model_module_version": "1.5.0",
            "_model_name": "DescriptionStyleModel",
            "_view_count": null,
            "_view_module": "@jupyter-widgets/base",
            "_view_module_version": "1.2.0",
            "_view_name": "StyleView",
            "description_width": ""
          }
        },
        "5385ae4d1dfa4c68923e4d1a760409ca": {
          "model_module": "@jupyter-widgets/controls",
          "model_name": "HBoxModel",
          "model_module_version": "1.5.0",
          "state": {
            "_dom_classes": [],
            "_model_module": "@jupyter-widgets/controls",
            "_model_module_version": "1.5.0",
            "_model_name": "HBoxModel",
            "_view_count": null,
            "_view_module": "@jupyter-widgets/controls",
            "_view_module_version": "1.5.0",
            "_view_name": "HBoxView",
            "box_style": "",
            "children": [
              "IPY_MODEL_ec2cc9cd13084c098ca9e7f27fff5278",
              "IPY_MODEL_68e59660b3064317b7dec07f774264e0",
              "IPY_MODEL_b617c7b34738413586cb21eb636faddf"
            ],
            "layout": "IPY_MODEL_ae29de9d69be44f8b6a21c3f751f5c27"
          }
        },
        "ec2cc9cd13084c098ca9e7f27fff5278": {
          "model_module": "@jupyter-widgets/controls",
          "model_name": "HTMLModel",
          "model_module_version": "1.5.0",
          "state": {
            "_dom_classes": [],
            "_model_module": "@jupyter-widgets/controls",
            "_model_module_version": "1.5.0",
            "_model_name": "HTMLModel",
            "_view_count": null,
            "_view_module": "@jupyter-widgets/controls",
            "_view_module_version": "1.5.0",
            "_view_name": "HTMLView",
            "description": "",
            "description_tooltip": null,
            "layout": "IPY_MODEL_fac8436b8a964fe49e6c023f6f5827ff",
            "placeholder": "​",
            "style": "IPY_MODEL_fce78891f5664d3d897a8cf0c9d78301",
            "value": "Downloading: 100%"
          }
        },
        "68e59660b3064317b7dec07f774264e0": {
          "model_module": "@jupyter-widgets/controls",
          "model_name": "FloatProgressModel",
          "model_module_version": "1.5.0",
          "state": {
            "_dom_classes": [],
            "_model_module": "@jupyter-widgets/controls",
            "_model_module_version": "1.5.0",
            "_model_name": "FloatProgressModel",
            "_view_count": null,
            "_view_module": "@jupyter-widgets/controls",
            "_view_module_version": "1.5.0",
            "_view_name": "ProgressView",
            "bar_style": "success",
            "description": "",
            "description_tooltip": null,
            "layout": "IPY_MODEL_02b7ebb6a2864b4fbf4e9ddbc7daf65d",
            "max": 620848700,
            "min": 0,
            "orientation": "horizontal",
            "style": "IPY_MODEL_ee0778956a41422b8afb9a970d4c83fa",
            "value": 620848700
          }
        },
        "b617c7b34738413586cb21eb636faddf": {
          "model_module": "@jupyter-widgets/controls",
          "model_name": "HTMLModel",
          "model_module_version": "1.5.0",
          "state": {
            "_dom_classes": [],
            "_model_module": "@jupyter-widgets/controls",
            "_model_module_version": "1.5.0",
            "_model_name": "HTMLModel",
            "_view_count": null,
            "_view_module": "@jupyter-widgets/controls",
            "_view_module_version": "1.5.0",
            "_view_name": "HTMLView",
            "description": "",
            "description_tooltip": null,
            "layout": "IPY_MODEL_67570f767fa840f2afef95fa588f60f3",
            "placeholder": "​",
            "style": "IPY_MODEL_c7c804b0123d4758b2dc35c7931f22ad",
            "value": " 621M/621M [00:40&lt;00:00, 17.7MB/s]"
          }
        },
        "ae29de9d69be44f8b6a21c3f751f5c27": {
          "model_module": "@jupyter-widgets/base",
          "model_name": "LayoutModel",
          "model_module_version": "1.2.0",
          "state": {
            "_model_module": "@jupyter-widgets/base",
            "_model_module_version": "1.2.0",
            "_model_name": "LayoutModel",
            "_view_count": null,
            "_view_module": "@jupyter-widgets/base",
            "_view_module_version": "1.2.0",
            "_view_name": "LayoutView",
            "align_content": null,
            "align_items": null,
            "align_self": null,
            "border": null,
            "bottom": null,
            "display": null,
            "flex": null,
            "flex_flow": null,
            "grid_area": null,
            "grid_auto_columns": null,
            "grid_auto_flow": null,
            "grid_auto_rows": null,
            "grid_column": null,
            "grid_gap": null,
            "grid_row": null,
            "grid_template_areas": null,
            "grid_template_columns": null,
            "grid_template_rows": null,
            "height": null,
            "justify_content": null,
            "justify_items": null,
            "left": null,
            "margin": null,
            "max_height": null,
            "max_width": null,
            "min_height": null,
            "min_width": null,
            "object_fit": null,
            "object_position": null,
            "order": null,
            "overflow": null,
            "overflow_x": null,
            "overflow_y": null,
            "padding": null,
            "right": null,
            "top": null,
            "visibility": null,
            "width": null
          }
        },
        "fac8436b8a964fe49e6c023f6f5827ff": {
          "model_module": "@jupyter-widgets/base",
          "model_name": "LayoutModel",
          "model_module_version": "1.2.0",
          "state": {
            "_model_module": "@jupyter-widgets/base",
            "_model_module_version": "1.2.0",
            "_model_name": "LayoutModel",
            "_view_count": null,
            "_view_module": "@jupyter-widgets/base",
            "_view_module_version": "1.2.0",
            "_view_name": "LayoutView",
            "align_content": null,
            "align_items": null,
            "align_self": null,
            "border": null,
            "bottom": null,
            "display": null,
            "flex": null,
            "flex_flow": null,
            "grid_area": null,
            "grid_auto_columns": null,
            "grid_auto_flow": null,
            "grid_auto_rows": null,
            "grid_column": null,
            "grid_gap": null,
            "grid_row": null,
            "grid_template_areas": null,
            "grid_template_columns": null,
            "grid_template_rows": null,
            "height": null,
            "justify_content": null,
            "justify_items": null,
            "left": null,
            "margin": null,
            "max_height": null,
            "max_width": null,
            "min_height": null,
            "min_width": null,
            "object_fit": null,
            "object_position": null,
            "order": null,
            "overflow": null,
            "overflow_x": null,
            "overflow_y": null,
            "padding": null,
            "right": null,
            "top": null,
            "visibility": null,
            "width": null
          }
        },
        "fce78891f5664d3d897a8cf0c9d78301": {
          "model_module": "@jupyter-widgets/controls",
          "model_name": "DescriptionStyleModel",
          "model_module_version": "1.5.0",
          "state": {
            "_model_module": "@jupyter-widgets/controls",
            "_model_module_version": "1.5.0",
            "_model_name": "DescriptionStyleModel",
            "_view_count": null,
            "_view_module": "@jupyter-widgets/base",
            "_view_module_version": "1.2.0",
            "_view_name": "StyleView",
            "description_width": ""
          }
        },
        "02b7ebb6a2864b4fbf4e9ddbc7daf65d": {
          "model_module": "@jupyter-widgets/base",
          "model_name": "LayoutModel",
          "model_module_version": "1.2.0",
          "state": {
            "_model_module": "@jupyter-widgets/base",
            "_model_module_version": "1.2.0",
            "_model_name": "LayoutModel",
            "_view_count": null,
            "_view_module": "@jupyter-widgets/base",
            "_view_module_version": "1.2.0",
            "_view_name": "LayoutView",
            "align_content": null,
            "align_items": null,
            "align_self": null,
            "border": null,
            "bottom": null,
            "display": null,
            "flex": null,
            "flex_flow": null,
            "grid_area": null,
            "grid_auto_columns": null,
            "grid_auto_flow": null,
            "grid_auto_rows": null,
            "grid_column": null,
            "grid_gap": null,
            "grid_row": null,
            "grid_template_areas": null,
            "grid_template_columns": null,
            "grid_template_rows": null,
            "height": null,
            "justify_content": null,
            "justify_items": null,
            "left": null,
            "margin": null,
            "max_height": null,
            "max_width": null,
            "min_height": null,
            "min_width": null,
            "object_fit": null,
            "object_position": null,
            "order": null,
            "overflow": null,
            "overflow_x": null,
            "overflow_y": null,
            "padding": null,
            "right": null,
            "top": null,
            "visibility": null,
            "width": null
          }
        },
        "ee0778956a41422b8afb9a970d4c83fa": {
          "model_module": "@jupyter-widgets/controls",
          "model_name": "ProgressStyleModel",
          "model_module_version": "1.5.0",
          "state": {
            "_model_module": "@jupyter-widgets/controls",
            "_model_module_version": "1.5.0",
            "_model_name": "ProgressStyleModel",
            "_view_count": null,
            "_view_module": "@jupyter-widgets/base",
            "_view_module_version": "1.2.0",
            "_view_name": "StyleView",
            "bar_color": null,
            "description_width": ""
          }
        },
        "67570f767fa840f2afef95fa588f60f3": {
          "model_module": "@jupyter-widgets/base",
          "model_name": "LayoutModel",
          "model_module_version": "1.2.0",
          "state": {
            "_model_module": "@jupyter-widgets/base",
            "_model_module_version": "1.2.0",
            "_model_name": "LayoutModel",
            "_view_count": null,
            "_view_module": "@jupyter-widgets/base",
            "_view_module_version": "1.2.0",
            "_view_name": "LayoutView",
            "align_content": null,
            "align_items": null,
            "align_self": null,
            "border": null,
            "bottom": null,
            "display": null,
            "flex": null,
            "flex_flow": null,
            "grid_area": null,
            "grid_auto_columns": null,
            "grid_auto_flow": null,
            "grid_auto_rows": null,
            "grid_column": null,
            "grid_gap": null,
            "grid_row": null,
            "grid_template_areas": null,
            "grid_template_columns": null,
            "grid_template_rows": null,
            "height": null,
            "justify_content": null,
            "justify_items": null,
            "left": null,
            "margin": null,
            "max_height": null,
            "max_width": null,
            "min_height": null,
            "min_width": null,
            "object_fit": null,
            "object_position": null,
            "order": null,
            "overflow": null,
            "overflow_x": null,
            "overflow_y": null,
            "padding": null,
            "right": null,
            "top": null,
            "visibility": null,
            "width": null
          }
        },
        "c7c804b0123d4758b2dc35c7931f22ad": {
          "model_module": "@jupyter-widgets/controls",
          "model_name": "DescriptionStyleModel",
          "model_module_version": "1.5.0",
          "state": {
            "_model_module": "@jupyter-widgets/controls",
            "_model_module_version": "1.5.0",
            "_model_name": "DescriptionStyleModel",
            "_view_count": null,
            "_view_module": "@jupyter-widgets/base",
            "_view_module_version": "1.2.0",
            "_view_name": "StyleView",
            "description_width": ""
          }
        },
        "4360e336f113442c91cde8f99fdafa20": {
          "model_module": "@jupyter-widgets/controls",
          "model_name": "HBoxModel",
          "model_module_version": "1.5.0",
          "state": {
            "_dom_classes": [],
            "_model_module": "@jupyter-widgets/controls",
            "_model_module_version": "1.5.0",
            "_model_name": "HBoxModel",
            "_view_count": null,
            "_view_module": "@jupyter-widgets/controls",
            "_view_module_version": "1.5.0",
            "_view_name": "HBoxView",
            "box_style": "",
            "children": [
              "IPY_MODEL_770a955c82c64521b2529bf48ad7e5fc",
              "IPY_MODEL_ce01458d9ef34762a3cfc1b6ab054595",
              "IPY_MODEL_e6e5abb372494c2f8bf5450bbf2ac215"
            ],
            "layout": "IPY_MODEL_f42022c0585f49f1a9a27dcd59fb778a"
          }
        },
        "770a955c82c64521b2529bf48ad7e5fc": {
          "model_module": "@jupyter-widgets/controls",
          "model_name": "HTMLModel",
          "model_module_version": "1.5.0",
          "state": {
            "_dom_classes": [],
            "_model_module": "@jupyter-widgets/controls",
            "_model_module_version": "1.5.0",
            "_model_name": "HTMLModel",
            "_view_count": null,
            "_view_module": "@jupyter-widgets/controls",
            "_view_module_version": "1.5.0",
            "_view_name": "HTMLView",
            "description": "",
            "description_tooltip": null,
            "layout": "IPY_MODEL_deded2b669054606ab186bece169a24c",
            "placeholder": "​",
            "style": "IPY_MODEL_f0ad18be0ddc42ac967736374698b9c7",
            "value": ""
          }
        },
        "ce01458d9ef34762a3cfc1b6ab054595": {
          "model_module": "@jupyter-widgets/controls",
          "model_name": "FloatProgressModel",
          "model_module_version": "1.5.0",
          "state": {
            "_dom_classes": [],
            "_model_module": "@jupyter-widgets/controls",
            "_model_module_version": "1.5.0",
            "_model_name": "FloatProgressModel",
            "_view_count": null,
            "_view_module": "@jupyter-widgets/controls",
            "_view_module_version": "1.5.0",
            "_view_name": "ProgressView",
            "bar_style": "info",
            "description": "",
            "description_tooltip": null,
            "layout": "IPY_MODEL_f9dd14ec65f7418aa1bfad0d1730d09a",
            "max": 1,
            "min": 0,
            "orientation": "horizontal",
            "style": "IPY_MODEL_b07d1817b4914e37a2d87f95e45dddb3",
            "value": 1
          }
        },
        "e6e5abb372494c2f8bf5450bbf2ac215": {
          "model_module": "@jupyter-widgets/controls",
          "model_name": "HTMLModel",
          "model_module_version": "1.5.0",
          "state": {
            "_dom_classes": [],
            "_model_module": "@jupyter-widgets/controls",
            "_model_module_version": "1.5.0",
            "_model_name": "HTMLModel",
            "_view_count": null,
            "_view_module": "@jupyter-widgets/controls",
            "_view_module_version": "1.5.0",
            "_view_name": "HTMLView",
            "description": "",
            "description_tooltip": null,
            "layout": "IPY_MODEL_3adf39edb33c4587b7fea88f67f46d5f",
            "placeholder": "​",
            "style": "IPY_MODEL_2627845b57734afeb20e9ce9e06c9bea",
            "value": " 1802/0 [00:05&lt;00:00, 313.19 examples/s]"
          }
        },
        "f42022c0585f49f1a9a27dcd59fb778a": {
          "model_module": "@jupyter-widgets/base",
          "model_name": "LayoutModel",
          "model_module_version": "1.2.0",
          "state": {
            "_model_module": "@jupyter-widgets/base",
            "_model_module_version": "1.2.0",
            "_model_name": "LayoutModel",
            "_view_count": null,
            "_view_module": "@jupyter-widgets/base",
            "_view_module_version": "1.2.0",
            "_view_name": "LayoutView",
            "align_content": null,
            "align_items": null,
            "align_self": null,
            "border": null,
            "bottom": null,
            "display": null,
            "flex": null,
            "flex_flow": null,
            "grid_area": null,
            "grid_auto_columns": null,
            "grid_auto_flow": null,
            "grid_auto_rows": null,
            "grid_column": null,
            "grid_gap": null,
            "grid_row": null,
            "grid_template_areas": null,
            "grid_template_columns": null,
            "grid_template_rows": null,
            "height": null,
            "justify_content": null,
            "justify_items": null,
            "left": null,
            "margin": null,
            "max_height": null,
            "max_width": null,
            "min_height": null,
            "min_width": null,
            "object_fit": null,
            "object_position": null,
            "order": null,
            "overflow": null,
            "overflow_x": null,
            "overflow_y": null,
            "padding": null,
            "right": null,
            "top": null,
            "visibility": null,
            "width": null
          }
        },
        "deded2b669054606ab186bece169a24c": {
          "model_module": "@jupyter-widgets/base",
          "model_name": "LayoutModel",
          "model_module_version": "1.2.0",
          "state": {
            "_model_module": "@jupyter-widgets/base",
            "_model_module_version": "1.2.0",
            "_model_name": "LayoutModel",
            "_view_count": null,
            "_view_module": "@jupyter-widgets/base",
            "_view_module_version": "1.2.0",
            "_view_name": "LayoutView",
            "align_content": null,
            "align_items": null,
            "align_self": null,
            "border": null,
            "bottom": null,
            "display": null,
            "flex": null,
            "flex_flow": null,
            "grid_area": null,
            "grid_auto_columns": null,
            "grid_auto_flow": null,
            "grid_auto_rows": null,
            "grid_column": null,
            "grid_gap": null,
            "grid_row": null,
            "grid_template_areas": null,
            "grid_template_columns": null,
            "grid_template_rows": null,
            "height": null,
            "justify_content": null,
            "justify_items": null,
            "left": null,
            "margin": null,
            "max_height": null,
            "max_width": null,
            "min_height": null,
            "min_width": null,
            "object_fit": null,
            "object_position": null,
            "order": null,
            "overflow": null,
            "overflow_x": null,
            "overflow_y": null,
            "padding": null,
            "right": null,
            "top": null,
            "visibility": null,
            "width": null
          }
        },
        "f0ad18be0ddc42ac967736374698b9c7": {
          "model_module": "@jupyter-widgets/controls",
          "model_name": "DescriptionStyleModel",
          "model_module_version": "1.5.0",
          "state": {
            "_model_module": "@jupyter-widgets/controls",
            "_model_module_version": "1.5.0",
            "_model_name": "DescriptionStyleModel",
            "_view_count": null,
            "_view_module": "@jupyter-widgets/base",
            "_view_module_version": "1.2.0",
            "_view_name": "StyleView",
            "description_width": ""
          }
        },
        "f9dd14ec65f7418aa1bfad0d1730d09a": {
          "model_module": "@jupyter-widgets/base",
          "model_name": "LayoutModel",
          "model_module_version": "1.2.0",
          "state": {
            "_model_module": "@jupyter-widgets/base",
            "_model_module_version": "1.2.0",
            "_model_name": "LayoutModel",
            "_view_count": null,
            "_view_module": "@jupyter-widgets/base",
            "_view_module_version": "1.2.0",
            "_view_name": "LayoutView",
            "align_content": null,
            "align_items": null,
            "align_self": null,
            "border": null,
            "bottom": null,
            "display": null,
            "flex": null,
            "flex_flow": null,
            "grid_area": null,
            "grid_auto_columns": null,
            "grid_auto_flow": null,
            "grid_auto_rows": null,
            "grid_column": null,
            "grid_gap": null,
            "grid_row": null,
            "grid_template_areas": null,
            "grid_template_columns": null,
            "grid_template_rows": null,
            "height": null,
            "justify_content": null,
            "justify_items": null,
            "left": null,
            "margin": null,
            "max_height": null,
            "max_width": null,
            "min_height": null,
            "min_width": null,
            "object_fit": null,
            "object_position": null,
            "order": null,
            "overflow": null,
            "overflow_x": null,
            "overflow_y": null,
            "padding": null,
            "right": null,
            "top": null,
            "visibility": null,
            "width": "20px"
          }
        },
        "b07d1817b4914e37a2d87f95e45dddb3": {
          "model_module": "@jupyter-widgets/controls",
          "model_name": "ProgressStyleModel",
          "model_module_version": "1.5.0",
          "state": {
            "_model_module": "@jupyter-widgets/controls",
            "_model_module_version": "1.5.0",
            "_model_name": "ProgressStyleModel",
            "_view_count": null,
            "_view_module": "@jupyter-widgets/base",
            "_view_module_version": "1.2.0",
            "_view_name": "StyleView",
            "bar_color": null,
            "description_width": ""
          }
        },
        "3adf39edb33c4587b7fea88f67f46d5f": {
          "model_module": "@jupyter-widgets/base",
          "model_name": "LayoutModel",
          "model_module_version": "1.2.0",
          "state": {
            "_model_module": "@jupyter-widgets/base",
            "_model_module_version": "1.2.0",
            "_model_name": "LayoutModel",
            "_view_count": null,
            "_view_module": "@jupyter-widgets/base",
            "_view_module_version": "1.2.0",
            "_view_name": "LayoutView",
            "align_content": null,
            "align_items": null,
            "align_self": null,
            "border": null,
            "bottom": null,
            "display": null,
            "flex": null,
            "flex_flow": null,
            "grid_area": null,
            "grid_auto_columns": null,
            "grid_auto_flow": null,
            "grid_auto_rows": null,
            "grid_column": null,
            "grid_gap": null,
            "grid_row": null,
            "grid_template_areas": null,
            "grid_template_columns": null,
            "grid_template_rows": null,
            "height": null,
            "justify_content": null,
            "justify_items": null,
            "left": null,
            "margin": null,
            "max_height": null,
            "max_width": null,
            "min_height": null,
            "min_width": null,
            "object_fit": null,
            "object_position": null,
            "order": null,
            "overflow": null,
            "overflow_x": null,
            "overflow_y": null,
            "padding": null,
            "right": null,
            "top": null,
            "visibility": null,
            "width": null
          }
        },
        "2627845b57734afeb20e9ce9e06c9bea": {
          "model_module": "@jupyter-widgets/controls",
          "model_name": "DescriptionStyleModel",
          "model_module_version": "1.5.0",
          "state": {
            "_model_module": "@jupyter-widgets/controls",
            "_model_module_version": "1.5.0",
            "_model_name": "DescriptionStyleModel",
            "_view_count": null,
            "_view_module": "@jupyter-widgets/base",
            "_view_module_version": "1.2.0",
            "_view_name": "StyleView",
            "description_width": ""
          }
        },
        "dade2691a0de4bb3b4cb106ee5549bd5": {
          "model_module": "@jupyter-widgets/controls",
          "model_name": "HBoxModel",
          "model_module_version": "1.5.0",
          "state": {
            "_dom_classes": [],
            "_model_module": "@jupyter-widgets/controls",
            "_model_module_version": "1.5.0",
            "_model_name": "HBoxModel",
            "_view_count": null,
            "_view_module": "@jupyter-widgets/controls",
            "_view_module_version": "1.5.0",
            "_view_name": "HBoxView",
            "box_style": "",
            "children": [
              "IPY_MODEL_023fba35b1b4425d87816cd9ff156856",
              "IPY_MODEL_bf7fa750bbe34bc28694c96f6322fc90",
              "IPY_MODEL_f2fc6e503a5a4e489ac55b2d92691ee2"
            ],
            "layout": "IPY_MODEL_c7878d9792b24b1fadb7f1295263d328"
          }
        },
        "023fba35b1b4425d87816cd9ff156856": {
          "model_module": "@jupyter-widgets/controls",
          "model_name": "HTMLModel",
          "model_module_version": "1.5.0",
          "state": {
            "_dom_classes": [],
            "_model_module": "@jupyter-widgets/controls",
            "_model_module_version": "1.5.0",
            "_model_name": "HTMLModel",
            "_view_count": null,
            "_view_module": "@jupyter-widgets/controls",
            "_view_module_version": "1.5.0",
            "_view_name": "HTMLView",
            "description": "",
            "description_tooltip": null,
            "layout": "IPY_MODEL_ef97a04efc9c4eb1aea70fd6bf2475bd",
            "placeholder": "​",
            "style": "IPY_MODEL_1e8846a25fad47bcaaaebc0de1df9110",
            "value": ""
          }
        },
        "bf7fa750bbe34bc28694c96f6322fc90": {
          "model_module": "@jupyter-widgets/controls",
          "model_name": "FloatProgressModel",
          "model_module_version": "1.5.0",
          "state": {
            "_dom_classes": [],
            "_model_module": "@jupyter-widgets/controls",
            "_model_module_version": "1.5.0",
            "_model_name": "FloatProgressModel",
            "_view_count": null,
            "_view_module": "@jupyter-widgets/controls",
            "_view_module_version": "1.5.0",
            "_view_name": "ProgressView",
            "bar_style": "info",
            "description": "",
            "description_tooltip": null,
            "layout": "IPY_MODEL_0d2199f694ab42229c5ef768eed927c1",
            "max": 1,
            "min": 0,
            "orientation": "horizontal",
            "style": "IPY_MODEL_c4d6e5c4a33d45c792963ea267c9b5b1",
            "value": 1
          }
        },
        "f2fc6e503a5a4e489ac55b2d92691ee2": {
          "model_module": "@jupyter-widgets/controls",
          "model_name": "HTMLModel",
          "model_module_version": "1.5.0",
          "state": {
            "_dom_classes": [],
            "_model_module": "@jupyter-widgets/controls",
            "_model_module_version": "1.5.0",
            "_model_name": "HTMLModel",
            "_view_count": null,
            "_view_module": "@jupyter-widgets/controls",
            "_view_module_version": "1.5.0",
            "_view_name": "HTMLView",
            "description": "",
            "description_tooltip": null,
            "layout": "IPY_MODEL_7eb1f57aed9a4aa2878e1ff2755687dc",
            "placeholder": "​",
            "style": "IPY_MODEL_981011e7b7554171849cb0031fe18cd8",
            "value": " 1635/0 [00:04&lt;00:00, 251.45 examples/s]"
          }
        },
        "c7878d9792b24b1fadb7f1295263d328": {
          "model_module": "@jupyter-widgets/base",
          "model_name": "LayoutModel",
          "model_module_version": "1.2.0",
          "state": {
            "_model_module": "@jupyter-widgets/base",
            "_model_module_version": "1.2.0",
            "_model_name": "LayoutModel",
            "_view_count": null,
            "_view_module": "@jupyter-widgets/base",
            "_view_module_version": "1.2.0",
            "_view_name": "LayoutView",
            "align_content": null,
            "align_items": null,
            "align_self": null,
            "border": null,
            "bottom": null,
            "display": null,
            "flex": null,
            "flex_flow": null,
            "grid_area": null,
            "grid_auto_columns": null,
            "grid_auto_flow": null,
            "grid_auto_rows": null,
            "grid_column": null,
            "grid_gap": null,
            "grid_row": null,
            "grid_template_areas": null,
            "grid_template_columns": null,
            "grid_template_rows": null,
            "height": null,
            "justify_content": null,
            "justify_items": null,
            "left": null,
            "margin": null,
            "max_height": null,
            "max_width": null,
            "min_height": null,
            "min_width": null,
            "object_fit": null,
            "object_position": null,
            "order": null,
            "overflow": null,
            "overflow_x": null,
            "overflow_y": null,
            "padding": null,
            "right": null,
            "top": null,
            "visibility": null,
            "width": null
          }
        },
        "ef97a04efc9c4eb1aea70fd6bf2475bd": {
          "model_module": "@jupyter-widgets/base",
          "model_name": "LayoutModel",
          "model_module_version": "1.2.0",
          "state": {
            "_model_module": "@jupyter-widgets/base",
            "_model_module_version": "1.2.0",
            "_model_name": "LayoutModel",
            "_view_count": null,
            "_view_module": "@jupyter-widgets/base",
            "_view_module_version": "1.2.0",
            "_view_name": "LayoutView",
            "align_content": null,
            "align_items": null,
            "align_self": null,
            "border": null,
            "bottom": null,
            "display": null,
            "flex": null,
            "flex_flow": null,
            "grid_area": null,
            "grid_auto_columns": null,
            "grid_auto_flow": null,
            "grid_auto_rows": null,
            "grid_column": null,
            "grid_gap": null,
            "grid_row": null,
            "grid_template_areas": null,
            "grid_template_columns": null,
            "grid_template_rows": null,
            "height": null,
            "justify_content": null,
            "justify_items": null,
            "left": null,
            "margin": null,
            "max_height": null,
            "max_width": null,
            "min_height": null,
            "min_width": null,
            "object_fit": null,
            "object_position": null,
            "order": null,
            "overflow": null,
            "overflow_x": null,
            "overflow_y": null,
            "padding": null,
            "right": null,
            "top": null,
            "visibility": null,
            "width": null
          }
        },
        "1e8846a25fad47bcaaaebc0de1df9110": {
          "model_module": "@jupyter-widgets/controls",
          "model_name": "DescriptionStyleModel",
          "model_module_version": "1.5.0",
          "state": {
            "_model_module": "@jupyter-widgets/controls",
            "_model_module_version": "1.5.0",
            "_model_name": "DescriptionStyleModel",
            "_view_count": null,
            "_view_module": "@jupyter-widgets/base",
            "_view_module_version": "1.2.0",
            "_view_name": "StyleView",
            "description_width": ""
          }
        },
        "0d2199f694ab42229c5ef768eed927c1": {
          "model_module": "@jupyter-widgets/base",
          "model_name": "LayoutModel",
          "model_module_version": "1.2.0",
          "state": {
            "_model_module": "@jupyter-widgets/base",
            "_model_module_version": "1.2.0",
            "_model_name": "LayoutModel",
            "_view_count": null,
            "_view_module": "@jupyter-widgets/base",
            "_view_module_version": "1.2.0",
            "_view_name": "LayoutView",
            "align_content": null,
            "align_items": null,
            "align_self": null,
            "border": null,
            "bottom": null,
            "display": null,
            "flex": null,
            "flex_flow": null,
            "grid_area": null,
            "grid_auto_columns": null,
            "grid_auto_flow": null,
            "grid_auto_rows": null,
            "grid_column": null,
            "grid_gap": null,
            "grid_row": null,
            "grid_template_areas": null,
            "grid_template_columns": null,
            "grid_template_rows": null,
            "height": null,
            "justify_content": null,
            "justify_items": null,
            "left": null,
            "margin": null,
            "max_height": null,
            "max_width": null,
            "min_height": null,
            "min_width": null,
            "object_fit": null,
            "object_position": null,
            "order": null,
            "overflow": null,
            "overflow_x": null,
            "overflow_y": null,
            "padding": null,
            "right": null,
            "top": null,
            "visibility": null,
            "width": "20px"
          }
        },
        "c4d6e5c4a33d45c792963ea267c9b5b1": {
          "model_module": "@jupyter-widgets/controls",
          "model_name": "ProgressStyleModel",
          "model_module_version": "1.5.0",
          "state": {
            "_model_module": "@jupyter-widgets/controls",
            "_model_module_version": "1.5.0",
            "_model_name": "ProgressStyleModel",
            "_view_count": null,
            "_view_module": "@jupyter-widgets/base",
            "_view_module_version": "1.2.0",
            "_view_name": "StyleView",
            "bar_color": null,
            "description_width": ""
          }
        },
        "7eb1f57aed9a4aa2878e1ff2755687dc": {
          "model_module": "@jupyter-widgets/base",
          "model_name": "LayoutModel",
          "model_module_version": "1.2.0",
          "state": {
            "_model_module": "@jupyter-widgets/base",
            "_model_module_version": "1.2.0",
            "_model_name": "LayoutModel",
            "_view_count": null,
            "_view_module": "@jupyter-widgets/base",
            "_view_module_version": "1.2.0",
            "_view_name": "LayoutView",
            "align_content": null,
            "align_items": null,
            "align_self": null,
            "border": null,
            "bottom": null,
            "display": null,
            "flex": null,
            "flex_flow": null,
            "grid_area": null,
            "grid_auto_columns": null,
            "grid_auto_flow": null,
            "grid_auto_rows": null,
            "grid_column": null,
            "grid_gap": null,
            "grid_row": null,
            "grid_template_areas": null,
            "grid_template_columns": null,
            "grid_template_rows": null,
            "height": null,
            "justify_content": null,
            "justify_items": null,
            "left": null,
            "margin": null,
            "max_height": null,
            "max_width": null,
            "min_height": null,
            "min_width": null,
            "object_fit": null,
            "object_position": null,
            "order": null,
            "overflow": null,
            "overflow_x": null,
            "overflow_y": null,
            "padding": null,
            "right": null,
            "top": null,
            "visibility": null,
            "width": null
          }
        },
        "981011e7b7554171849cb0031fe18cd8": {
          "model_module": "@jupyter-widgets/controls",
          "model_name": "DescriptionStyleModel",
          "model_module_version": "1.5.0",
          "state": {
            "_model_module": "@jupyter-widgets/controls",
            "_model_module_version": "1.5.0",
            "_model_name": "DescriptionStyleModel",
            "_view_count": null,
            "_view_module": "@jupyter-widgets/base",
            "_view_module_version": "1.2.0",
            "_view_name": "StyleView",
            "description_width": ""
          }
        },
        "705064bfb306437ab969203f163908ab": {
          "model_module": "@jupyter-widgets/controls",
          "model_name": "HBoxModel",
          "model_module_version": "1.5.0",
          "state": {
            "_dom_classes": [],
            "_model_module": "@jupyter-widgets/controls",
            "_model_module_version": "1.5.0",
            "_model_name": "HBoxModel",
            "_view_count": null,
            "_view_module": "@jupyter-widgets/controls",
            "_view_module_version": "1.5.0",
            "_view_name": "HBoxView",
            "box_style": "",
            "children": [
              "IPY_MODEL_345e4a1da1dc4388afe68343059f400f",
              "IPY_MODEL_1757d48a75804508acbcd0f539932da0",
              "IPY_MODEL_d82d39059a7c4d0f815674519c3e2a46"
            ],
            "layout": "IPY_MODEL_5902f24db72b492bb559698ee6cc38a5"
          }
        },
        "345e4a1da1dc4388afe68343059f400f": {
          "model_module": "@jupyter-widgets/controls",
          "model_name": "HTMLModel",
          "model_module_version": "1.5.0",
          "state": {
            "_dom_classes": [],
            "_model_module": "@jupyter-widgets/controls",
            "_model_module_version": "1.5.0",
            "_model_name": "HTMLModel",
            "_view_count": null,
            "_view_module": "@jupyter-widgets/controls",
            "_view_module_version": "1.5.0",
            "_view_name": "HTMLView",
            "description": "",
            "description_tooltip": null,
            "layout": "IPY_MODEL_200a3b6d56344c4687dad711adfb7929",
            "placeholder": "​",
            "style": "IPY_MODEL_13e9782813ca42268fcfc2f264b5100c",
            "value": ""
          }
        },
        "1757d48a75804508acbcd0f539932da0": {
          "model_module": "@jupyter-widgets/controls",
          "model_name": "FloatProgressModel",
          "model_module_version": "1.5.0",
          "state": {
            "_dom_classes": [],
            "_model_module": "@jupyter-widgets/controls",
            "_model_module_version": "1.5.0",
            "_model_name": "FloatProgressModel",
            "_view_count": null,
            "_view_module": "@jupyter-widgets/controls",
            "_view_module_version": "1.5.0",
            "_view_name": "ProgressView",
            "bar_style": "info",
            "description": "",
            "description_tooltip": null,
            "layout": "IPY_MODEL_01d35792e35d427dbfac6b21fcd67f8a",
            "max": 1,
            "min": 0,
            "orientation": "horizontal",
            "style": "IPY_MODEL_dc94764ae23c454da6b66cb687b89ae3",
            "value": 1
          }
        },
        "d82d39059a7c4d0f815674519c3e2a46": {
          "model_module": "@jupyter-widgets/controls",
          "model_name": "HTMLModel",
          "model_module_version": "1.5.0",
          "state": {
            "_dom_classes": [],
            "_model_module": "@jupyter-widgets/controls",
            "_model_module_version": "1.5.0",
            "_model_name": "HTMLModel",
            "_view_count": null,
            "_view_module": "@jupyter-widgets/controls",
            "_view_module_version": "1.5.0",
            "_view_name": "HTMLView",
            "description": "",
            "description_tooltip": null,
            "layout": "IPY_MODEL_bc1e14118d68494ebe69c66578c3b4f3",
            "placeholder": "​",
            "style": "IPY_MODEL_020766645fe5462992695a7816ad7ecc",
            "value": " 1615/0 [00:04&lt;00:00, 227.22 examples/s]"
          }
        },
        "5902f24db72b492bb559698ee6cc38a5": {
          "model_module": "@jupyter-widgets/base",
          "model_name": "LayoutModel",
          "model_module_version": "1.2.0",
          "state": {
            "_model_module": "@jupyter-widgets/base",
            "_model_module_version": "1.2.0",
            "_model_name": "LayoutModel",
            "_view_count": null,
            "_view_module": "@jupyter-widgets/base",
            "_view_module_version": "1.2.0",
            "_view_name": "LayoutView",
            "align_content": null,
            "align_items": null,
            "align_self": null,
            "border": null,
            "bottom": null,
            "display": null,
            "flex": null,
            "flex_flow": null,
            "grid_area": null,
            "grid_auto_columns": null,
            "grid_auto_flow": null,
            "grid_auto_rows": null,
            "grid_column": null,
            "grid_gap": null,
            "grid_row": null,
            "grid_template_areas": null,
            "grid_template_columns": null,
            "grid_template_rows": null,
            "height": null,
            "justify_content": null,
            "justify_items": null,
            "left": null,
            "margin": null,
            "max_height": null,
            "max_width": null,
            "min_height": null,
            "min_width": null,
            "object_fit": null,
            "object_position": null,
            "order": null,
            "overflow": null,
            "overflow_x": null,
            "overflow_y": null,
            "padding": null,
            "right": null,
            "top": null,
            "visibility": null,
            "width": null
          }
        },
        "200a3b6d56344c4687dad711adfb7929": {
          "model_module": "@jupyter-widgets/base",
          "model_name": "LayoutModel",
          "model_module_version": "1.2.0",
          "state": {
            "_model_module": "@jupyter-widgets/base",
            "_model_module_version": "1.2.0",
            "_model_name": "LayoutModel",
            "_view_count": null,
            "_view_module": "@jupyter-widgets/base",
            "_view_module_version": "1.2.0",
            "_view_name": "LayoutView",
            "align_content": null,
            "align_items": null,
            "align_self": null,
            "border": null,
            "bottom": null,
            "display": null,
            "flex": null,
            "flex_flow": null,
            "grid_area": null,
            "grid_auto_columns": null,
            "grid_auto_flow": null,
            "grid_auto_rows": null,
            "grid_column": null,
            "grid_gap": null,
            "grid_row": null,
            "grid_template_areas": null,
            "grid_template_columns": null,
            "grid_template_rows": null,
            "height": null,
            "justify_content": null,
            "justify_items": null,
            "left": null,
            "margin": null,
            "max_height": null,
            "max_width": null,
            "min_height": null,
            "min_width": null,
            "object_fit": null,
            "object_position": null,
            "order": null,
            "overflow": null,
            "overflow_x": null,
            "overflow_y": null,
            "padding": null,
            "right": null,
            "top": null,
            "visibility": null,
            "width": null
          }
        },
        "13e9782813ca42268fcfc2f264b5100c": {
          "model_module": "@jupyter-widgets/controls",
          "model_name": "DescriptionStyleModel",
          "model_module_version": "1.5.0",
          "state": {
            "_model_module": "@jupyter-widgets/controls",
            "_model_module_version": "1.5.0",
            "_model_name": "DescriptionStyleModel",
            "_view_count": null,
            "_view_module": "@jupyter-widgets/base",
            "_view_module_version": "1.2.0",
            "_view_name": "StyleView",
            "description_width": ""
          }
        },
        "01d35792e35d427dbfac6b21fcd67f8a": {
          "model_module": "@jupyter-widgets/base",
          "model_name": "LayoutModel",
          "model_module_version": "1.2.0",
          "state": {
            "_model_module": "@jupyter-widgets/base",
            "_model_module_version": "1.2.0",
            "_model_name": "LayoutModel",
            "_view_count": null,
            "_view_module": "@jupyter-widgets/base",
            "_view_module_version": "1.2.0",
            "_view_name": "LayoutView",
            "align_content": null,
            "align_items": null,
            "align_self": null,
            "border": null,
            "bottom": null,
            "display": null,
            "flex": null,
            "flex_flow": null,
            "grid_area": null,
            "grid_auto_columns": null,
            "grid_auto_flow": null,
            "grid_auto_rows": null,
            "grid_column": null,
            "grid_gap": null,
            "grid_row": null,
            "grid_template_areas": null,
            "grid_template_columns": null,
            "grid_template_rows": null,
            "height": null,
            "justify_content": null,
            "justify_items": null,
            "left": null,
            "margin": null,
            "max_height": null,
            "max_width": null,
            "min_height": null,
            "min_width": null,
            "object_fit": null,
            "object_position": null,
            "order": null,
            "overflow": null,
            "overflow_x": null,
            "overflow_y": null,
            "padding": null,
            "right": null,
            "top": null,
            "visibility": null,
            "width": "20px"
          }
        },
        "dc94764ae23c454da6b66cb687b89ae3": {
          "model_module": "@jupyter-widgets/controls",
          "model_name": "ProgressStyleModel",
          "model_module_version": "1.5.0",
          "state": {
            "_model_module": "@jupyter-widgets/controls",
            "_model_module_version": "1.5.0",
            "_model_name": "ProgressStyleModel",
            "_view_count": null,
            "_view_module": "@jupyter-widgets/base",
            "_view_module_version": "1.2.0",
            "_view_name": "StyleView",
            "bar_color": null,
            "description_width": ""
          }
        },
        "bc1e14118d68494ebe69c66578c3b4f3": {
          "model_module": "@jupyter-widgets/base",
          "model_name": "LayoutModel",
          "model_module_version": "1.2.0",
          "state": {
            "_model_module": "@jupyter-widgets/base",
            "_model_module_version": "1.2.0",
            "_model_name": "LayoutModel",
            "_view_count": null,
            "_view_module": "@jupyter-widgets/base",
            "_view_module_version": "1.2.0",
            "_view_name": "LayoutView",
            "align_content": null,
            "align_items": null,
            "align_self": null,
            "border": null,
            "bottom": null,
            "display": null,
            "flex": null,
            "flex_flow": null,
            "grid_area": null,
            "grid_auto_columns": null,
            "grid_auto_flow": null,
            "grid_auto_rows": null,
            "grid_column": null,
            "grid_gap": null,
            "grid_row": null,
            "grid_template_areas": null,
            "grid_template_columns": null,
            "grid_template_rows": null,
            "height": null,
            "justify_content": null,
            "justify_items": null,
            "left": null,
            "margin": null,
            "max_height": null,
            "max_width": null,
            "min_height": null,
            "min_width": null,
            "object_fit": null,
            "object_position": null,
            "order": null,
            "overflow": null,
            "overflow_x": null,
            "overflow_y": null,
            "padding": null,
            "right": null,
            "top": null,
            "visibility": null,
            "width": null
          }
        },
        "020766645fe5462992695a7816ad7ecc": {
          "model_module": "@jupyter-widgets/controls",
          "model_name": "DescriptionStyleModel",
          "model_module_version": "1.5.0",
          "state": {
            "_model_module": "@jupyter-widgets/controls",
            "_model_module_version": "1.5.0",
            "_model_name": "DescriptionStyleModel",
            "_view_count": null,
            "_view_module": "@jupyter-widgets/base",
            "_view_module_version": "1.2.0",
            "_view_name": "StyleView",
            "description_width": ""
          }
        },
        "b40a394ad8fc458699ab7b5a55bdf22e": {
          "model_module": "@jupyter-widgets/controls",
          "model_name": "HBoxModel",
          "model_module_version": "1.5.0",
          "state": {
            "_dom_classes": [],
            "_model_module": "@jupyter-widgets/controls",
            "_model_module_version": "1.5.0",
            "_model_name": "HBoxModel",
            "_view_count": null,
            "_view_module": "@jupyter-widgets/controls",
            "_view_module_version": "1.5.0",
            "_view_name": "HBoxView",
            "box_style": "",
            "children": [
              "IPY_MODEL_c93f7d57842248ec99c484747baf2c51",
              "IPY_MODEL_a338a7d0d2164b5e9338f5d672523470",
              "IPY_MODEL_2d3ec7cbadfc49129b0db2a747986567"
            ],
            "layout": "IPY_MODEL_64e3e58f78754665a38f33ca56d9308c"
          }
        },
        "c93f7d57842248ec99c484747baf2c51": {
          "model_module": "@jupyter-widgets/controls",
          "model_name": "HTMLModel",
          "model_module_version": "1.5.0",
          "state": {
            "_dom_classes": [],
            "_model_module": "@jupyter-widgets/controls",
            "_model_module_version": "1.5.0",
            "_model_name": "HTMLModel",
            "_view_count": null,
            "_view_module": "@jupyter-widgets/controls",
            "_view_module_version": "1.5.0",
            "_view_name": "HTMLView",
            "description": "",
            "description_tooltip": null,
            "layout": "IPY_MODEL_8e0007a0ca014ca7be25e8f8a840bcd2",
            "placeholder": "​",
            "style": "IPY_MODEL_66336c38e3304430867948452c9f94e0",
            "value": ""
          }
        },
        "a338a7d0d2164b5e9338f5d672523470": {
          "model_module": "@jupyter-widgets/controls",
          "model_name": "FloatProgressModel",
          "model_module_version": "1.5.0",
          "state": {
            "_dom_classes": [],
            "_model_module": "@jupyter-widgets/controls",
            "_model_module_version": "1.5.0",
            "_model_name": "FloatProgressModel",
            "_view_count": null,
            "_view_module": "@jupyter-widgets/controls",
            "_view_module_version": "1.5.0",
            "_view_name": "ProgressView",
            "bar_style": "info",
            "description": "",
            "description_tooltip": null,
            "layout": "IPY_MODEL_de22ebb01c9b499493a8b9914ba15931",
            "max": 1,
            "min": 0,
            "orientation": "horizontal",
            "style": "IPY_MODEL_830d98b05d88448b95a6c5b592ea0ca7",
            "value": 1
          }
        },
        "2d3ec7cbadfc49129b0db2a747986567": {
          "model_module": "@jupyter-widgets/controls",
          "model_name": "HTMLModel",
          "model_module_version": "1.5.0",
          "state": {
            "_dom_classes": [],
            "_model_module": "@jupyter-widgets/controls",
            "_model_module_version": "1.5.0",
            "_model_name": "HTMLModel",
            "_view_count": null,
            "_view_module": "@jupyter-widgets/controls",
            "_view_module_version": "1.5.0",
            "_view_name": "HTMLView",
            "description": "",
            "description_tooltip": null,
            "layout": "IPY_MODEL_a48c4d7ad9744131a6ddb5c947dca5ca",
            "placeholder": "​",
            "style": "IPY_MODEL_e158188c0975439b958c33678f9824af",
            "value": " 275/0 [00:04&lt;00:00, 148.70 examples/s]"
          }
        },
        "64e3e58f78754665a38f33ca56d9308c": {
          "model_module": "@jupyter-widgets/base",
          "model_name": "LayoutModel",
          "model_module_version": "1.2.0",
          "state": {
            "_model_module": "@jupyter-widgets/base",
            "_model_module_version": "1.2.0",
            "_model_name": "LayoutModel",
            "_view_count": null,
            "_view_module": "@jupyter-widgets/base",
            "_view_module_version": "1.2.0",
            "_view_name": "LayoutView",
            "align_content": null,
            "align_items": null,
            "align_self": null,
            "border": null,
            "bottom": null,
            "display": null,
            "flex": null,
            "flex_flow": null,
            "grid_area": null,
            "grid_auto_columns": null,
            "grid_auto_flow": null,
            "grid_auto_rows": null,
            "grid_column": null,
            "grid_gap": null,
            "grid_row": null,
            "grid_template_areas": null,
            "grid_template_columns": null,
            "grid_template_rows": null,
            "height": null,
            "justify_content": null,
            "justify_items": null,
            "left": null,
            "margin": null,
            "max_height": null,
            "max_width": null,
            "min_height": null,
            "min_width": null,
            "object_fit": null,
            "object_position": null,
            "order": null,
            "overflow": null,
            "overflow_x": null,
            "overflow_y": null,
            "padding": null,
            "right": null,
            "top": null,
            "visibility": null,
            "width": null
          }
        },
        "8e0007a0ca014ca7be25e8f8a840bcd2": {
          "model_module": "@jupyter-widgets/base",
          "model_name": "LayoutModel",
          "model_module_version": "1.2.0",
          "state": {
            "_model_module": "@jupyter-widgets/base",
            "_model_module_version": "1.2.0",
            "_model_name": "LayoutModel",
            "_view_count": null,
            "_view_module": "@jupyter-widgets/base",
            "_view_module_version": "1.2.0",
            "_view_name": "LayoutView",
            "align_content": null,
            "align_items": null,
            "align_self": null,
            "border": null,
            "bottom": null,
            "display": null,
            "flex": null,
            "flex_flow": null,
            "grid_area": null,
            "grid_auto_columns": null,
            "grid_auto_flow": null,
            "grid_auto_rows": null,
            "grid_column": null,
            "grid_gap": null,
            "grid_row": null,
            "grid_template_areas": null,
            "grid_template_columns": null,
            "grid_template_rows": null,
            "height": null,
            "justify_content": null,
            "justify_items": null,
            "left": null,
            "margin": null,
            "max_height": null,
            "max_width": null,
            "min_height": null,
            "min_width": null,
            "object_fit": null,
            "object_position": null,
            "order": null,
            "overflow": null,
            "overflow_x": null,
            "overflow_y": null,
            "padding": null,
            "right": null,
            "top": null,
            "visibility": null,
            "width": null
          }
        },
        "66336c38e3304430867948452c9f94e0": {
          "model_module": "@jupyter-widgets/controls",
          "model_name": "DescriptionStyleModel",
          "model_module_version": "1.5.0",
          "state": {
            "_model_module": "@jupyter-widgets/controls",
            "_model_module_version": "1.5.0",
            "_model_name": "DescriptionStyleModel",
            "_view_count": null,
            "_view_module": "@jupyter-widgets/base",
            "_view_module_version": "1.2.0",
            "_view_name": "StyleView",
            "description_width": ""
          }
        },
        "de22ebb01c9b499493a8b9914ba15931": {
          "model_module": "@jupyter-widgets/base",
          "model_name": "LayoutModel",
          "model_module_version": "1.2.0",
          "state": {
            "_model_module": "@jupyter-widgets/base",
            "_model_module_version": "1.2.0",
            "_model_name": "LayoutModel",
            "_view_count": null,
            "_view_module": "@jupyter-widgets/base",
            "_view_module_version": "1.2.0",
            "_view_name": "LayoutView",
            "align_content": null,
            "align_items": null,
            "align_self": null,
            "border": null,
            "bottom": null,
            "display": null,
            "flex": null,
            "flex_flow": null,
            "grid_area": null,
            "grid_auto_columns": null,
            "grid_auto_flow": null,
            "grid_auto_rows": null,
            "grid_column": null,
            "grid_gap": null,
            "grid_row": null,
            "grid_template_areas": null,
            "grid_template_columns": null,
            "grid_template_rows": null,
            "height": null,
            "justify_content": null,
            "justify_items": null,
            "left": null,
            "margin": null,
            "max_height": null,
            "max_width": null,
            "min_height": null,
            "min_width": null,
            "object_fit": null,
            "object_position": null,
            "order": null,
            "overflow": null,
            "overflow_x": null,
            "overflow_y": null,
            "padding": null,
            "right": null,
            "top": null,
            "visibility": null,
            "width": "20px"
          }
        },
        "830d98b05d88448b95a6c5b592ea0ca7": {
          "model_module": "@jupyter-widgets/controls",
          "model_name": "ProgressStyleModel",
          "model_module_version": "1.5.0",
          "state": {
            "_model_module": "@jupyter-widgets/controls",
            "_model_module_version": "1.5.0",
            "_model_name": "ProgressStyleModel",
            "_view_count": null,
            "_view_module": "@jupyter-widgets/base",
            "_view_module_version": "1.2.0",
            "_view_name": "StyleView",
            "bar_color": null,
            "description_width": ""
          }
        },
        "a48c4d7ad9744131a6ddb5c947dca5ca": {
          "model_module": "@jupyter-widgets/base",
          "model_name": "LayoutModel",
          "model_module_version": "1.2.0",
          "state": {
            "_model_module": "@jupyter-widgets/base",
            "_model_module_version": "1.2.0",
            "_model_name": "LayoutModel",
            "_view_count": null,
            "_view_module": "@jupyter-widgets/base",
            "_view_module_version": "1.2.0",
            "_view_name": "LayoutView",
            "align_content": null,
            "align_items": null,
            "align_self": null,
            "border": null,
            "bottom": null,
            "display": null,
            "flex": null,
            "flex_flow": null,
            "grid_area": null,
            "grid_auto_columns": null,
            "grid_auto_flow": null,
            "grid_auto_rows": null,
            "grid_column": null,
            "grid_gap": null,
            "grid_row": null,
            "grid_template_areas": null,
            "grid_template_columns": null,
            "grid_template_rows": null,
            "height": null,
            "justify_content": null,
            "justify_items": null,
            "left": null,
            "margin": null,
            "max_height": null,
            "max_width": null,
            "min_height": null,
            "min_width": null,
            "object_fit": null,
            "object_position": null,
            "order": null,
            "overflow": null,
            "overflow_x": null,
            "overflow_y": null,
            "padding": null,
            "right": null,
            "top": null,
            "visibility": null,
            "width": null
          }
        },
        "e158188c0975439b958c33678f9824af": {
          "model_module": "@jupyter-widgets/controls",
          "model_name": "DescriptionStyleModel",
          "model_module_version": "1.5.0",
          "state": {
            "_model_module": "@jupyter-widgets/controls",
            "_model_module_version": "1.5.0",
            "_model_name": "DescriptionStyleModel",
            "_view_count": null,
            "_view_module": "@jupyter-widgets/base",
            "_view_module_version": "1.2.0",
            "_view_name": "StyleView",
            "description_width": ""
          }
        },
        "5535514e75f44d38b1693379a71cfa8c": {
          "model_module": "@jupyter-widgets/controls",
          "model_name": "HBoxModel",
          "model_module_version": "1.5.0",
          "state": {
            "_dom_classes": [],
            "_model_module": "@jupyter-widgets/controls",
            "_model_module_version": "1.5.0",
            "_model_name": "HBoxModel",
            "_view_count": null,
            "_view_module": "@jupyter-widgets/controls",
            "_view_module_version": "1.5.0",
            "_view_name": "HBoxView",
            "box_style": "",
            "children": [
              "IPY_MODEL_7fc3b70f862b4a0b8fce6b0e81a2cea6",
              "IPY_MODEL_e6eddad341e14241acb88cad6caf5f6a",
              "IPY_MODEL_f6fff57457ea47ae877d726b8e445571"
            ],
            "layout": "IPY_MODEL_1295a31bd0ff44229784e0c6db8c0f3e"
          }
        },
        "7fc3b70f862b4a0b8fce6b0e81a2cea6": {
          "model_module": "@jupyter-widgets/controls",
          "model_name": "HTMLModel",
          "model_module_version": "1.5.0",
          "state": {
            "_dom_classes": [],
            "_model_module": "@jupyter-widgets/controls",
            "_model_module_version": "1.5.0",
            "_model_name": "HTMLModel",
            "_view_count": null,
            "_view_module": "@jupyter-widgets/controls",
            "_view_module_version": "1.5.0",
            "_view_name": "HTMLView",
            "description": "",
            "description_tooltip": null,
            "layout": "IPY_MODEL_c5984b1550ae4ba08de5c10c2bd96ce0",
            "placeholder": "​",
            "style": "IPY_MODEL_f8b5bcdd0dae402cb00ac6c5bcb9210a",
            "value": ""
          }
        },
        "e6eddad341e14241acb88cad6caf5f6a": {
          "model_module": "@jupyter-widgets/controls",
          "model_name": "FloatProgressModel",
          "model_module_version": "1.5.0",
          "state": {
            "_dom_classes": [],
            "_model_module": "@jupyter-widgets/controls",
            "_model_module_version": "1.5.0",
            "_model_name": "FloatProgressModel",
            "_view_count": null,
            "_view_module": "@jupyter-widgets/controls",
            "_view_module_version": "1.5.0",
            "_view_name": "ProgressView",
            "bar_style": "info",
            "description": "",
            "description_tooltip": null,
            "layout": "IPY_MODEL_2e3303ff812a4ff7a05c02459f900804",
            "max": 1,
            "min": 0,
            "orientation": "horizontal",
            "style": "IPY_MODEL_2ee5ccf3ead3426daa2ee7dbf56f46f0",
            "value": 1
          }
        },
        "f6fff57457ea47ae877d726b8e445571": {
          "model_module": "@jupyter-widgets/controls",
          "model_name": "HTMLModel",
          "model_module_version": "1.5.0",
          "state": {
            "_dom_classes": [],
            "_model_module": "@jupyter-widgets/controls",
            "_model_module_version": "1.5.0",
            "_model_name": "HTMLModel",
            "_view_count": null,
            "_view_module": "@jupyter-widgets/controls",
            "_view_module_version": "1.5.0",
            "_view_name": "HTMLView",
            "description": "",
            "description_tooltip": null,
            "layout": "IPY_MODEL_f0d102f8acc34547884b1df11e461f56",
            "placeholder": "​",
            "style": "IPY_MODEL_a17c62d476ad439c906535815ce8e8d1",
            "value": " 1701/0 [00:05&lt;00:00, 227.52 examples/s]"
          }
        },
        "1295a31bd0ff44229784e0c6db8c0f3e": {
          "model_module": "@jupyter-widgets/base",
          "model_name": "LayoutModel",
          "model_module_version": "1.2.0",
          "state": {
            "_model_module": "@jupyter-widgets/base",
            "_model_module_version": "1.2.0",
            "_model_name": "LayoutModel",
            "_view_count": null,
            "_view_module": "@jupyter-widgets/base",
            "_view_module_version": "1.2.0",
            "_view_name": "LayoutView",
            "align_content": null,
            "align_items": null,
            "align_self": null,
            "border": null,
            "bottom": null,
            "display": null,
            "flex": null,
            "flex_flow": null,
            "grid_area": null,
            "grid_auto_columns": null,
            "grid_auto_flow": null,
            "grid_auto_rows": null,
            "grid_column": null,
            "grid_gap": null,
            "grid_row": null,
            "grid_template_areas": null,
            "grid_template_columns": null,
            "grid_template_rows": null,
            "height": null,
            "justify_content": null,
            "justify_items": null,
            "left": null,
            "margin": null,
            "max_height": null,
            "max_width": null,
            "min_height": null,
            "min_width": null,
            "object_fit": null,
            "object_position": null,
            "order": null,
            "overflow": null,
            "overflow_x": null,
            "overflow_y": null,
            "padding": null,
            "right": null,
            "top": null,
            "visibility": null,
            "width": null
          }
        },
        "c5984b1550ae4ba08de5c10c2bd96ce0": {
          "model_module": "@jupyter-widgets/base",
          "model_name": "LayoutModel",
          "model_module_version": "1.2.0",
          "state": {
            "_model_module": "@jupyter-widgets/base",
            "_model_module_version": "1.2.0",
            "_model_name": "LayoutModel",
            "_view_count": null,
            "_view_module": "@jupyter-widgets/base",
            "_view_module_version": "1.2.0",
            "_view_name": "LayoutView",
            "align_content": null,
            "align_items": null,
            "align_self": null,
            "border": null,
            "bottom": null,
            "display": null,
            "flex": null,
            "flex_flow": null,
            "grid_area": null,
            "grid_auto_columns": null,
            "grid_auto_flow": null,
            "grid_auto_rows": null,
            "grid_column": null,
            "grid_gap": null,
            "grid_row": null,
            "grid_template_areas": null,
            "grid_template_columns": null,
            "grid_template_rows": null,
            "height": null,
            "justify_content": null,
            "justify_items": null,
            "left": null,
            "margin": null,
            "max_height": null,
            "max_width": null,
            "min_height": null,
            "min_width": null,
            "object_fit": null,
            "object_position": null,
            "order": null,
            "overflow": null,
            "overflow_x": null,
            "overflow_y": null,
            "padding": null,
            "right": null,
            "top": null,
            "visibility": null,
            "width": null
          }
        },
        "f8b5bcdd0dae402cb00ac6c5bcb9210a": {
          "model_module": "@jupyter-widgets/controls",
          "model_name": "DescriptionStyleModel",
          "model_module_version": "1.5.0",
          "state": {
            "_model_module": "@jupyter-widgets/controls",
            "_model_module_version": "1.5.0",
            "_model_name": "DescriptionStyleModel",
            "_view_count": null,
            "_view_module": "@jupyter-widgets/base",
            "_view_module_version": "1.2.0",
            "_view_name": "StyleView",
            "description_width": ""
          }
        },
        "2e3303ff812a4ff7a05c02459f900804": {
          "model_module": "@jupyter-widgets/base",
          "model_name": "LayoutModel",
          "model_module_version": "1.2.0",
          "state": {
            "_model_module": "@jupyter-widgets/base",
            "_model_module_version": "1.2.0",
            "_model_name": "LayoutModel",
            "_view_count": null,
            "_view_module": "@jupyter-widgets/base",
            "_view_module_version": "1.2.0",
            "_view_name": "LayoutView",
            "align_content": null,
            "align_items": null,
            "align_self": null,
            "border": null,
            "bottom": null,
            "display": null,
            "flex": null,
            "flex_flow": null,
            "grid_area": null,
            "grid_auto_columns": null,
            "grid_auto_flow": null,
            "grid_auto_rows": null,
            "grid_column": null,
            "grid_gap": null,
            "grid_row": null,
            "grid_template_areas": null,
            "grid_template_columns": null,
            "grid_template_rows": null,
            "height": null,
            "justify_content": null,
            "justify_items": null,
            "left": null,
            "margin": null,
            "max_height": null,
            "max_width": null,
            "min_height": null,
            "min_width": null,
            "object_fit": null,
            "object_position": null,
            "order": null,
            "overflow": null,
            "overflow_x": null,
            "overflow_y": null,
            "padding": null,
            "right": null,
            "top": null,
            "visibility": null,
            "width": "20px"
          }
        },
        "2ee5ccf3ead3426daa2ee7dbf56f46f0": {
          "model_module": "@jupyter-widgets/controls",
          "model_name": "ProgressStyleModel",
          "model_module_version": "1.5.0",
          "state": {
            "_model_module": "@jupyter-widgets/controls",
            "_model_module_version": "1.5.0",
            "_model_name": "ProgressStyleModel",
            "_view_count": null,
            "_view_module": "@jupyter-widgets/base",
            "_view_module_version": "1.2.0",
            "_view_name": "StyleView",
            "bar_color": null,
            "description_width": ""
          }
        },
        "f0d102f8acc34547884b1df11e461f56": {
          "model_module": "@jupyter-widgets/base",
          "model_name": "LayoutModel",
          "model_module_version": "1.2.0",
          "state": {
            "_model_module": "@jupyter-widgets/base",
            "_model_module_version": "1.2.0",
            "_model_name": "LayoutModel",
            "_view_count": null,
            "_view_module": "@jupyter-widgets/base",
            "_view_module_version": "1.2.0",
            "_view_name": "LayoutView",
            "align_content": null,
            "align_items": null,
            "align_self": null,
            "border": null,
            "bottom": null,
            "display": null,
            "flex": null,
            "flex_flow": null,
            "grid_area": null,
            "grid_auto_columns": null,
            "grid_auto_flow": null,
            "grid_auto_rows": null,
            "grid_column": null,
            "grid_gap": null,
            "grid_row": null,
            "grid_template_areas": null,
            "grid_template_columns": null,
            "grid_template_rows": null,
            "height": null,
            "justify_content": null,
            "justify_items": null,
            "left": null,
            "margin": null,
            "max_height": null,
            "max_width": null,
            "min_height": null,
            "min_width": null,
            "object_fit": null,
            "object_position": null,
            "order": null,
            "overflow": null,
            "overflow_x": null,
            "overflow_y": null,
            "padding": null,
            "right": null,
            "top": null,
            "visibility": null,
            "width": null
          }
        },
        "a17c62d476ad439c906535815ce8e8d1": {
          "model_module": "@jupyter-widgets/controls",
          "model_name": "DescriptionStyleModel",
          "model_module_version": "1.5.0",
          "state": {
            "_model_module": "@jupyter-widgets/controls",
            "_model_module_version": "1.5.0",
            "_model_name": "DescriptionStyleModel",
            "_view_count": null,
            "_view_module": "@jupyter-widgets/base",
            "_view_module_version": "1.2.0",
            "_view_name": "StyleView",
            "description_width": ""
          }
        }
      }
    }
  },
  "nbformat": 4,
  "nbformat_minor": 0
}